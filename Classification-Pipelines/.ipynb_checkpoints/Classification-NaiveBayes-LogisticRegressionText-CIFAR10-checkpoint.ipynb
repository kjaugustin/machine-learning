{
 "cells": [
  {
   "cell_type": "markdown",
   "metadata": {},
   "source": [
    "# CIFAR10"
   ]
  },
  {
   "cell_type": "markdown",
   "metadata": {},
   "source": [
    "DOWNLOAD DATA FROM [HERE](http://www.cs.toronto.edu/~kriz/cifar-10-python.tar.gz) AND PUT IT TO THE DATA FOLDER\n",
    "\n",
    "The [CIFAR-10](http://www.cs.toronto.edu/~kriz/cifar.html) dataset consists of 60000 32x32 colour images in 10 classes, with 6000 images per class. There are 50000 training images and 10000 test images.\n",
    "\n",
    "The classes are completely mutually exclusive. There is no overlap between automobiles and trucks. \"Automobile\" includes sedans, SUVs, things of that sort. \"Truck\" includes only big trucks. Neither includes pickup trucks. Such a situation is called **multiclass** classification in oppose to **multilabel** classification when each example may have multiple label.\n",
    "\n",
    "One can see state-of-the-art results [here](http://rodrigob.github.io/are_we_there_yet/build/classification_datasets_results.html)"
   ]
  },
  {
   "cell_type": "code",
   "execution_count": 1,
   "metadata": {
    "collapsed": true
   },
   "outputs": [],
   "source": [
    "import _pickle as cPickle\n",
    "import tarfile\n",
    "\n",
    "import numpy as np\n",
    "import pandas as pd\n",
    "\n",
    "from sklearn.linear_model import LogisticRegression\n",
    "from sklearn.model_selection import train_test_split\n",
    "from sklearn.metrics import accuracy_score\n",
    "\n",
    "import matplotlib\n",
    "import matplotlib.pyplot as plt\n",
    "import seaborn as sns\n",
    "\n",
    "%matplotlib inline"
   ]
  },
  {
   "cell_type": "markdown",
   "metadata": {},
   "source": [
    "Set style for plotting"
   ]
  },
  {
   "cell_type": "code",
   "execution_count": 109,
   "metadata": {
    "collapsed": true
   },
   "outputs": [],
   "source": [
    "sns.set(style=\"whitegrid\", font_scale=1.3)\n",
    "matplotlib.rcParams[\"legend.framealpha\"] = 1\n",
    "matplotlib.rcParams[\"legend.frameon\"] = True"
   ]
  },
  {
   "cell_type": "markdown",
   "metadata": {},
   "source": [
    "# Data"
   ]
  },
  {
   "cell_type": "markdown",
   "metadata": {},
   "source": [
    "Unarchive data"
   ]
  },
  {
   "cell_type": "code",
   "execution_count": 110,
   "metadata": {
    "collapsed": false,
    "scrolled": true
   },
   "outputs": [
    {
     "name": "stdout",
     "output_type": "stream",
     "text": [
      "/root/shared/HW/Unit-07-Classification-Pipelines\r\n"
     ]
    }
   ],
   "source": [
    "!pwd"
   ]
  },
  {
   "cell_type": "code",
   "execution_count": 111,
   "metadata": {
    "collapsed": true
   },
   "outputs": [],
   "source": [
    "tar = tarfile.open(\"data/cifar-10-python.tar.gz\", \"r:gz\")\n",
    "tar.extractall(\"data\")\n",
    "tar.close()"
   ]
  },
  {
   "cell_type": "markdown",
   "metadata": {},
   "source": [
    "## Reading"
   ]
  },
  {
   "cell_type": "markdown",
   "metadata": {},
   "source": [
    "Data are stored as a memory dump with python $\\text{dict}$ object. It was created using **pickle** function. To read one should \"unpickle\" it."
   ]
  },
  {
   "cell_type": "code",
   "execution_count": 161,
   "metadata": {
    "collapsed": true
   },
   "outputs": [],
   "source": [
    "def unpickle(file):\n",
    "    fo = open(file, 'rb')\n",
    "    dict = cPickle.load(fo, encoding=\"latin1\")\n",
    "    fo.close()\n",
    "    return dict"
   ]
  },
  {
   "cell_type": "markdown",
   "metadata": {},
   "source": [
    "Data are also splitted in to 5 pieces for conveniece. Let's read them all and concatenate"
   ]
  },
  {
   "cell_type": "code",
   "execution_count": 181,
   "metadata": {
    "collapsed": true
   },
   "outputs": [],
   "source": [
    "for b in range(1, 6):\n",
    "    data_batch = unpickle(\"data/cifar-10-batches-py/data_batch_\" + str(b))\n",
    "    if b == 1:\n",
    "        X_train = data_batch[\"data\"]\n",
    "        y_train = np.array(data_batch[\"labels\"])\n",
    "    else:\n",
    "        X_train = np.append(X_train, data_batch[\"data\"], axis=0)\n",
    "        y_train = np.append(y_train, data_batch[\"labels\"], axis=0)"
   ]
  },
  {
   "cell_type": "markdown",
   "metadata": {},
   "source": [
    "Read test data. In this dataset train/test split is provided by authors of the dataset to be able to consistently evaluate solutions"
   ]
  },
  {
   "cell_type": "code",
   "execution_count": 182,
   "metadata": {
    "collapsed": true
   },
   "outputs": [],
   "source": [
    "data_batch = unpickle(\"data/cifar-10-batches-py/test_batch\")\n",
    "X_test = data_batch[\"data\"]\n",
    "y_test = np.array(data_batch[\"labels\"])"
   ]
  },
  {
   "cell_type": "markdown",
   "metadata": {},
   "source": [
    "Read meta-information file with the names of the classes"
   ]
  },
  {
   "cell_type": "code",
   "execution_count": 183,
   "metadata": {
    "collapsed": true
   },
   "outputs": [],
   "source": [
    "classes = unpickle(\"data/cifar-10-batches-py/batches.meta\")[\"label_names\"]"
   ]
  },
  {
   "cell_type": "markdown",
   "metadata": {},
   "source": [
    "## Pre-processing"
   ]
  },
  {
   "cell_type": "markdown",
   "metadata": {},
   "source": [
    "We have too many data"
   ]
  },
  {
   "cell_type": "code",
   "execution_count": 184,
   "metadata": {
    "collapsed": false
   },
   "outputs": [
    {
     "name": "stdout",
     "output_type": "stream",
     "text": [
      "Train size: 50000\n",
      "Test size: 10000\n"
     ]
    }
   ],
   "source": [
    "print(\"Train size:\", X_train.shape[0])\n",
    "print(\"Test size:\", X_test.shape[0])"
   ]
  },
  {
   "cell_type": "markdown",
   "metadata": {},
   "source": [
    "Let's take only 10% of them to train faster"
   ]
  },
  {
   "cell_type": "code",
   "execution_count": 185,
   "metadata": {
    "collapsed": true
   },
   "outputs": [],
   "source": [
    "subsample_rate = 0.1"
   ]
  },
  {
   "cell_type": "markdown",
   "metadata": {},
   "source": [
    "We want to preserve the same quantity ratio between classes. In python such an option is called **stratification**. Let's randomly (with fixed initial seed for the sake of reproducibility) divide part of train data"
   ]
  },
  {
   "cell_type": "code",
   "execution_count": 186,
   "metadata": {
    "collapsed": false
   },
   "outputs": [
    {
     "name": "stderr",
     "output_type": "stream",
     "text": [
      "/opt/conda/lib/python3.6/site-packages/sklearn/model_selection/_split.py:2010: FutureWarning: From version 0.21, test_size will always complement train_size unless both are specified.\n",
      "  FutureWarning)\n"
     ]
    }
   ],
   "source": [
    "X_train, _, y_train, _ = train_test_split(X_train, y_train, stratify=y_train, train_size=subsample_rate, random_state=42)"
   ]
  },
  {
   "cell_type": "markdown",
   "metadata": {},
   "source": [
    "The same for test"
   ]
  },
  {
   "cell_type": "code",
   "execution_count": 187,
   "metadata": {
    "collapsed": false
   },
   "outputs": [
    {
     "name": "stderr",
     "output_type": "stream",
     "text": [
      "/opt/conda/lib/python3.6/site-packages/sklearn/model_selection/_split.py:2010: FutureWarning: From version 0.21, test_size will always complement train_size unless both are specified.\n",
      "  FutureWarning)\n"
     ]
    }
   ],
   "source": [
    "X_test, _, y_test, _ = train_test_split(X_test, y_test, stratify=y_test, train_size=subsample_rate, random_state=42)"
   ]
  },
  {
   "cell_type": "markdown",
   "metadata": {},
   "source": [
    "Indeed, we preserved the number of objects of each class"
   ]
  },
  {
   "cell_type": "code",
   "execution_count": 188,
   "metadata": {
    "collapsed": false
   },
   "outputs": [
    {
     "data": {
      "text/plain": [
       "[('airplane', 500),\n",
       " ('automobile', 500),\n",
       " ('bird', 500),\n",
       " ('cat', 500),\n",
       " ('deer', 500),\n",
       " ('dog', 500),\n",
       " ('frog', 500),\n",
       " ('horse', 500),\n",
       " ('ship', 500),\n",
       " ('truck', 500)]"
      ]
     },
     "execution_count": 188,
     "metadata": {},
     "output_type": "execute_result"
    }
   ],
   "source": [
    "unique_train = np.unique(y_train, return_counts=True)\n",
    "list(zip(np.array(classes)[unique_train[0]], unique_train[1]))"
   ]
  },
  {
   "cell_type": "markdown",
   "metadata": {},
   "source": [
    "## Visualization"
   ]
  },
  {
   "cell_type": "markdown",
   "metadata": {},
   "source": [
    "For now each object has the following shape"
   ]
  },
  {
   "cell_type": "code",
   "execution_count": 189,
   "metadata": {
    "collapsed": false
   },
   "outputs": [
    {
     "data": {
      "text/plain": [
       "(3072,)"
      ]
     },
     "execution_count": 189,
     "metadata": {},
     "output_type": "execute_result"
    }
   ],
   "source": [
    "X_train[0].shape"
   ]
  },
  {
   "cell_type": "markdown",
   "metadata": {},
   "source": [
    "$3072 = 32 \\times 32 \\times 3$ where $32 \\times 32$ is the size of the image in pixels and $3$ is the number of channels (RGB)\n",
    "\n",
    "To show this array as an image let's reshape it in the needed from with the shape $(32, 32, 1)$"
   ]
  },
  {
   "cell_type": "code",
   "execution_count": 190,
   "metadata": {
    "collapsed": true
   },
   "outputs": [],
   "source": [
    "def show_pic(x):\n",
    "    plt.imshow(x.reshape((3, 32, 32)).transpose(1, 2, 0).astype(\"uint8\"))\n",
    "    plt.axis(\"off\")"
   ]
  },
  {
   "cell_type": "markdown",
   "metadata": {},
   "source": [
    "Draw one pic from each class"
   ]
  },
  {
   "cell_type": "code",
   "execution_count": 191,
   "metadata": {
    "collapsed": true
   },
   "outputs": [],
   "source": [
    "classes_idx_examples = np.zeros(10, dtype=np.int)\n",
    "\n",
    "for i in range(10):\n",
    "    classes_idx_examples[i] = np.where(y_train == i)[0][0]\n",
    "#     print(classes_idx_examples[i])"
   ]
  },
  {
   "cell_type": "code",
   "execution_count": 192,
   "metadata": {
    "collapsed": false,
    "scrolled": true
   },
   "outputs": [
    {
     "data": {
      "image/png": "[encoded data removed]",
      "text/plain": [
       "<matplotlib.figure.Figure at 0x7fc5e43e04a8>"
      ]
     },
     "metadata": {},
     "output_type": "display_data"
    }
   ],
   "source": [
    "plt.figure(figsize=(12, 5))\n",
    "for i in range(10):\n",
    "    plt.subplot(2, 5, i + 1)\n",
    "#     print(X_train[classes_idx_examples[i]])\n",
    "    show_pic(X_train[classes_idx_examples[i]])\n",
    "    plt.title(classes[i])\n"
   ]
  },
  {
   "cell_type": "markdown",
   "metadata": {},
   "source": [
    "# Sklearn Logistic Regression"
   ]
  },
  {
   "cell_type": "markdown",
   "metadata": {},
   "source": [
    "Let's use Sklearn implementation of algorithms to have a benchmark.\n",
    "\n",
    "Also one should **always** track the results of the experiments to be able to compare different approaches. Let's create pandas $\\text{DataFrame}$ for this purpose."
   ]
  },
  {
   "cell_type": "code",
   "execution_count": 193,
   "metadata": {
    "collapsed": true
   },
   "outputs": [],
   "source": [
    "results = pd.DataFrame(columns=[\"Model\", \"Test Accuracy\"])"
   ]
  },
  {
   "cell_type": "markdown",
   "metadata": {},
   "source": [
    "For now it is empty, but will be filled in later"
   ]
  },
  {
   "cell_type": "code",
   "execution_count": 194,
   "metadata": {
    "collapsed": false
   },
   "outputs": [
    {
     "data": {
      "text/html": [
       "<div>\n",
       "<style>\n",
       "    .dataframe thead tr:only-child th {\n",
       "        text-align: right;\n",
       "    }\n",
       "\n",
       "    .dataframe thead th {\n",
       "        text-align: left;\n",
       "    }\n",
       "\n",
       "    .dataframe tbody tr th {\n",
       "        vertical-align: top;\n",
       "    }\n",
       "</style>\n",
       "<table border=\"1\" class=\"dataframe\">\n",
       "  <thead>\n",
       "    <tr style=\"text-align: right;\">\n",
       "      <th></th>\n",
       "      <th>Model</th>\n",
       "      <th>Test Accuracy</th>\n",
       "    </tr>\n",
       "  </thead>\n",
       "  <tbody>\n",
       "  </tbody>\n",
       "</table>\n",
       "</div>"
      ],
      "text/plain": [
       "Empty DataFrame\n",
       "Columns: [Model, Test Accuracy]\n",
       "Index: []"
      ]
     },
     "execution_count": 194,
     "metadata": {},
     "output_type": "execute_result"
    }
   ],
   "source": [
    "results"
   ]
  },
  {
   "cell_type": "markdown",
   "metadata": {},
   "source": [
    "## Defining model"
   ]
  },
  {
   "cell_type": "markdown",
   "metadata": {},
   "source": [
    "Let's try Multinomial Logistic Regression (see theory in lectures)\n",
    "Sklearn implementation of LogRegression implies mandatory usage of regularization (it almost always works better with it preventing overfitting). We want to explore very basic LogRegression model thus to \"disable\" regularization we need to reduce its impact to almost zero. It can be done by setting regularization constant $\\lambda$ to very small value (in sklearn we define inverse regularization constant $C = 1 / \\lambda$ thus we need to make it big)\n",
    "\n",
    "Here we use Sklearn $\\text{LogisticRegression}$ with few options:\n",
    "* $\\text{multi_class} = \\text{\"multinomial\"} -$we want to build softmax classifier (there are other ways of dealing with multiclass setting for Logistic Regression)\n",
    "* $\\text{C} = 10^6-$ for now we don't want to use regularization; $\\text{C}$ is the inverse regularization constant which is $\\text{C} = \\frac{1}{\\lambda}$; thus we should make $\\text{C}$ big to turn off regulazrization\n",
    "* $\\text{solver} = \\text{sag} -$ optimization algorithm to use; Stochastic Average Gradient. Stochastic Gradient Descent method gitters massively. This is due to the not very good approximation of gradient (only by one example). To neglect this error one can simply average gradient across last few steps; that is exectly what $\\text{sag}$ does\n",
    "* $\\text{max_iter} = 15 -$ the number of passes over the training data (aka epochs)"
   ]
  },
  {
   "cell_type": "code",
   "execution_count": 195,
   "metadata": {
    "collapsed": true
   },
   "outputs": [],
   "source": [
    "model_lr_sklearn = LogisticRegression(multi_class=\"multinomial\", C=1e6, solver=\"sag\", max_iter=15)"
   ]
  },
  {
   "cell_type": "markdown",
   "metadata": {},
   "source": [
    "### Fitting"
   ]
  },
  {
   "cell_type": "code",
   "execution_count": 196,
   "metadata": {
    "collapsed": false
   },
   "outputs": [
    {
     "name": "stderr",
     "output_type": "stream",
     "text": [
      "/opt/conda/lib/python3.6/site-packages/sklearn/linear_model/sag.py:326: ConvergenceWarning: The max_iter was reached which means the coef_ did not converge\n",
      "  \"the coef_ did not converge\", ConvergenceWarning)\n"
     ]
    },
    {
     "data": {
      "text/plain": [
       "LogisticRegression(C=1000000.0, class_weight=None, dual=False,\n",
       "          fit_intercept=True, intercept_scaling=1, max_iter=15,\n",
       "          multi_class='multinomial', n_jobs=1, penalty='l2',\n",
       "          random_state=None, solver='sag', tol=0.0001, verbose=0,\n",
       "          warm_start=False)"
      ]
     },
     "execution_count": 196,
     "metadata": {},
     "output_type": "execute_result"
    }
   ],
   "source": [
    "model_lr_sklearn.fit(X_train, y_train)"
   ]
  },
  {
   "cell_type": "markdown",
   "metadata": {},
   "source": [
    "### Evaluation"
   ]
  },
  {
   "cell_type": "markdown",
   "metadata": {},
   "source": [
    "Prediction"
   ]
  },
  {
   "cell_type": "code",
   "execution_count": 197,
   "metadata": {
    "collapsed": true
   },
   "outputs": [],
   "source": [
    "y_pred_test = model_lr_sklearn.predict(X_test)"
   ]
  },
  {
   "cell_type": "markdown",
   "metadata": {},
   "source": [
    "Accuracy"
   ]
  },
  {
   "cell_type": "code",
   "execution_count": 198,
   "metadata": {
    "collapsed": true
   },
   "outputs": [],
   "source": [
    "acc = accuracy_score(y_test, y_pred_test)"
   ]
  },
  {
   "cell_type": "markdown",
   "metadata": {},
   "source": [
    "Keeping table of results up-to-date"
   ]
  },
  {
   "cell_type": "code",
   "execution_count": 199,
   "metadata": {
    "collapsed": false
   },
   "outputs": [
    {
     "data": {
      "text/html": [
       "<div>\n",
       "<style>\n",
       "    .dataframe thead tr:only-child th {\n",
       "        text-align: right;\n",
       "    }\n",
       "\n",
       "    .dataframe thead th {\n",
       "        text-align: left;\n",
       "    }\n",
       "\n",
       "    .dataframe tbody tr th {\n",
       "        vertical-align: top;\n",
       "    }\n",
       "</style>\n",
       "<table border=\"1\" class=\"dataframe\">\n",
       "  <thead>\n",
       "    <tr style=\"text-align: right;\">\n",
       "      <th></th>\n",
       "      <th>Model</th>\n",
       "      <th>Test Accuracy</th>\n",
       "    </tr>\n",
       "  </thead>\n",
       "  <tbody>\n",
       "    <tr>\n",
       "      <th>0</th>\n",
       "      <td>LR Sklearn</td>\n",
       "      <td>0.359</td>\n",
       "    </tr>\n",
       "  </tbody>\n",
       "</table>\n",
       "</div>"
      ],
      "text/plain": [
       "        Model  Test Accuracy\n",
       "0  LR Sklearn          0.359"
      ]
     },
     "execution_count": 199,
     "metadata": {},
     "output_type": "execute_result"
    }
   ],
   "source": [
    "results.loc[len(results)] = [\"LR Sklearn\", np.round(acc, 3)]\n",
    "results"
   ]
  },
  {
   "cell_type": "markdown",
   "metadata": {},
   "source": [
    "Keeping table of results up-to-date"
   ]
  },
  {
   "cell_type": "markdown",
   "metadata": {},
   "source": [
    "# Assignments begin here"
   ]
  },
  {
   "cell_type": "markdown",
   "metadata": {},
   "source": [
    "# The Great Race\n",
    "\n",
    "## BG: Part 1: Pima Diabetes classification\n",
    "\n",
    "It is important to compare the performance of multiple different machine learning algorithms\n",
    "consistently. In this chapter you will discover how you can create a test harness to compare\n",
    "multiple different machine learning algorithms in Python with scikit-learn. You can use this\n",
    "test harness as a template on your own machine learning problems and add more and different\n",
    "algorithms to compare. After completing this lesson you will know:\n",
    "\n",
    "1. How to formulate an experiment to directly compare machine learning algorithms.\n",
    "2. A reusable template for evaluating the performance of multiple algorithms on one dataset.\n",
    "3. How to report and visualize the results when comparing algorithm performance.\n",
    "\n",
    "In the example below six different classification\n",
    "algorithms (some of whom you will recognize!) are compared on a single dataset:\n",
    "\n",
    "*  Logistic Regression\n",
    "*  Linear Discriminant Analysis\n",
    "*  k-Nearest Neighbors\n",
    "*  Classification and Regression Trees\n",
    "*  Naive Bayes\n",
    "*  Support Vector Machines.\n",
    "\n",
    "The dataset is the Pima Indians onset of diabetes problem. The problem has two classes and\n",
    "eight numeric input variables of varying scales. The 10-fold cross-validation procedure is used to\n",
    "evaluate each algorithm, importantly configured with the same random seed to ensure that the\n",
    "same splits to the training data are performed and that each algorithm is evaluated in precisely\n",
    "the same way. Each algorithm is given a short name, useful for summarizing results afterward."
   ]
  },
  {
   "cell_type": "markdown",
   "metadata": {},
   "source": [
    "### Cross-Validation"
   ]
  },
  {
   "cell_type": "markdown",
   "metadata": {},
   "source": [
    "The common method to evaluate the model is cross-validation. The idea behind it is to divide the whole set of objects into $k$ sections and then use one section as a test set and other $k-1$ as a train (repeat it with all the sections).\n",
    "\n",
    "There is a special function for this in sklearn called $\\text{KFold}$. It creates set of indices for cross-validation."
   ]
  },
  {
   "cell_type": "code",
   "execution_count": 27,
   "metadata": {
    "collapsed": true
   },
   "outputs": [],
   "source": [
    "#e.g., \n",
    "from sklearn.model_selection import KFold\n",
    "cv = KFold(n_splits=5, shuffle=True, random_state=42)"
   ]
  },
  {
   "cell_type": "markdown",
   "metadata": {},
   "source": [
    "Next step is to do everything that we've done before in a loop:\n",
    "* Split\n",
    "* Train\n",
    "* Evaluate\n",
    "\n",
    "And store the average value of the accuracy. Running the code below provides a list of each \"algorithm short name\", the mean accuracy and the standard deviation accuracy."
   ]
  },
  {
   "cell_type": "code",
   "execution_count": 28,
   "metadata": {
    "code_folding": [],
    "collapsed": false
   },
   "outputs": [
    {
     "name": "stdout",
     "output_type": "stream",
     "text": [
      "LR: 0.769515 (0.048411)\n",
      "LDA: 0.773462 (0.051592)\n",
      "KNN: 0.726555 (0.061821)\n",
      "CART: 0.692618 (0.077714)\n",
      "NB: 0.755178 (0.042766)\n",
      "SVM: 0.651025 (0.072141)\n"
     ]
    },
    {
     "data": {
      "image/png": "[encoded data removed]",
      "text/plain": [
       "<matplotlib.figure.Figure at 0x7faad415f550>"
      ]
     },
     "metadata": {},
     "output_type": "display_data"
    }
   ],
   "source": [
    "# Compare Algorithms\n",
    "from pandas import read_csv\n",
    "from matplotlib import pyplot\n",
    "from sklearn.model_selection import KFold\n",
    "from sklearn.model_selection import cross_val_score\n",
    "from sklearn.linear_model import LogisticRegression\n",
    "from sklearn.tree import DecisionTreeClassifier\n",
    "from sklearn.neighbors import KNeighborsClassifier\n",
    "from sklearn.discriminant_analysis import LinearDiscriminantAnalysis\n",
    "from sklearn.naive_bayes import GaussianNB\n",
    "from sklearn.svm import SVC\n",
    "# load dataset\n",
    "filename = 'pima-indians-diabetes.data.csv'\n",
    "names = ['preg', 'plas', 'pres', 'skin', 'test', 'mass', 'pedi', 'age', 'class']\n",
    "dataframe = read_csv(filename, names=names)\n",
    "array = dataframe.values\n",
    "X = array[:,0:8]\n",
    "Y = array[:,8]\n",
    "# prepare models\n",
    "models = []\n",
    "models.append(('LR', LogisticRegression()))\n",
    "models.append(('LDA', LinearDiscriminantAnalysis()))\n",
    "models.append(('KNN', KNeighborsClassifier()))\n",
    "models.append(('CART', DecisionTreeClassifier()))\n",
    "models.append(('NB', GaussianNB()))\n",
    "models.append(('SVM', SVC()))\n",
    "# evaluate each model in turn\n",
    "results = []\n",
    "names = []\n",
    "scoring = 'accuracy'\n",
    "for name, model in models:\n",
    "    kfold = KFold(n_splits=10, random_state=7)\n",
    "    cv_results = cross_val_score(model, X, Y, cv=kfold, scoring=scoring)\n",
    "    results.append(cv_results)\n",
    "    names.append(name)\n",
    "    msg = \"%s: %f (%f)\" % (name, cv_results.mean(), cv_results.std())\n",
    "    print(msg)\n",
    "# boxplot algorithm comparison\n",
    "fig = pyplot.figure()\n",
    "fig.suptitle('Classification Algorithm Comparison')\n",
    "ax = fig.add_subplot(111)\n",
    "pyplot.boxplot(results)\n",
    "ax.set_xticklabels(names)\n",
    "pyplot.grid()\n",
    "pyplot.show()\n"
   ]
  },
  {
   "cell_type": "markdown",
   "metadata": {},
   "source": [
    "Above we produced a box and whisker plot showing the spread of the accuracy scores\n",
    "across each cross-validation fold for each algorithm.\n",
    "\n",
    "From these results, it would suggest that both logistic regression and linear discriminant\n",
    "analysis are perhaps worthy of further study on this problem."
   ]
  },
  {
   "cell_type": "markdown",
   "metadata": {},
   "source": [
    "## Task: CIFAR10 Great Race \n",
    "Repeat the above RACE for the CIFAR10 dataset and draw some conclusions"
   ]
  },
  {
   "cell_type": "code",
   "execution_count": 30,
   "metadata": {
    "collapsed": false
   },
   "outputs": [
    {
     "name": "stdout",
     "output_type": "stream",
     "text": [
      "LR: 0.225000 (0.016401)\n"
     ]
    },
    {
     "name": "stderr",
     "output_type": "stream",
     "text": [
      "/opt/conda/lib/python3.6/site-packages/sklearn/discriminant_analysis.py:442: UserWarning: The priors do not sum to 1. Renormalizing\n",
      "  UserWarning)\n",
      "/opt/conda/lib/python3.6/site-packages/sklearn/discriminant_analysis.py:442: UserWarning: The priors do not sum to 1. Renormalizing\n",
      "  UserWarning)\n",
      "/opt/conda/lib/python3.6/site-packages/sklearn/discriminant_analysis.py:442: UserWarning: The priors do not sum to 1. Renormalizing\n",
      "  UserWarning)\n"
     ]
    },
    {
     "name": "stdout",
     "output_type": "stream",
     "text": [
      "LDA: 0.176200 (0.016086)\n",
      "KNN: 0.274600 (0.011526)\n",
      "CART: 0.215600 (0.022694)\n",
      "NB: 0.293200 (0.019904)\n",
      "SVM: 0.079200 (0.006145)\n"
     ]
    },
    {
     "data": {
      "image/png": "[encoded data removed]",
      "text/plain": [
       "<matplotlib.figure.Figure at 0x7faa9b143fd0>"
      ]
     },
     "metadata": {},
     "output_type": "display_data"
    }
   ],
   "source": [
    "# Compare Algorithms\n",
    "from pandas import read_csv\n",
    "from matplotlib import pyplot\n",
    "from sklearn.model_selection import KFold\n",
    "from sklearn.model_selection import cross_val_score\n",
    "from sklearn.linear_model import LogisticRegression\n",
    "from sklearn.tree import DecisionTreeClassifier\n",
    "from sklearn.neighbors import KNeighborsClassifier\n",
    "from sklearn.discriminant_analysis import LinearDiscriminantAnalysis\n",
    "from sklearn.naive_bayes import GaussianNB\n",
    "from sklearn.svm import SVC\n",
    "\n",
    "# prepare models\n",
    "models = []\n",
    "models.append(('LR', LogisticRegression()))\n",
    "models.append(('LDA', LinearDiscriminantAnalysis()))\n",
    "models.append(('KNN', KNeighborsClassifier()))\n",
    "models.append(('CART', DecisionTreeClassifier()))\n",
    "models.append(('NB', GaussianNB()))\n",
    "models.append(('SVM', SVC()))\n",
    "# evaluate each model in turn\n",
    "results = []\n",
    "names = []\n",
    "scoring = 'accuracy'\n",
    "for name, model in models:\n",
    "    kfold = KFold(n_splits=10, random_state=7)\n",
    "    cv_results = cross_val_score(model, X_train, y_train, cv=kfold, scoring=scoring)\n",
    "    results.append(cv_results)\n",
    "    names.append(name)\n",
    "    msg = \"%s: %f (%f)\" % (name, cv_results.mean(), cv_results.std())\n",
    "    print(msg)\n",
    "# boxplot algorithm comparison\n",
    "fig = pyplot.figure()\n",
    "fig.suptitle('Classification Algorithm Comparison')\n",
    "ax = fig.add_subplot(111)\n",
    "pyplot.boxplot(results)\n",
    "ax.set_xticklabels(names)\n",
    "pyplot.grid()\n",
    "pyplot.show()\n"
   ]
  },
  {
   "cell_type": "markdown",
   "metadata": {},
   "source": [
    "# Background: HyperParameter tuning on steroids\n",
    "\n",
    "Machine learning models are parameterized so that their behavior can be tuned for a given problem. Models can have many parameters and finding the best combination of parameters can be treated as a search problem. In this section you will discover how to tune the parameters of machine learning algorithms in Python using the scikit-learn.\n",
    "\n",
    "Grid search is an approach to parameter tuning that will methodically build and evaluate a model for each combination of algorithm parameters specified in a grid. You can perform a grid search using the GridSearchCV class1. \n",
    "In this section we will focus on setting up a pipeline for text classifiction, though it can be adapted to any machine learning problem."
   ]
  },
  {
   "cell_type": "markdown",
   "metadata": {},
   "source": [
    "## Pima Indian Grid search\n",
    "The example below evaluates different alpha values for the Ridge Regression/LASSO algorithm on the Pima Diabetes binary classifiction data. This is a one-dimensional grid search.\n"
   ]
  },
  {
   "cell_type": "code",
   "execution_count": 2,
   "metadata": {
    "collapsed": false,
    "scrolled": true
   },
   "outputs": [
    {
     "name": "stdout",
     "output_type": "stream",
     "text": [
      "0.279617559313\n",
      "1.0\n"
     ]
    }
   ],
   "source": [
    "# Grid Search for Algorithm Tuning\n",
    "import numpy\n",
    "from pandas import read_csv\n",
    "from sklearn.linear_model import Ridge\n",
    "from sklearn.model_selection import GridSearchCV\n",
    "filename = 'pima-indians-diabetes.data.csv'\n",
    "names = ['preg', 'plas', 'pres', 'skin', 'test', 'mass', 'pedi', 'age', 'class']\n",
    "dataframe = read_csv(filename, names=names)\n",
    "array = dataframe.values\n",
    "X = array[:,0:8]\n",
    "Y = array[:,8]\n",
    "alphas = numpy.array([1,0.1,0.01,0.001,0.0001,0])\n",
    "param_grid = dict(alpha=alphas)\n",
    "model = Ridge()\n",
    "grid = GridSearchCV(estimator=model, param_grid=param_grid)\n",
    "grid.fit(X, Y)\n",
    "print(grid.best_score_)\n",
    "print(grid.best_estimator_.alpha)"
   ]
  },
  {
   "cell_type": "markdown",
   "metadata": {},
   "source": [
    "## Sample pipeline for text feature extraction and evaluation\n",
    "\n",
    "\n",
    "The dataset used in this example is the 20 newsgroups dataset which will be\n",
    "automatically downloaded and then cached and reused for the document\n",
    "classification example.\n",
    "\n",
    "<PRE>\n",
    ">>> from sklearn.datasets import fetch_20newsgroups\n",
    ">>> newsgroups_train = fetch_20newsgroups(subset='train')\n",
    "\n",
    ">>> from pprint import pprint\n",
    ">>> pprint(list(newsgroups_train.target_names))\n",
    "['alt.atheism',\n",
    " 'comp.graphics',\n",
    " 'comp.os.ms-windows.misc',\n",
    " 'comp.sys.ibm.pc.hardware',\n",
    " 'comp.sys.mac.hardware',\n",
    " 'comp.windows.x',\n",
    " 'misc.forsale',\n",
    " 'rec.autos',\n",
    " 'rec.motorcycles',\n",
    " 'rec.sport.baseball',\n",
    " 'rec.sport.hockey',\n",
    " 'sci.crypt',\n",
    " 'sci.electronics',\n",
    " 'sci.med',\n",
    " 'sci.space',\n",
    " 'soc.religion.christian',\n",
    " 'talk.politics.guns',\n",
    " 'talk.politics.mideast',\n",
    " 'talk.politics.misc',\n",
    " 'talk.religion.misc']\n",
    "</PRE>\n",
    "You can adjust the number of categories by giving their names to the dataset\n",
    "loader or setting them to None to get the 20 of them.\n",
    "\n",
    "Here is a sample output of a run on a quad-core machine::\n",
    "\n",
    "<PRE>  Loading 20 newsgroups dataset for categories:\n",
    "  ['alt.atheism', 'talk.religion.misc']\n",
    "  1427 documents\n",
    "  2 categories\n",
    "  \n",
    "  \n",
    "  Performing grid search...\n",
    "  pipeline: ['vect', 'tfidf', 'clf']\n",
    "  parameters:\n",
    "  {'clf__alpha': (1.0000000000000001e-05, 9.9999999999999995e-07),\n",
    "   'clf__n_iter': (10, 50, 80),\n",
    "   'clf__penalty': ('l2', 'elasticnet'),\n",
    "   'tfidf__use_idf': (True, False),\n",
    "   'vect__max_n': (1, 2),\n",
    "   'vect__max_df': (0.5, 0.75, 1.0),\n",
    "   'vect__max_features': (None, 5000, 10000, 50000)}\n",
    "  done in 1737.030s\n",
    "\n",
    "  Best score: 0.940\n",
    "  Best parameters set:\n",
    "      clf__alpha: 9.9999999999999995e-07\n",
    "      clf__n_iter: 50\n",
    "      clf__penalty: 'elasticnet'\n",
    "      tfidf__use_idf: True\n",
    "      vect__max_n: 2\n",
    "      vect__max_df: 0.75\n",
    "      vect__max_features: 50000\n",
    "</PRE>"
   ]
  },
  {
   "cell_type": "markdown",
   "metadata": {},
   "source": [
    "## From documents to a \"document by term\" frequency matrix  "
   ]
  },
  {
   "cell_type": "markdown",
   "metadata": {},
   "source": [
    "Convert a set of  documents to a \"document by term\" frequency matrix\n",
    "\n",
    "The following corpus: \n",
    "\n",
    "`corpus = [\n",
    "    'This is the first document.',\n",
    "    'This is the second second document.',\n",
    "    'And the third one.',\n",
    "    'Is this the first document?',\n",
    "]`\n",
    "\n",
    "gets converted to a \"document by term\" frequency matrix\n",
    "\n",
    "`array([[0, 1, 1, 1, 0, 0, 1, 0, 1],\n",
    "       [0, 1, 0, 1, 0, 2, 1, 0, 1],\n",
    "       [1, 0, 0, 0, 1, 0, 1, 1, 0],\n",
    "       [0, 1, 1, 1, 0, 0, 1, 0, 1]]\n",
    "       `\n",
    "\n",
    "where the 9 columns are labeled with the following 9 words extracted:\n",
    "\n",
    "`['and', 'document', 'first', 'is', 'one',\n",
    "      'second', 'the', 'third', 'this']`\n",
    "      \n",
    "By default, words of length 2 characters or more a kept as the vocabulary.\n",
    "\n",
    "For more details see (here)[http://scikit-learn.org/stable/modules/feature_extraction.html]"
   ]
  },
  {
   "cell_type": "code",
   "execution_count": 3,
   "metadata": {
    "collapsed": true
   },
   "outputs": [],
   "source": [
    "# Let’s use the following corpus (text dataset).\n",
    "corpus = [\n",
    "    'This is the first document.',\n",
    "    'This is the second second document.',\n",
    "    'And the third one.',\n",
    "    'Is this the first document?',\n",
    "]"
   ]
  },
  {
   "cell_type": "code",
   "execution_count": 4,
   "metadata": {
    "collapsed": false
   },
   "outputs": [
    {
     "data": {
      "text/plain": [
       "<4x9 sparse matrix of type '<class 'numpy.int64'>'\n",
       "\twith 19 stored elements in Compressed Sparse Row format>"
      ]
     },
     "execution_count": 4,
     "metadata": {},
     "output_type": "execute_result"
    }
   ],
   "source": [
    "#CountVectorizer implements both tokenization and occurrence counting in a single class:\n",
    "from sklearn.feature_extraction.text import CountVectorizer\n",
    "\n",
    "# Here we will tokenize and count the word occurrences of this minimalistic corpus of text documents:\n",
    "vectorizer = CountVectorizer() \n",
    "X = vectorizer.fit_transform(corpus)\n",
    "X                              \n",
    "#<4x9 sparse matrix of type '<... 'numpy.int64'>'\n",
    "#    with 19 stored elements in Compressed Sparse ... format>"
   ]
  },
  {
   "cell_type": "code",
   "execution_count": 5,
   "metadata": {
    "collapsed": false
   },
   "outputs": [
    {
     "data": {
      "text/plain": [
       "True"
      ]
     },
     "execution_count": 5,
     "metadata": {},
     "output_type": "execute_result"
    }
   ],
   "source": [
    "# The default configuration tokenizes the string by extracting words of at least 2 \n",
    "# letters. The specific function that does this step can be requested explicitly:  \n",
    "analyze = vectorizer.build_analyzer()\n",
    "analyze(\"This is a text document to analyze.\") == (\n",
    "    ['this', 'is', 'text', 'document', 'to', 'analyze'])"
   ]
  },
  {
   "cell_type": "code",
   "execution_count": 6,
   "metadata": {
    "collapsed": false
   },
   "outputs": [
    {
     "data": {
      "text/plain": [
       "True"
      ]
     },
     "execution_count": 6,
     "metadata": {},
     "output_type": "execute_result"
    }
   ],
   "source": [
    "vectorizer.get_feature_names() == (\n",
    "     ['and', 'document', 'first', 'is', 'one',\n",
    "      'second', 'the', 'third', 'this'])"
   ]
  },
  {
   "cell_type": "code",
   "execution_count": 7,
   "metadata": {
    "collapsed": false
   },
   "outputs": [
    {
     "data": {
      "text/plain": [
       "array([[0, 1, 1, 1, 0, 0, 1, 0, 1],\n",
       "       [0, 1, 0, 1, 0, 2, 1, 0, 1],\n",
       "       [1, 0, 0, 0, 1, 0, 1, 1, 0],\n",
       "       [0, 1, 1, 1, 0, 0, 1, 0, 1]], dtype=int64)"
      ]
     },
     "execution_count": 7,
     "metadata": {},
     "output_type": "execute_result"
    }
   ],
   "source": [
    "X.toarray()     #recover document by term frequency matrix        \n",
    "#array([[0, 1, 1, 1, 0, 0, 1, 0, 1],\n",
    "#       [0, 1, 0, 1, 0, 2, 1, 0, 1],\n",
    "#       [1, 0, 0, 0, 1, 0, 1, 1, 0],\n",
    "#       [0, 1, 1, 1, 0, 0, 1, 0, 1]]...)"
   ]
  },
  {
   "cell_type": "markdown",
   "metadata": {},
   "source": [
    "## Text classification pipeline"
   ]
  },
  {
   "cell_type": "markdown",
   "metadata": {},
   "source": [
    "Note below we use a generic Linear classifier class, SGDClassifier.  Here different classifiers can be engaged by specifying different loss fucntions. Here are some of the options (note we will focus on Logistic regression that is engaged thru specifying the loss as `'log'`:\n",
    "\n",
    "\n",
    "`loss : str, default: ‘hinge’\n",
    "\n",
    "The loss function to be used. Defaults to ‘hinge’, which gives a linear SVM.\n",
    "\n",
    "The possible options are ‘hinge’, ‘log’, ‘modified_huber’, ‘squared_hinge’, ‘perceptron’, or a regression loss: ‘squared_loss’, ‘huber’, ‘epsilon_insensitive’, or ‘squared_epsilon_insensitive’.\n",
    "\n",
    "The ‘log’ loss gives logistic regression, a probabilistic classifier. ‘modified_huber’ is another smooth loss that brings tolerance to outliers as well as probability estimates. ‘squared_hinge’ is like hinge but is quadratically penalized. ‘perceptron’ is the linear loss used by the perceptron algorithm. The other losses are designed for regression but can be useful in classification as well; see SGDRegressor for a description.`"
   ]
  },
  {
   "cell_type": "code",
   "execution_count": 8,
   "metadata": {
    "collapsed": false
   },
   "outputs": [
    {
     "name": "stderr",
     "output_type": "stream",
     "text": [
      "Downloading 20news dataset. This may take a few minutes.\n",
      "2018-02-19 08:15:46,331 INFO Downloading 20news dataset. This may take a few minutes.\n",
      "Downloading dataset from https://ndownloader.figshare.com/files/5975967 (14 MB)\n",
      "2018-02-19 08:15:46,334 INFO Downloading dataset from https://ndownloader.figshare.com/files/5975967 (14 MB)\n"
     ]
    },
    {
     "name": "stdout",
     "output_type": "stream",
     "text": [
      "Automatically created module for IPython interactive environment\n",
      "Loading 20 newsgroups dataset for categories:\n",
      "['alt.atheism', 'talk.religion.misc']\n",
      "857 documents\n",
      "2 categories\n",
      "\n",
      "Performing grid search...\n",
      "pipeline: ['vect', 'clf']\n",
      "parameters:\n",
      "{'clf__alpha': (1e-05, 1e-06),\n",
      " 'clf__penalty': ('l1', 'l2', 'elasticnet'),\n",
      " 'vect__max_features': (None, 500, 5000, 10000, 50000),\n",
      " 'vect__ngram_range': ((1, 1), (1, 2))}\n",
      "Fitting 3 folds for each of 60 candidates, totalling 180 fits\n"
     ]
    },
    {
     "name": "stderr",
     "output_type": "stream",
     "text": [
      "/opt/conda/lib/python3.6/site-packages/sklearn/linear_model/stochastic_gradient.py:84: FutureWarning: max_iter and tol parameters have been added in <class 'sklearn.linear_model.stochastic_gradient.SGDClassifier'> in 0.19. If both are left unset, they default to max_iter=5 and tol=None. If tol is not None, max_iter defaults to max_iter=1000. From 0.21, default max_iter will be 1000, and default tol will be 1e-3.\n",
      "  \"and default tol will be 1e-3.\" % type(self), FutureWarning)\n",
      "[Parallel(n_jobs=-1)]: Done  46 tasks      | elapsed:   23.8s\n",
      "[Parallel(n_jobs=-1)]: Done 180 out of 180 | elapsed:  1.5min finished\n"
     ]
    },
    {
     "name": "stdout",
     "output_type": "stream",
     "text": [
      "done in 89.337s\n",
      "\n",
      "Best score: 0.907\n",
      "Best parameters set:\n",
      "\tclf__alpha: 1e-06\n",
      "\tclf__penalty: 'elasticnet'\n",
      "\tvect__max_features: None\n",
      "\tvect__ngram_range: (1, 2)\n"
     ]
    }
   ],
   "source": [
    "# This code is adopted  and has been modified from \n",
    "#\n",
    "# Author: Olivier Grisel <olivier.grisel@ensta.org>\n",
    "#         Peter Prettenhofer <peter.prettenhofer@gmail.com>\n",
    "#         Mathieu Blondel <mathieu@mblondel.org>\n",
    "# License: BSD 3 clause\n",
    "\n",
    "from __future__ import print_function\n",
    "\n",
    "from pprint import pprint\n",
    "from time import time\n",
    "import logging\n",
    "\n",
    "from sklearn.datasets import fetch_20newsgroups\n",
    "from sklearn.feature_extraction.text import CountVectorizer\n",
    "from sklearn.feature_extraction.text import TfidfTransformer\n",
    "from sklearn.linear_model import SGDClassifier\n",
    "from sklearn.model_selection import GridSearchCV\n",
    "from sklearn.pipeline import Pipeline\n",
    "%matplotlib inline\n",
    "\n",
    "print(__doc__)\n",
    "\n",
    "# Display progress logs on stdout\n",
    "logging.basicConfig(level=logging.INFO,\n",
    "                    format='%(asctime)s %(levelname)s %(message)s')\n",
    "\n",
    "\n",
    "# #############################################################################\n",
    "# Load some categories from the training set \n",
    "categories = [\n",
    "    'alt.atheism',\n",
    "    'talk.religion.misc',\n",
    "]\n",
    "# Uncomment the following to do the analysis on all the categories\n",
    "#categories = None\n",
    "\n",
    "print(\"Loading 20 newsgroups dataset for categories:\")\n",
    "print(categories)\n",
    "\n",
    "data = fetch_20newsgroups(subset='train', categories=categories)\n",
    "print(\"%d documents\" % len(data.filenames))\n",
    "print(\"%d categories\" % len(data.target_names))\n",
    "print()\n",
    "\n",
    "# #############################################################################\n",
    "# Define a pipeline combining a text feature extractor with a simple\n",
    "# classifier\n",
    "pipeline = Pipeline([\n",
    "    ('vect', CountVectorizer()),  #http://scikit-learn.org/stable/modules/feature_extraction.html\n",
    "    #('tfidf', TfidfTransformer()), #ignore for now\n",
    "    ('clf', SGDClassifier(loss='log')),  #let's use logistic regression\n",
    "])\n",
    "\n",
    "# uncommenting more parameters will give better exploring power but will\n",
    "# increase processing time in a combinatorial way\n",
    "parameters = { #listed in the form of \"step__parameter\", e.g, clf__penalty\n",
    "    #'vect__max_df': (0.5, 0.75, 1.0),\n",
    "    'vect__max_features': (None, 500, 5000, 10000, 50000),\n",
    "    'vect__ngram_range': ((1, 1), (1, 2)),  # unigrams (single words) or bigrams (or sequence of words of length 2)\n",
    "    #'tfidf__use_idf': (True, False),\n",
    "    #'tfidf__norm': ('l1', 'l2'),\n",
    "    'clf__alpha': (0.00001, 0.000001),\n",
    "    'clf__penalty': ('l1', 'l2', 'elasticnet'),\n",
    "    #'clf__penalty': ('l1', 'l2', 'elasticnet'),\n",
    "    #'clf__loss': ('log', 'hinge'),  #hinge linear SVM\n",
    "    #'clf__n_iter': (10, 50, 80),\n",
    "}\n",
    "\n",
    "if __name__ == \"__main__\":\n",
    "    # multiprocessing requires the fork to happen in a __main__ protected\n",
    "    # block\n",
    "\n",
    "    # find the best parameters for both the feature extraction and the\n",
    "    # classifier\n",
    "    # n_jobs=-1 means that the computation will be dispatched on all the CPUs of the computer.\n",
    "    #\n",
    "    # By default, the GridSearchCV uses a 3-fold cross-validation. However, if it \n",
    "    #            detects that a classifier is passed, rather than a regressor, it uses a stratified 3-fold.\n",
    "    grid_search = GridSearchCV(pipeline, parameters, cv=3, n_jobs=-1, verbose=1)\n",
    "\n",
    "    print(\"Performing grid search...\")\n",
    "    print(\"pipeline:\", [name for name, _ in pipeline.steps])\n",
    "    print(\"parameters:\")\n",
    "    pprint(parameters)\n",
    "    t0 = time()\n",
    "    grid_search.fit(data.data, data.target)\n",
    "    print(\"done in %0.3fs\" % (time() - t0))\n",
    "    print()\n",
    "    #print(\"grid_search.cv_results_\", grid_search.cv_results_)\n",
    "    #estimator : estimator object. This is assumed to implement the scikit-learn estimator interface.  \n",
    "    #            Either estimator needs to provide a score function, or scoring must be passed.\n",
    "    #Accuracy is the default for classification; feel free to change this to precision, recall, fbeta\n",
    "    print(\"Best score: %0.3f\" % grid_search.best_score_)\n",
    "    print(\"Best parameters set:\")\n",
    "    best_parameters = grid_search.best_estimator_.get_params()\n",
    "    for param_name in sorted(parameters.keys()):\n",
    "        print(\"\\t%s: %r\" % (param_name, best_parameters[param_name]))"
   ]
  },
  {
   "cell_type": "markdown",
   "metadata": {},
   "source": [
    "## Confusion matrices\n",
    "A confusion matrix is a table that is often used to describe the performance of a classification model (or \"classifier\") on a set of test data for which the true values are known. The confusion matrix itself is relatively simple to understand, but the related terminology can be confusing.\n",
    "\n",
    "Let's start with an example confusion matrix for a binary classifier (though it can easily be extended to the case of more than two classes):\n",
    "\n",
    "<img src=\"attachment:image.png\" alt=\"Drawing\" style=\"width: =300px;\"/>\n",
    "\n",
    "What can we learn from this matrix?\n",
    "\n",
    "* There are two possible predicted classes: \"yes\" and \"no\". If we were predicting the presence of a disease, for example, \"yes\" would mean they have the disease, and \"no\" would mean they don't have the disease.\n",
    "* The classifier made a total of 165 predictions (e.g., 165 patients were being tested for the presence of that disease).\n",
    "* Out of those 165 cases, the classifier predicted \"yes\" 110 times, and \"no\" 55 times.\n",
    "* In reality, 105 patients in the sample have the disease, and 60 patients do not.\n",
    "\n",
    "Let's now define the most basic terms, which are whole numbers (not rates):\n",
    "\n",
    "* true positives (TP): These are cases in which we predicted yes (they have the disease), and they do have the disease.\n",
    "* true negatives (TN): We predicted no, and they don't have the disease.\n",
    "* false positives (FP): We predicted yes, but they don't actually have the disease. (Also known as a \"Type I error.\")\n",
    "* false negatives (FN): We predicted no, but they actually do have the disease. (Also known as a \"Type II error.\")\n",
    "\n",
    "I've added these terms to the confusion matrix, and also added the row and column totals:"
   ]
  },
  {
   "cell_type": "markdown",
   "metadata": {},
   "source": [
    "<img src=\"attachment:image.png\" alt=\"Drawing\" style=\"width: =300px;\"/>\n",
    "\n",
    "This is a list of rates that are often computed from a confusion matrix for a binary classifier:\n",
    "\n",
    "* Accuracy: Overall, how often is the classifier correct?\n",
    "  * (TP+TN)/total = (100+50)/165 = 0.91\n",
    "* Misclassification Rate: Overall, how often is it wrong?\n",
    "  * (FP+FN)/total = (10+5)/165 = 0.09\n",
    "  * equivalent to 1 minus Accuracy\n",
    "  * also known as \"Error Rate\"\n",
    "* True Positive Rate: When it's actually yes, how often does it predict yes?\n",
    "  * TP/actual yes = 100/105 = 0.95\n",
    "  * also known as \"Sensitivity\" or \"Recall\"\n",
    "* False Positive Rate: When it's actually no, how often does it predict yes?\n",
    "  * FP/actual no = 10/60 = 0.17\n",
    "  * Specificity: When it's actually no, how often does it predict no?\n",
    "* TN/actual no = 50/60 = 0.83\n",
    "  * equivalent to 1 minus False Positive Rate\n",
    "* Precision: When it predicts yes, how often is it correct?\n",
    "  * TP/predicted yes = 100/110 = 0.91\n",
    "* Prevalence: How often does the yes condition actually occur in our sample?\n",
    "  * actual yes/total = 105/165 = 0.64"
   ]
  },
  {
   "cell_type": "markdown",
   "metadata": {},
   "source": [
    "## Example confusion matrix for the Iris Data"
   ]
  },
  {
   "cell_type": "code",
   "execution_count": 34,
   "metadata": {
    "collapsed": false
   },
   "outputs": [
    {
     "ename": "NameError",
     "evalue": "name 'confusion_matrix' is not defined",
     "output_type": "error",
     "traceback": [
      "\u001b[0;31m---------------------------------------------------------------------------\u001b[0m",
      "\u001b[0;31mNameError\u001b[0m                                 Traceback (most recent call last)",
      "\u001b[0;32m<ipython-input-34-b2d2ce0f639a>\u001b[0m in \u001b[0;36m<module>\u001b[0;34m()\u001b[0m\n\u001b[1;32m      1\u001b[0m \u001b[0;31m#Please do NOT run these cells\u001b[0m\u001b[0;34m\u001b[0m\u001b[0;34m\u001b[0m\u001b[0m\n\u001b[1;32m      2\u001b[0m \u001b[0;31m# See labs for this unit for more details of this\u001b[0m\u001b[0;34m\u001b[0m\u001b[0;34m\u001b[0m\u001b[0m\n\u001b[0;32m----> 3\u001b[0;31m \u001b[0mcm_train\u001b[0m \u001b[0;34m=\u001b[0m \u001b[0mconfusion_matrix\u001b[0m\u001b[0;34m(\u001b[0m\u001b[0my_train\u001b[0m\u001b[0;34m,\u001b[0m \u001b[0mpreds_train\u001b[0m\u001b[0;34m)\u001b[0m\u001b[0;34m.\u001b[0m\u001b[0mastype\u001b[0m\u001b[0;34m(\u001b[0m\u001b[0mnp\u001b[0m\u001b[0;34m.\u001b[0m\u001b[0mfloat32\u001b[0m\u001b[0;34m)\u001b[0m\u001b[0;34m\u001b[0m\u001b[0m\n\u001b[0m\u001b[1;32m      4\u001b[0m \u001b[0mcm_train\u001b[0m \u001b[0;34m/=\u001b[0m \u001b[0mcm_train\u001b[0m\u001b[0;34m.\u001b[0m\u001b[0msum\u001b[0m\u001b[0;34m(\u001b[0m\u001b[0maxis\u001b[0m\u001b[0;34m=\u001b[0m\u001b[0;36m1\u001b[0m\u001b[0;34m)\u001b[0m\u001b[0;34m[\u001b[0m\u001b[0;34m:\u001b[0m\u001b[0;34m,\u001b[0m \u001b[0mnp\u001b[0m\u001b[0;34m.\u001b[0m\u001b[0mnewaxis\u001b[0m\u001b[0;34m]\u001b[0m\u001b[0;34m\u001b[0m\u001b[0m\n\u001b[1;32m      5\u001b[0m \u001b[0;34m\u001b[0m\u001b[0m\n",
      "\u001b[0;31mNameError\u001b[0m: name 'confusion_matrix' is not defined"
     ]
    }
   ],
   "source": [
    "#Please do NOT run these cells\n",
    "# See labs for this unit for more details of this\n",
    "cm_train = confusion_matrix(y_train, preds_train).astype(np.float32)\n",
    "cm_train /= cm_train.sum(axis=1)[:, np.newaxis]\n",
    "\n",
    "cm_test = confusion_matrix(y_test, preds_test).astype(np.float32)\n",
    "cm_test /= cm_test.sum(axis=1)[:, np.newaxis]"
   ]
  },
  {
   "cell_type": "markdown",
   "metadata": {},
   "source": [
    "Visualize them"
   ]
  },
  {
   "cell_type": "code",
   "execution_count": 22,
   "metadata": {
    "collapsed": false
   },
   "outputs": [
    {
     "data": {
      "image/png": "[encoded data removed]",
      "text/plain": [
       "<matplotlib.figure.Figure at 0x7fb056043748>"
      ]
     },
     "metadata": {},
     "output_type": "display_data"
    }
   ],
   "source": [
    "plt.figure(figsize=(20, 8))\n",
    "\n",
    "plt.subplot(121)\n",
    "g = sns.heatmap(cm_train, vmin=0, vmax=1, annot=True, cmap=\"Reds\")\n",
    "plt.xlabel(\"Predicted\", fontsize=14)\n",
    "plt.ylabel(\"True\", fontsize=14)\n",
    "g.set(xticklabels=class_labels, yticklabels=class_labels)\n",
    "plt.title(\"Train\", fontsize=14)\n",
    "\n",
    "plt.subplot(122)\n",
    "g = sns.heatmap(cm_test, vmin=0, vmax=1, annot=True, cmap=\"Reds\")\n",
    "plt.xlabel(\"Predicted\", fontsize=14)\n",
    "plt.ylabel(\"True\", fontsize=14)\n",
    "g.set(xticklabels=class_labels, yticklabels=class_labels)\n",
    "plt.title(\"Test\", fontsize=14);"
   ]
  },
  {
   "cell_type": "markdown",
   "metadata": {},
   "source": [
    "Looking at the confusions matrices for training, setosa perfectly separates from two other classes. In the test confusion matrize we se perfect classification (very unusual and suspect in the real world)"
   ]
  },
  {
   "cell_type": "markdown",
   "metadata": {
    "collapsed": true
   },
   "source": [
    "# Task:  20 class text classifier\n",
    "Using the gridsearch pipeline presented in the previous section, please adapt it to get your best configuration using cross fold validation on all 20 classes from the 20 newsgroups dataset. Here are some hyperparamters to consider but dont limit your self to these:\n",
    "\n",
    "* penalty\n",
    "* number of terms\n",
    "* types of ngrams\n",
    "* linear classifier\n",
    "* TDIDF\n",
    "\n",
    "\n",
    "Have fun! Please report your best score and configuration. And discuss your confusion matrix analysis for the best configuration.\n"
   ]
  },
  {
   "cell_type": "code",
   "execution_count": 132,
   "metadata": {
    "collapsed": false,
    "scrolled": true
   },
   "outputs": [
    {
     "name": "stderr",
     "output_type": "stream",
     "text": [
      "Downloading 20news dataset. This may take a few minutes.\n",
      "2018-02-26 07:26:49,667 INFO Downloading 20news dataset. This may take a few minutes.\n",
      "Downloading dataset from https://ndownloader.figshare.com/files/5975967 (14 MB)\n",
      "2018-02-26 07:26:49,669 INFO Downloading dataset from https://ndownloader.figshare.com/files/5975967 (14 MB)\n"
     ]
    },
    {
     "name": "stdout",
     "output_type": "stream",
     "text": [
      "Automatically created module for IPython interactive environment\n",
      "Loading 20 newsgroups dataset for categories:\n",
      "None\n",
      "11314 documents\n",
      "20 categories\n",
      "\n",
      "Performing grid search...\n",
      "pipeline: ['vect', 'tfidf', 'clf']\n",
      "parameters:\n",
      "{'clf__alpha': (1e-05, 1e-06),\n",
      " 'clf__loss': ('log', 'hinge'),\n",
      " 'clf__penalty': ('l1', 'l2', 'elasticnet'),\n",
      " 'tfidf__norm': ('l1', 'l2'),\n",
      " 'vect__max_df': (0.5, 0.75, 1.0),\n",
      " 'vect__max_features': (None, 500, 5000, 10000, 50000),\n",
      " 'vect__ngram_range': ((1, 1), (1, 2))}\n",
      "Fitting 3 folds for each of 720 candidates, totalling 2160 fits\n"
     ]
    },
    {
     "name": "stderr",
     "output_type": "stream",
     "text": [
      "/opt/conda/lib/python3.6/site-packages/sklearn/linear_model/stochastic_gradient.py:84: FutureWarning: max_iter and tol parameters have been added in <class 'sklearn.linear_model.stochastic_gradient.SGDClassifier'> in 0.19. If both are left unset, they default to max_iter=5 and tol=None. If tol is not None, max_iter defaults to max_iter=1000. From 0.21, default max_iter will be 1000, and default tol will be 1e-3.\n",
      "  \"and default tol will be 1e-3.\" % type(self), FutureWarning)\n",
      "[Parallel(n_jobs=-1)]: Done  46 tasks      | elapsed:  6.0min\n",
      "[Parallel(n_jobs=-1)]: Done 196 tasks      | elapsed: 24.7min\n",
      "[Parallel(n_jobs=-1)]: Done 446 tasks      | elapsed: 53.3min\n",
      "[Parallel(n_jobs=-1)]: Done 796 tasks      | elapsed: 94.6min\n",
      "[Parallel(n_jobs=-1)]: Done 1246 tasks      | elapsed: 148.1min\n",
      "[Parallel(n_jobs=-1)]: Done 1796 tasks      | elapsed: 213.7min\n",
      "[Parallel(n_jobs=-1)]: Done 2160 out of 2160 | elapsed: 254.7min finished\n"
     ]
    },
    {
     "name": "stdout",
     "output_type": "stream",
     "text": [
      "done in 15304.440s\n",
      "\n",
      "Best score: 0.917\n",
      "Best parameters set:\n",
      "\tclf__alpha: 1e-06\n",
      "\tclf__loss: 'log'\n",
      "\tclf__penalty: 'l2'\n",
      "\ttfidf__norm: 'l2'\n",
      "\tvect__max_df: 1.0\n",
      "\tvect__max_features: None\n",
      "\tvect__ngram_range: (1, 2)\n"
     ]
    }
   ],
   "source": [
    "# This code is adopted  and has been modified from \n",
    "#\n",
    "# Author: Olivier Grisel <olivier.grisel@ensta.org>\n",
    "#         Peter Prettenhofer <peter.prettenhofer@gmail.com>\n",
    "#         Mathieu Blondel <mathieu@mblondel.org>\n",
    "# License: BSD 3 clause\n",
    "\n",
    "from __future__ import print_function\n",
    "\n",
    "from pprint import pprint\n",
    "from time import time\n",
    "import logging\n",
    "\n",
    "from sklearn.datasets import fetch_20newsgroups\n",
    "from sklearn.feature_extraction.text import CountVectorizer\n",
    "from sklearn.feature_extraction.text import TfidfTransformer\n",
    "from sklearn.linear_model import SGDClassifier\n",
    "from sklearn.model_selection import GridSearchCV\n",
    "from sklearn.pipeline import Pipeline\n",
    "%matplotlib inline\n",
    "\n",
    "print(__doc__)\n",
    "\n",
    "# Display progress logs on stdout\n",
    "logging.basicConfig(level=logging.INFO,\n",
    "                    format='%(asctime)s %(levelname)s %(message)s')\n",
    "\n",
    "\n",
    "# #############################################################################\n",
    "# Load some categories from the training set \n",
    "categories = [\n",
    "    'alt.atheism',\n",
    "    'talk.religion.misc',\n",
    "]\n",
    "# Uncomment the following to do the analysis on all the categories\n",
    "categories = None\n",
    "\n",
    "print(\"Loading 20 newsgroups dataset for categories:\")\n",
    "print(categories)\n",
    "\n",
    "data = fetch_20newsgroups(subset='train', categories=categories)\n",
    "print(\"%d documents\" % len(data.filenames))\n",
    "print(\"%d categories\" % len(data.target_names))\n",
    "print()\n",
    "\n",
    "# #############################################################################\n",
    "# Define a pipeline combining a text feature extractor with a simple\n",
    "# classifier\n",
    "pipeline = Pipeline([\n",
    "    ('vect', CountVectorizer()),  #http://scikit-learn.org/stable/modules/feature_extraction.html\n",
    "    ('tfidf', TfidfTransformer()), #ignore for now\n",
    "    ('clf', SGDClassifier(loss='log')),  #let's use logistic regression\n",
    "])\n",
    "\n",
    "# uncommenting more parameters will give better exploring power but will\n",
    "# increase processing time in a combinatorial way\n",
    "parameters = { #listed in the form of \"step__parameter\", e.g, clf__penalty\n",
    "    'vect__max_df': (0.5, 0.75, 1.0),\n",
    "    'vect__max_features': (None, 500, 5000, 10000, 50000),\n",
    "    'vect__ngram_range': ((1, 1), (1, 2)),  # unigrams (single words) or bigrams (or sequence of words of length 2)\n",
    "    #'tfidf__use_idf': (True, False),\n",
    "    'tfidf__norm': ('l1', 'l2'),\n",
    "    'clf__alpha': (0.00001, 0.000001),\n",
    "    'clf__penalty': ('l1', 'l2', 'elasticnet'),\n",
    "    #'clf__penalty': ('l1', 'l2', 'elasticnet'),\n",
    "    'clf__loss': ('log', 'hinge'),  #hinge linear SVM\n",
    "    #'clf__n_iter': (10, 50, 80),\n",
    "}\n",
    "\n",
    "if __name__ == \"__main__\":\n",
    "    # multiprocessing requires the fork to happen in a __main__ protected\n",
    "    # block\n",
    "\n",
    "    # find the best parameters for both the feature extraction and the\n",
    "    # classifier\n",
    "    # n_jobs=-1 means that the computation will be dispatched on all the CPUs of the computer.\n",
    "    #\n",
    "    # By default, the GridSearchCV uses a 3-fold cross-validation. However, if it \n",
    "    #            detects that a classifier is passed, rather than a regressor, it uses a stratified 3-fold.\n",
    "    grid_search = GridSearchCV(pipeline, parameters, cv=3, n_jobs=-1, verbose=1)\n",
    "\n",
    "    print(\"Performing grid search...\")\n",
    "    print(\"pipeline:\", [name for name, _ in pipeline.steps])\n",
    "    print(\"parameters:\")\n",
    "    pprint(parameters)\n",
    "    t0 = time()\n",
    "    grid_search.fit(data.data, data.target)\n",
    "    print(\"done in %0.3fs\" % (time() - t0))\n",
    "    print()\n",
    "    #print(\"grid_search.cv_results_\", grid_search.cv_results_)\n",
    "    #estimator : estimator object. This is assumed to implement the scikit-learn estimator interface.  \n",
    "    #            Either estimator needs to provide a score function, or scoring must be passed.\n",
    "    #Accuracy is the default for classification; feel free to change this to precision, recall, fbeta\n",
    "    print(\"Best score: %0.3f\" % grid_search.best_score_)\n",
    "    print(\"Best parameters set:\")\n",
    "    best_parameters = grid_search.best_estimator_.get_params()\n",
    "    for param_name in sorted(parameters.keys()):\n",
    "        print(\"\\t%s: %r\" % (param_name, best_parameters[param_name]))"
   ]
  },
  {
   "cell_type": "markdown",
   "metadata": {},
   "source": [
    "## Results of Gridsearch\n",
    "\n",
    "\n",
    "Results from previous cell. \n",
    "\n",
    "<PRE>\n",
    "done in 44.636s\n",
    "\n",
    "Best score: 0.894\n",
    "Best parameters set:\n",
    "\tclf__alpha: 1e-06\n",
    "\tclf__penalty: 'l1'\n",
    "\tvect__max_features: None\n",
    "\tvect__ngram_range: (1, 2)\n",
    "\n",
    "*****************************\n",
    "Performing grid search...\n",
    "pipeline: ['vect', 'clf']\n",
    "parameters:\n",
    "{'clf__alpha': (1e-05, 1e-06),\n",
    " 'clf__penalty': ('l1', 'l2', 'elasticnet'),\n",
    " 'vect__max_features': (None, 500, 5000, 10000, 50000),\n",
    " 'vect__ngram_range': ((1, 1), (1, 2))}\n",
    "Fitting 3 folds for each of 60 candidates, totalling 180 fits\n",
    "\n",
    "done in 1262.622s\n",
    "\n",
    "Best score: 0.831\n",
    "Best parameters set:\n",
    "\tclf__alpha: 1e-05\n",
    "\tclf__penalty: 'l2'\n",
    "\tvect__max_features: None\n",
    "\tvect__ngram_range: (1, 2)\n",
    "\n",
    "******************************************\n",
    "\n",
    "\n",
    "Performing grid search...\n",
    "pipeline: ['vect', 'clf']\n",
    "parameters:\n",
    "{'clf__alpha': (1e-05, 1e-06),\n",
    " 'clf__loss': ('log', 'hinge'),\n",
    " 'clf__penalty': ('l1', 'l2', 'elasticnet'),\n",
    " 'vect__max_df': (0.5, 0.75, 1.0),\n",
    " 'vect__max_features': (None, 500, 5000, 10000, 50000),\n",
    " 'vect__ngram_range': ((1, 1), (1, 2))}\n",
    "Fitting 3 folds for each of 360 candidates, totalling 1080 fits\n",
    "\n",
    "done in 7374.732s\n",
    "\n",
    "Best score: 0.839\n",
    "Best parameters set:\n",
    "\tclf__alpha: 1e-05\n",
    "\tclf__loss: 'hinge'\n",
    "\tclf__penalty: 'elasticnet'\n",
    "\tvect__max_df: 0.5\n",
    "\tvect__max_features: None\n",
    "\tvect__ngram_range: (1, 2)\n",
    "\n",
    "**********************************\n",
    "\n",
    "Performing grid search...\n",
    "pipeline: ['vect', 'tfidf', 'clf']\n",
    "parameters:\n",
    "{'clf__alpha': (1e-05, 1e-06),\n",
    " 'clf__penalty': ('l1', 'l2', 'elasticnet'),\n",
    " 'tfidf__norm': ('l1', 'l2'),\n",
    " 'vect__max_df': (0.5, 0.75, 1.0),\n",
    " 'vect__max_features': (None, 500, 5000, 10000, 50000),\n",
    " 'vect__ngram_range': ((1, 1), (1, 2))}\n",
    "Fitting 3 folds for each of 360 candidates, totalling 1080 fits\n",
    "\n",
    "done in 8169.297s\n",
    "\n",
    "Best score: 0.918\n",
    "Best parameters set:\n",
    "\tclf__alpha: 1e-06\n",
    "\tclf__penalty: 'elasticnet'\n",
    "\ttfidf__norm: 'l2'\n",
    "\tvect__max_df: 1.0\n",
    "\tvect__max_features: None\n",
    "\tvect__ngram_range: (1, 2)\n",
    "\n",
    "***************************************\n",
    "\n",
    "Automatically created module for IPython interactive environment\n",
    "Loading 20 newsgroups dataset for categories:\n",
    "None\n",
    "11314 documents\n",
    "20 categories\n",
    "\n",
    "Performing grid search...\n",
    "pipeline: ['vect', 'tfidf', 'clf']\n",
    "parameters:\n",
    "{'clf__alpha': (1e-05, 1e-06),\n",
    " 'clf__loss': ('log', 'hinge'),\n",
    " 'clf__penalty': ('l1', 'l2', 'elasticnet'),\n",
    " 'tfidf__norm': ('l1', 'l2'),\n",
    " 'vect__max_df': (0.5, 0.75, 1.0),\n",
    " 'vect__max_features': (None, 500, 5000, 10000, 50000),\n",
    " 'vect__ngram_range': ((1, 1), (1, 2))}\n",
    "Fitting 3 folds for each of 720 candidates, totalling 2160 fits\n",
    "\n",
    "done in 15710.421s\n",
    "\n",
    "Best score: 0.917\n",
    "Best parameters set:\n",
    "\tclf__alpha: 1e-05\n",
    "\tclf__loss: 'hinge'\n",
    "\tclf__penalty: 'elasticnet'\n",
    "\ttfidf__norm: 'l2'\n",
    "\tvect__max_df: 0.75\n",
    "\tvect__max_features: None\n",
    "\tvect__ngram_range: (1, 2)\n",
    "\n",
    "</PRE>\n"
   ]
  },
  {
   "cell_type": "code",
   "execution_count": 133,
   "metadata": {
    "collapsed": true,
    "scrolled": true
   },
   "outputs": [],
   "source": [
    "# y_pred_class = grid_search.predict(data.data)\n",
    "y_pred_train = grid_search.best_estimator_.predict(data.data)"
   ]
  },
  {
   "cell_type": "code",
   "execution_count": 134,
   "metadata": {
    "collapsed": false
   },
   "outputs": [
    {
     "data": {
      "text/plain": [
       "array([[480,   0,   0,   0,   0,   0,   0,   0,   0,   0,   0,   0,   0,\n",
       "          0,   0,   0,   0,   0,   0,   0],\n",
       "       [  0, 584,   0,   0,   0,   0,   0,   0,   0,   0,   0,   0,   0,\n",
       "          0,   0,   0,   0,   0,   0,   0],\n",
       "       [  0,   2, 589,   0,   0,   0,   0,   0,   0,   0,   0,   0,   0,\n",
       "          0,   0,   0,   0,   0,   0,   0],\n",
       "       [  0,   1,   0, 589,   0,   0,   0,   0,   0,   0,   0,   0,   0,\n",
       "          0,   0,   0,   0,   0,   0,   0],\n",
       "       [  0,   0,   0,   0, 578,   0,   0,   0,   0,   0,   0,   0,   0,\n",
       "          0,   0,   0,   0,   0,   0,   0],\n",
       "       [  0,   0,   0,   0,   0, 593,   0,   0,   0,   0,   0,   0,   0,\n",
       "          0,   0,   0,   0,   0,   0,   0],\n",
       "       [  0,   0,   0,   0,   0,   0, 585,   0,   0,   0,   0,   0,   0,\n",
       "          0,   0,   0,   0,   0,   0,   0],\n",
       "       [  0,   0,   0,   0,   0,   0,   1, 593,   0,   0,   0,   0,   0,\n",
       "          0,   0,   0,   0,   0,   0,   0],\n",
       "       [  0,   0,   0,   0,   0,   0,   1,   0, 597,   0,   0,   0,   0,\n",
       "          0,   0,   0,   0,   0,   0,   0],\n",
       "       [  0,   0,   0,   0,   0,   0,   0,   0,   0, 597,   0,   0,   0,\n",
       "          0,   0,   0,   0,   0,   0,   0],\n",
       "       [  0,   0,   0,   0,   0,   0,   0,   0,   0,   0, 600,   0,   0,\n",
       "          0,   0,   0,   0,   0,   0,   0],\n",
       "       [  0,   0,   0,   0,   0,   0,   0,   0,   0,   0,   0, 595,   0,\n",
       "          0,   0,   0,   0,   0,   0,   0],\n",
       "       [  0,   0,   0,   0,   0,   0,   1,   0,   0,   0,   0,   0, 590,\n",
       "          0,   0,   0,   0,   0,   0,   0],\n",
       "       [  0,   0,   0,   0,   0,   0,   0,   0,   0,   0,   0,   0,   0,\n",
       "        594,   0,   0,   0,   0,   0,   0],\n",
       "       [  0,   0,   0,   0,   0,   0,   0,   0,   0,   0,   0,   0,   0,\n",
       "          0, 593,   0,   0,   0,   0,   0],\n",
       "       [  0,   0,   0,   0,   0,   0,   0,   0,   0,   0,   0,   0,   0,\n",
       "          0,   0, 599,   0,   0,   0,   0],\n",
       "       [  0,   0,   0,   0,   0,   0,   0,   0,   0,   0,   0,   0,   0,\n",
       "          0,   0,   0, 546,   0,   0,   0],\n",
       "       [  0,   0,   0,   0,   0,   0,   0,   0,   0,   0,   0,   0,   0,\n",
       "          0,   0,   0,   0, 564,   0,   0],\n",
       "       [  0,   0,   0,   0,   0,   0,   0,   0,   0,   0,   0,   0,   0,\n",
       "          0,   0,   0,   0,   0, 465,   0],\n",
       "       [  0,   0,   0,   0,   0,   0,   0,   0,   0,   0,   0,   0,   0,\n",
       "          0,   0,   0,   0,   0,   0, 377]])"
      ]
     },
     "execution_count": 134,
     "metadata": {},
     "output_type": "execute_result"
    }
   ],
   "source": [
    "# print the confusion matrix\n",
    "from sklearn import metrics\n",
    "metrics.accuracy_score(data.target, y_pred_train)\n",
    "metrics.confusion_matrix(data.target, y_pred_train)"
   ]
  },
  {
   "cell_type": "code",
   "execution_count": 136,
   "metadata": {
    "collapsed": true
   },
   "outputs": [],
   "source": [
    "\n",
    "cm_train = metrics.confusion_matrix(data.target, y_pred_train).astype(np.float32)\n",
    "cm_train /= cm_train.sum(axis=1)[:, np.newaxis]\n",
    "\n",
    "test_data = fetch_20newsgroups(subset='test', categories=categories)\n",
    "y_pred_test = grid_search.best_estimator_.predict(test_data.data)\n",
    "\n",
    "cm_test = metrics.confusion_matrix(test_data.target, y_pred_test).astype(np.float32)\n",
    "cm_test /= cm_test.sum(axis=1)[:, np.newaxis]"
   ]
  },
  {
   "cell_type": "code",
   "execution_count": 137,
   "metadata": {
    "collapsed": false
   },
   "outputs": [
    {
     "data": {
      "image/png": "[encoded data removed]",
      "text/plain": [
       "<matplotlib.figure.Figure at 0x7fc5cc635be0>"
      ]
     },
     "metadata": {},
     "output_type": "display_data"
    }
   ],
   "source": [
    "plt.figure(figsize=(20, 8))\n",
    "class_labels = data.target_names\n",
    "plt.subplot(121)\n",
    "g = sns.heatmap(cm_train, vmin=0, vmax=1, annot=True, cmap=\"Reds\")\n",
    "plt.xlabel(\"Predicted\", fontsize=14)\n",
    "plt.ylabel(\"True\", fontsize=14)\n",
    "g.set(xticklabels=class_labels, yticklabels=class_labels)\n",
    "plt.title(\"Train\", fontsize=14)\n",
    "\n",
    "\n",
    "\n",
    "plt.subplot(122)\n",
    "g = sns.heatmap(cm_test, vmin=0, vmax=1, annot=True, cmap=\"Reds\")\n",
    "plt.xlabel(\"Predicted\", fontsize=14)\n",
    "plt.ylabel(\"True\", fontsize=14)\n",
    "g.set(xticklabels=class_labels, yticklabels=class_labels)\n",
    "plt.title(\"Test\", fontsize=14);"
   ]
  },
  {
   "cell_type": "markdown",
   "metadata": {},
   "source": [
    "# Task: Explore LASSO Logistic Regression\n",
    "Model the CIFAR-10 dataset using LASSO Logistic Regression (l1 penalty term). Explore different values $\\text{C}$ is the inverse regularization constant which is $\\text{C} = \\frac{1}{\\lambda}$ that are listed here : {C=1.0, C=10.0, C=100.0, C=1000.0, C=10000.0}\n",
    "\n",
    "Please reports your experimental results using the `results` table. Add one more column for reporting the number of zero coefficients after training. Recall, LASSO Logistic Regression can be useful in doing feature selection!   \n",
    "\n",
    "NOTE: the coefficient of the learnt model, `model_lr_sklearn`, are available via `model_lr_sklearn.coef_`\n",
    "\n",
    "`coef_ : array, shape (1, n_features) or (n_classes, n_features)\n",
    "\n",
    "Coefficient of the features in the decision function.\n",
    "\n",
    "coef_ is of shape (1, n_features) when the given problem is binary.`\n",
    "\n",
    " "
   ]
  },
  {
   "cell_type": "code",
   "execution_count": 207,
   "metadata": {
    "collapsed": false
   },
   "outputs": [
    {
     "data": {
      "text/html": [
       "<div>\n",
       "<style>\n",
       "    .dataframe thead tr:only-child th {\n",
       "        text-align: right;\n",
       "    }\n",
       "\n",
       "    .dataframe thead th {\n",
       "        text-align: left;\n",
       "    }\n",
       "\n",
       "    .dataframe tbody tr th {\n",
       "        vertical-align: top;\n",
       "    }\n",
       "</style>\n",
       "<table border=\"1\" class=\"dataframe\">\n",
       "  <thead>\n",
       "    <tr style=\"text-align: right;\">\n",
       "      <th></th>\n",
       "      <th>Model Description</th>\n",
       "      <th>Test Accuracy</th>\n",
       "      <th>#of Zero Coefficients</th>\n",
       "    </tr>\n",
       "  </thead>\n",
       "  <tbody>\n",
       "    <tr>\n",
       "      <th>0</th>\n",
       "      <td>LR Sklearn fake run</td>\n",
       "      <td>0.363</td>\n",
       "      <td>1,000</td>\n",
       "    </tr>\n",
       "  </tbody>\n",
       "</table>\n",
       "</div>"
      ],
      "text/plain": [
       "     Model Description  Test Accuracy #of Zero Coefficients\n",
       "0  LR Sklearn fake run          0.363                 1,000"
      ]
     },
     "execution_count": 207,
     "metadata": {},
     "output_type": "execute_result"
    }
   ],
   "source": [
    "#Display the results table with your experiments\n",
    "import numpy as np\n",
    "import pandas as pd\n",
    "\n",
    "\n",
    "results = pd.DataFrame(columns=[\"Model Description\", \"Test Accuracy\", \"#of Zero Coefficients\"])\n",
    "results.loc[len(results)] = [\"LR Sklearn fake run\", np.round(0.363, 3), \"1,000\"]\n",
    "results"
   ]
  },
  {
   "cell_type": "code",
   "execution_count": 29,
   "metadata": {
    "collapsed": false,
    "scrolled": true
   },
   "outputs": [
    {
     "data": {
      "text/html": [
       "<div>\n",
       "<style>\n",
       "    .dataframe thead tr:only-child th {\n",
       "        text-align: right;\n",
       "    }\n",
       "\n",
       "    .dataframe thead th {\n",
       "        text-align: left;\n",
       "    }\n",
       "\n",
       "    .dataframe tbody tr th {\n",
       "        vertical-align: top;\n",
       "    }\n",
       "</style>\n",
       "<table border=\"1\" class=\"dataframe\">\n",
       "  <thead>\n",
       "    <tr style=\"text-align: right;\">\n",
       "      <th></th>\n",
       "      <th>Model Description</th>\n",
       "      <th>Test Accuracy</th>\n",
       "      <th>#of Zero Coefficients</th>\n",
       "    </tr>\n",
       "  </thead>\n",
       "  <tbody>\n",
       "    <tr>\n",
       "      <th>0</th>\n",
       "      <td>LR Sklearn fake run</td>\n",
       "      <td>0.363</td>\n",
       "      <td>1,000</td>\n",
       "    </tr>\n",
       "    <tr>\n",
       "      <th>1</th>\n",
       "      <td>LR Sklearn C=1.0</td>\n",
       "      <td>0.242</td>\n",
       "      <td>202</td>\n",
       "    </tr>\n",
       "    <tr>\n",
       "      <th>2</th>\n",
       "      <td>LR Sklearn C=10.0</td>\n",
       "      <td>0.241</td>\n",
       "      <td>1</td>\n",
       "    </tr>\n",
       "    <tr>\n",
       "      <th>3</th>\n",
       "      <td>LR Sklearn C=100.0</td>\n",
       "      <td>0.236</td>\n",
       "      <td>0</td>\n",
       "    </tr>\n",
       "    <tr>\n",
       "      <th>4</th>\n",
       "      <td>LR Sklearn C=1000.0</td>\n",
       "      <td>0.239</td>\n",
       "      <td>0</td>\n",
       "    </tr>\n",
       "    <tr>\n",
       "      <th>5</th>\n",
       "      <td>LR Sklearn C=10000.0</td>\n",
       "      <td>0.238</td>\n",
       "      <td>0</td>\n",
       "    </tr>\n",
       "  </tbody>\n",
       "</table>\n",
       "</div>"
      ],
      "text/plain": [
       "      Model Description  Test Accuracy #of Zero Coefficients\n",
       "0   LR Sklearn fake run          0.363                 1,000\n",
       "1      LR Sklearn C=1.0          0.242                   202\n",
       "2     LR Sklearn C=10.0          0.241                     1\n",
       "3    LR Sklearn C=100.0          0.236                     0\n",
       "4   LR Sklearn C=1000.0          0.239                     0\n",
       "5  LR Sklearn C=10000.0          0.238                     0"
      ]
     },
     "execution_count": 29,
     "metadata": {},
     "output_type": "execute_result"
    }
   ],
   "source": [
    "# model_lr_lasso_sklearn = LogisticRegression(multi_class=\"multinomial\", C=1, penalty=\"l1\", solver=\"saga\", max_iter=15)\n",
    "\n",
    "C_val = np.array([1.0, 10.0, 100.0, 1000.0, 10000.0])\n",
    "# C_val = np.array([1.0])\n",
    "for c in C_val:\n",
    "    model_lr_lasso_sklearn = LogisticRegression(C=c, penalty=\"l1\")\n",
    "    model_lr_lasso_sklearn.fit(X_train, y_train)\n",
    "    y_pred_test = model_lr_lasso_sklearn.predict(X_test)\n",
    "    acc = accuracy_score(y_test, y_pred_test)\n",
    "    avg_zero = (30720 - np.count_nonzero(model_lr_lasso_sklearn.coef_)) / 10\n",
    "    results.loc[len(results)] = [\"LR Sklearn C=\"+str(c), np.round(acc, 3), np.round(avg_zero,0)]\n",
    "\n",
    "results"
   ]
  },
  {
   "cell_type": "code",
   "execution_count": 93,
   "metadata": {
    "collapsed": false
   },
   "outputs": [
    {
     "name": "stdout",
     "output_type": "stream",
     "text": [
      "Class: 1  Zero:  2571  min:  0.0  Max:  2.03937374488\n",
      "Class: 2  Zero:  2531  min:  0.0  Max:  2.72420898751\n",
      "Class: 3  Zero:  2549  min:  0.0  Max:  2.16554744937\n",
      "Class: 4  Zero:  2545  min:  0.0  Max:  1.67609404073\n",
      "Class: 5  Zero:  2536  min:  0.0  Max:  1.88577285627\n",
      "Class: 6  Zero:  2541  min:  0.0  Max:  1.55955063125\n",
      "Class: 7  Zero:  2513  min:  0.0  Max:  1.58157933327\n",
      "Class: 8  Zero:  2504  min:  0.0  Max:  2.00041826192\n",
      "Class: 9  Zero:  2610  min:  0.0  Max:  1.82647582142\n",
      "Class: 10  Zero:  2555  min:  0.0  Max:  1.67535707347\n"
     ]
    }
   ],
   "source": [
    "from scipy import stats\n",
    "\n",
    "i=1\n",
    "\n",
    "\n",
    "for coeff in model_lr_lasso_sklearn.coef_:\n",
    "#     print(stats.describe(coeff))\n",
    "    zero_coeff[i] = len(coeff) - np.count_nonzero(coeff)\n",
    "    print(\"Class:\", i,\" Zero: \", zero_coeff, \" min: \", min(abs(coeff)), \" Max: \", max(abs(coeff)))\n",
    "    i += 1\n",
    "\n"
   ]
  },
  {
   "cell_type": "markdown",
   "metadata": {},
   "source": [
    "# TASK Homegrown implementation of Logistic Regression [OPTIONAL]"
   ]
  },
  {
   "cell_type": "markdown",
   "metadata": {},
   "source": [
    "Below is a homegrown implementation of Logistic Regression. In this class  we added an ability to trace validation metrics."
   ]
  },
  {
   "cell_type": "code",
   "execution_count": 200,
   "metadata": {
    "collapsed": true
   },
   "outputs": [],
   "source": [
    "class LogisticRegressionHomegrown(object):\n",
    "    \n",
    "    def __init__(self):\n",
    "        \"\"\"\n",
    "        Constructor for the homgrown Logistic Regression\n",
    "        \n",
    "        Args:\n",
    "            None\n",
    "        \n",
    "        Return:\n",
    "            None\n",
    "        \"\"\"\n",
    "        self.coef_ = None       # weight vector\n",
    "        self.intercept_ = None  # bias term\n",
    "        self._theta = None      # augmented weight vector, i.e., bias + weights\n",
    "                                # this allows to treat all decision variables homogeneously\n",
    "        self.history = {\"cost\": [], \n",
    "                        \"acc\": [], \n",
    "                        \"val_cost\":[], \n",
    "                        \"val_acc\": []}\n",
    "        \n",
    "    def _grad(self, X, y):\n",
    "        \"\"\"\n",
    "        Calculates the gradient of the Logistic Regression \n",
    "        objective function\n",
    "\n",
    "        Args:\n",
    "            X(ndarray):    train objects\n",
    "            y(ndarray):    answers for train objects\n",
    "            \n",
    "        Return:\n",
    "            grad(ndarray): gradient\n",
    "        \"\"\"\n",
    "        # number of training examples\n",
    "        n = X.shape[0]\n",
    "        \n",
    "        # get scores for each class and example\n",
    "        # 2D matrix\n",
    "        scores = self._predict_raw(X)\n",
    "        \n",
    "        # transform scores to probabilities\n",
    "        # softmax\n",
    "        exp_scores = np.exp(scores)\n",
    "        probs = exp_scores / np.sum(exp_scores, axis=1, keepdims=True)\n",
    "        \n",
    "        # error\n",
    "        probs[range(n),y] -= 1\n",
    "        \n",
    "        # gradient\n",
    "        gradient = np.dot(X.T, probs) / n\n",
    "        \n",
    "        return gradient\n",
    "    \n",
    "    def _gd(self, X, y, max_iter, alpha, X_val, y_val):\n",
    "        \"\"\"\n",
    "        Runs Full GD and logs error, weigths, gradient at every step\n",
    "\n",
    "        Args:\n",
    "            X(ndarray):      train objects\n",
    "            y(ndarray):      answers for train objects\n",
    "            max_iter(int):   number of weight updates\n",
    "            alpha(floar):    step size in direction of gradient\n",
    "            \n",
    "        Return:\n",
    "            None\n",
    "        \"\"\"\n",
    "        for i in range(max_iter):\n",
    "            \n",
    "            metrics = self.score(X, y)\n",
    "            self.history[\"cost\"].append(metrics[\"cost\"])\n",
    "            self.history[\"acc\"].append(metrics[\"acc\"])\n",
    "            \n",
    "            if X_val is not None:\n",
    "                metrics_val = self.score(X_val, y_val)\n",
    "                self.history[\"val_cost\"].append(metrics_val[\"cost\"])\n",
    "                self.history[\"val_acc\"].append(metrics_val[\"acc\"])\n",
    "\n",
    "            # calculate gradient\n",
    "            grad = self._grad(X, y)\n",
    "            \n",
    "            # do gradient step\n",
    "            self._theta -= alpha * grad\n",
    "    \n",
    "    def fit(self, X, y, max_iter=1000, alpha=0.05, val_data=None):\n",
    "        \"\"\"\n",
    "        Public API to fit Logistic regression model\n",
    "        \n",
    "        Args:\n",
    "            X(ndarray):      train objects\n",
    "            y(ndarray):      answers for train objects\n",
    "            max_iter(int):   number of weight updates\n",
    "            alpha(floar):    step size in direction of gradient\n",
    "            \n",
    "        Return:\n",
    "            None\n",
    "        \"\"\"\n",
    "        # Augment the data with the bias term.\n",
    "        # So we can treat the the input variables and the bias term homogeneously \n",
    "        # from a vectorization perspective\n",
    "        X = np.c_[np.ones(X.shape[0]), X]\n",
    "        if val_data is not None:\n",
    "            X_val, y_val = val_data\n",
    "            X_val = np.c_[np.ones(X_val.shape[0]), X_val]\n",
    "        else:\n",
    "            X_val = None\n",
    "            y_val = None\n",
    "        # initialize if the first step\n",
    "        if self._theta is None:\n",
    "            self._theta = np.random.rand(X.shape[1], len(np.unique(y)))\n",
    "        \n",
    "        # do full gradient descent\n",
    "        self._gd(X, y, max_iter, alpha, X_val, y_val)\n",
    "        \n",
    "        # get final weigths and bias\n",
    "        self.intercept_ = self._theta[0]\n",
    "        self.coef_ = self._theta[1:]\n",
    "        \n",
    "    def score(self, X, y):\n",
    "        \"\"\"\n",
    "        Computes logloss and accuracy for (X, y)\n",
    "        \n",
    "        Args:\n",
    "            X(ndarray):      objects\n",
    "            y(ndarray):      answers for objects\n",
    "            \n",
    "        Return:\n",
    "            metrics(dict):   python dictionary which\n",
    "                             contains two fields: for accuracy \n",
    "                             and for objective function\n",
    "        \"\"\"\n",
    "        # number of training samples\n",
    "        n = X.shape[0]\n",
    "        \n",
    "        # get scores\n",
    "        scores = self._predict_raw(X)\n",
    "        \n",
    "        # trasnform scores to probabilities\n",
    "        exp_scores = np.exp(scores)\n",
    "        probs = exp_scores / np.sum(exp_scores, axis=1, keepdims=True)\n",
    "        \n",
    "        # logloss per each example\n",
    "        corect_logprobs = -np.log(probs[range(n),y])\n",
    "        \n",
    "        # total mean logloss\n",
    "        data_loss = np.sum(corect_logprobs) / n\n",
    "        \n",
    "        # predictions\n",
    "        pred = np.argmax(scores, axis=1)\n",
    "        # accuracy\n",
    "        acc = accuracy_score(y, pred)\n",
    "        \n",
    "        # final metrics\n",
    "        metrics = {\"acc\": acc, \"cost\": data_loss}\n",
    "        \n",
    "        return metrics\n",
    "        \n",
    "    def _predict_raw(self, X):\n",
    "        \"\"\"\n",
    "        Computes scores for each class and each object in X\n",
    "        \n",
    "        Args:\n",
    "            X(ndarray):      objects\n",
    "        \n",
    "        Return:\n",
    "            scores(ndarray): scores for each class and object\n",
    "        \"\"\"\n",
    "        # check whether X has appended bias feature or not\n",
    "        if X.shape[1] == len(self._theta):\n",
    "            scores = np.dot(X, self._theta)\n",
    "        else:\n",
    "            scores = np.dot(X, self.coef_) + self.intercept_\n",
    "        \n",
    "        return scores\n",
    "    \n",
    "    def predict(self, X):\n",
    "        \"\"\"\n",
    "        Predicts class for each object in X\n",
    "        \n",
    "        Args:\n",
    "            X(ndarray):      objects\n",
    "        \n",
    "        Return:\n",
    "            pred(ndarray):   class for each object\n",
    "        \"\"\"\n",
    "        # get scores for each class\n",
    "        scores = self._predict_raw(X)\n",
    "        # choose class with maximum score\n",
    "        pred = np.argmax(scores, axis=1)\n",
    "        return pred"
   ]
  },
  {
   "cell_type": "markdown",
   "metadata": {},
   "source": [
    "**Do not forget** to scale data before using this class. It is crucial."
   ]
  },
  {
   "cell_type": "code",
   "execution_count": 201,
   "metadata": {
    "collapsed": true
   },
   "outputs": [],
   "source": [
    "if np.max(X_train) > 4.:\n",
    "    X_train = X_train.astype(np.float32) / 255.\n",
    "if np.max(X_test) > 4.:\n",
    "    X_test = X_test.astype(np.float32) / 255."
   ]
  },
  {
   "cell_type": "markdown",
   "metadata": {},
   "source": [
    "Defining a model"
   ]
  },
  {
   "cell_type": "code",
   "execution_count": 202,
   "metadata": {
    "collapsed": true
   },
   "outputs": [],
   "source": [
    "model_lr_homegrown = LogisticRegressionHomegrown()"
   ]
  },
  {
   "cell_type": "markdown",
   "metadata": {},
   "source": [
    "Fitting example"
   ]
  },
  {
   "cell_type": "code",
   "execution_count": 203,
   "metadata": {
    "collapsed": false
   },
   "outputs": [
    {
     "name": "stderr",
     "output_type": "stream",
     "text": [
      "/opt/conda/lib/python3.6/site-packages/ipykernel_launcher.py:138: RuntimeWarning: overflow encountered in exp\n",
      "/opt/conda/lib/python3.6/site-packages/ipykernel_launcher.py:139: RuntimeWarning: invalid value encountered in true_divide\n",
      "/opt/conda/lib/python3.6/site-packages/ipykernel_launcher.py:142: RuntimeWarning: divide by zero encountered in log\n",
      "/opt/conda/lib/python3.6/site-packages/ipykernel_launcher.py:43: RuntimeWarning: overflow encountered in exp\n",
      "/opt/conda/lib/python3.6/site-packages/ipykernel_launcher.py:44: RuntimeWarning: invalid value encountered in true_divide\n"
     ]
    }
   ],
   "source": [
    "model_lr_homegrown.fit(X_train, y_train, max_iter=10, alpha=0.05)"
   ]
  },
  {
   "cell_type": "markdown",
   "metadata": {},
   "source": [
    "And we come up with all the $\\text{nan's}$ for objective function"
   ]
  },
  {
   "cell_type": "code",
   "execution_count": 204,
   "metadata": {
    "collapsed": false
   },
   "outputs": [
    {
     "data": {
      "text/plain": [
       "[nan, nan, nan, nan, nan, nan, nan, nan, nan, nan]"
      ]
     },
     "execution_count": 204,
     "metadata": {},
     "output_type": "execute_result"
    }
   ],
   "source": [
    "model_lr_homegrown.history[\"cost\"]"
   ]
  },
  {
   "cell_type": "markdown",
   "metadata": {},
   "source": [
    "And accuracy also does not change"
   ]
  },
  {
   "cell_type": "code",
   "execution_count": 205,
   "metadata": {
    "collapsed": false
   },
   "outputs": [
    {
     "data": {
      "text/plain": [
       "[0.079600000000000004,\n",
       " 0.10000000000000001,\n",
       " 0.10000000000000001,\n",
       " 0.10000000000000001,\n",
       " 0.10000000000000001,\n",
       " 0.10000000000000001,\n",
       " 0.10000000000000001,\n",
       " 0.10000000000000001,\n",
       " 0.10000000000000001,\n",
       " 0.10000000000000001]"
      ]
     },
     "execution_count": 205,
     "metadata": {},
     "output_type": "execute_result"
    }
   ],
   "source": [
    "model_lr_homegrown.history[\"acc\"]"
   ]
  },
  {
   "cell_type": "code",
   "execution_count": 208,
   "metadata": {
    "collapsed": false
   },
   "outputs": [
    {
     "data": {
      "text/html": [
       "<div>\n",
       "<style>\n",
       "    .dataframe thead tr:only-child th {\n",
       "        text-align: right;\n",
       "    }\n",
       "\n",
       "    .dataframe thead th {\n",
       "        text-align: left;\n",
       "    }\n",
       "\n",
       "    .dataframe tbody tr th {\n",
       "        vertical-align: top;\n",
       "    }\n",
       "</style>\n",
       "<table border=\"1\" class=\"dataframe\">\n",
       "  <thead>\n",
       "    <tr style=\"text-align: right;\">\n",
       "      <th></th>\n",
       "      <th>Model Description</th>\n",
       "      <th>Test Accuracy</th>\n",
       "      <th>#of Zero Coefficients</th>\n",
       "    </tr>\n",
       "  </thead>\n",
       "  <tbody>\n",
       "    <tr>\n",
       "      <th>0</th>\n",
       "      <td>LR Sklearn fake run</td>\n",
       "      <td>0.363</td>\n",
       "      <td>1,000</td>\n",
       "    </tr>\n",
       "    <tr>\n",
       "      <th>1</th>\n",
       "      <td>LR Homegrown</td>\n",
       "      <td>0.100</td>\n",
       "      <td>0</td>\n",
       "    </tr>\n",
       "  </tbody>\n",
       "</table>\n",
       "</div>"
      ],
      "text/plain": [
       "     Model Description  Test Accuracy #of Zero Coefficients\n",
       "0  LR Sklearn fake run          0.363                 1,000\n",
       "1         LR Homegrown          0.100                     0"
      ]
     },
     "execution_count": 208,
     "metadata": {},
     "output_type": "execute_result"
    }
   ],
   "source": [
    "y_pred_test = model_lr_homegrown.predict(X_test)\n",
    "acc = accuracy_score(y_test, y_pred_test)\n",
    "avg_zero = (30720 - np.count_nonzero(model_lr_homegrown.coef_)) / 10\n",
    "results.loc[len(results)] = [\"LR Homegrown\", np.round(acc, 3),avg_zero] #please update as needed\n",
    "\n",
    "# results.loc[len(results)] = [\"LR Homegrown Fix 1\", np.round(acc, 3)] #please update as needed\n",
    "\n",
    "results"
   ]
  },
  {
   "cell_type": "markdown",
   "metadata": {},
   "source": [
    "## Task: Softmax Numerical Stability\n",
    "What can be causing this kind of problem (\"NaN\")? (Hint: see the lecture slides \"Numerical Stability for softmax function\")\n",
    "* Please fix this problem\n",
    "* Next section has some background to help shed some light"
   ]
  },
  {
   "cell_type": "markdown",
   "metadata": {},
   "source": [
    "### Working with np.max and matrices\n",
    "Explore the code in the following section first to see why/how!"
   ]
  },
  {
   "cell_type": "code",
   "execution_count": 209,
   "metadata": {
    "collapsed": false
   },
   "outputs": [
    {
     "name": "stdout",
     "output_type": "stream",
     "text": [
      "Is this correct?\n",
      "Adjusted data1 [[-5 -4 -3]\n",
      " [-2 -1  0]]\n",
      "Adjusted data2 [[-2 -1  0]\n",
      " [-2 -1  0]]\n",
      "Normalised score...\n",
      " [[ 0.1         0.3         0.6       ]\n",
      " [ 0.16666667  0.33333333  0.5       ]]\n",
      "This produces NaNs: (see SECOND ROW) \n",
      " [[  3.86033521e-97   6.21315959e-49   1.00000000e+00]\n",
      " [  0.00000000e+00   0.00000000e+00              nan]]\n",
      "Probabilities...\n",
      " [[  3.86033521e-097   6.21315959e-049   1.00000000e+000]\n",
      " [  9.25896716e-242   1.49021879e-193   1.00000000e+000]]\n"
     ]
    },
    {
     "name": "stderr",
     "output_type": "stream",
     "text": [
      "/opt/conda/lib/python3.6/site-packages/ipykernel_launcher.py:29: RuntimeWarning: overflow encountered in exp\n",
      "/opt/conda/lib/python3.6/site-packages/ipykernel_launcher.py:29: RuntimeWarning: invalid value encountered in true_divide\n"
     ]
    }
   ],
   "source": [
    "## Working with np.max, softmax, and matrices\n",
    "import numpy as np\n",
    "\n",
    "# For more info on np.max check the following link :\n",
    "# https://docs.scipy.org/doc/numpy-1.13.0/reference/generated/numpy.amax.html\n",
    "\n",
    "#GOAL: On a per row basis: Substract  max of that row from each element in that row\n",
    "#ATTEMPT #1: \n",
    "f = np.array([[1, 2, 3],[4, 5, 6]])\n",
    "f1 = f - np.max(f)\n",
    "# this does not work as expected - as np.max(f) returns the overall max \n",
    "print (\"Is this correct?\")\n",
    "print (\"Adjusted data1\", f1)\n",
    "\n",
    "# take max of f per row \n",
    "#ATTEMPT #2: pay attention to axis and keepdims\n",
    "f2 = f - np.max(f, axis=1, keepdims=True)\n",
    "print (\"Adjusted data2\", f2)\n",
    "\n",
    "\n",
    "#Normalised score to sum to 1\n",
    "f=([1,3,6], [2,4,6])\n",
    "p = f / np.sum(f,axis=1, keepdims=True)\n",
    "print (\"Normalised score...\\n\", p)\n",
    "\n",
    "# The following data will not work with for the softmax calculation\n",
    "# out of bounds\n",
    "perpendicularDistances = np.array([[123, 234, 345],[444, 555, 999]])\n",
    "probs = np.exp(perpendicularDistances) / np.sum(np.exp(perpendicularDistances), axis=1, keepdims=True)\n",
    "print(\"This produces NaNs: (see SECOND ROW) \\n\", probs)\n",
    "# need to use adjusted data \n",
    "perpendicularDistances -= np.max(perpendicularDistances, axis=1, keepdims=True)\n",
    "# trasnform scores to probabilities\n",
    "exp_scores = np.exp(perpendicularDistances)\n",
    "probs = exp_scores / np.sum(exp_scores, axis=1, keepdims=True)\n",
    "print (\"Probabilities...\\n\", probs)"
   ]
  },
  {
   "cell_type": "code",
   "execution_count": 210,
   "metadata": {
    "code_folding": [],
    "collapsed": true
   },
   "outputs": [],
   "source": [
    "class FixedLogisticRegressionHomegrown(LogisticRegressionHomegrown):\n",
    "    \n",
    "    def __init__(self):\n",
    "        # call the constructor of the parent class\n",
    "        super(FixedLogisticRegressionHomegrown, self).__init__()\n",
    "        \n",
    "    #==================================================#\n",
    "    #               Place your code here               #\n",
    "    #     Redefine a method which causes the error     #\n",
    "    #               Hint: only one method              #\n",
    "    #==================================================#\n",
    "    \n",
    "    def _predict_raw(self, X):\n",
    "      \n",
    "        \"\"\"\n",
    "        Computes scores for each class and each object in X\n",
    "        \n",
    "        Args:\n",
    "          X(ndarray):      objects\n",
    "        \n",
    "        Return:\n",
    "            scores(ndarray): scores for each class and object\n",
    "        \"\"\"\n",
    "        # check whether X has appended bias feature or not\n",
    "        if X.shape[1] == len(self._theta):\n",
    "            scores = np.dot(X, self._theta)\n",
    "        else:\n",
    "            scores = np.dot(X, self.coef_) + self.intercept_\n",
    "        scores -= np.max(scores, axis=1, keepdims=True) # fix applied\n",
    "        return scores"
   ]
  },
  {
   "cell_type": "markdown",
   "metadata": {},
   "source": [
    "Defining a model"
   ]
  },
  {
   "cell_type": "code",
   "execution_count": 211,
   "metadata": {
    "collapsed": true
   },
   "outputs": [],
   "source": [
    "model_lr_homegrown_fixed = FixedLogisticRegressionHomegrown()"
   ]
  },
  {
   "cell_type": "markdown",
   "metadata": {},
   "source": [
    "Fitting example"
   ]
  },
  {
   "cell_type": "code",
   "execution_count": 212,
   "metadata": {
    "collapsed": true
   },
   "outputs": [],
   "source": [
    "model_lr_homegrown_fixed.fit(X_train, y_train, max_iter=2000, alpha=0.05, val_data=(X_test, y_test))"
   ]
  },
  {
   "cell_type": "code",
   "execution_count": 213,
   "metadata": {
    "collapsed": false
   },
   "outputs": [
    {
     "data": {
      "image/png": "[encoded data removed]",
      "text/plain": [
       "<matplotlib.figure.Figure at 0x7fc5cd4ff160>"
      ]
     },
     "metadata": {},
     "output_type": "display_data"
    }
   ],
   "source": [
    "plt.figure(figsize=(20, 8))\n",
    "plt.suptitle(\"Homegrown Logistic Regression\")\n",
    "plt.subplot(121)\n",
    "plt.plot(model_lr_homegrown_fixed.history[\"cost\"], label=\"Train\")\n",
    "plt.plot(model_lr_homegrown_fixed.history[\"val_cost\"], label=\"Test\")\n",
    "plt.legend(loc=\"upper left\")\n",
    "plt.xlabel(\"Iteration\")\n",
    "plt.ylabel(\"Loss\")\n",
    "plt.subplot(122)\n",
    "plt.plot(model_lr_homegrown_fixed.history[\"acc\"], label=\"Train\")\n",
    "plt.plot(model_lr_homegrown_fixed.history[\"val_acc\"], label=\"Test\")\n",
    "plt.legend(loc=\"upper left\")\n",
    "plt.xlabel(\"Iteration\")\n",
    "plt.ylabel(\"Accuracy\");"
   ]
  },
  {
   "cell_type": "markdown",
   "metadata": {},
   "source": [
    "Prediction"
   ]
  },
  {
   "cell_type": "code",
   "execution_count": 214,
   "metadata": {
    "collapsed": true
   },
   "outputs": [],
   "source": [
    "y_pred_test = model_lr_homegrown_fixed.predict(X_test)"
   ]
  },
  {
   "cell_type": "markdown",
   "metadata": {},
   "source": [
    "Accuracy"
   ]
  },
  {
   "cell_type": "code",
   "execution_count": 215,
   "metadata": {
    "collapsed": true
   },
   "outputs": [],
   "source": [
    "acc = accuracy_score(y_test, y_pred_test)"
   ]
  },
  {
   "cell_type": "code",
   "execution_count": 216,
   "metadata": {
    "collapsed": false
   },
   "outputs": [
    {
     "data": {
      "text/plain": [
       "[14.715202395020833,\n",
       " 11.060759352698541,\n",
       " 8.4307434986365237,\n",
       " 6.6762712267419717,\n",
       " 5.9932836005922772,\n",
       " 5.4989794918263524,\n",
       " 5.1565980638398567,\n",
       " 5.0453939302261768,\n",
       " 4.9773904377203753,\n",
       " 4.9367905000916128,\n",
       " 4.8703186856579279,\n",
       " 4.862154356400711,\n",
       " 4.7898063676876337,\n",
       " 4.7880202352198449,\n",
       " 4.7221096825488047,\n",
       " 4.7097745407858991,\n",
       " 4.6451400750616285,\n",
       " 4.6273981660640553,\n",
       " 4.5682786466495848,\n",
       " 4.5485769903929132,\n",
       " 4.4964101392616538,\n",
       " 4.4750151200667565,\n",
       " 4.4299034796859491,\n",
       " 4.4072573115398654,\n",
       " 4.368848957614726,\n",
       " 4.3447288157016022,\n",
       " 4.312782041791273,\n",
       " 4.2870425779593173,\n",
       " 4.2614132990126334,\n",
       " 4.233758634769166,\n",
       " 4.2144012156370279,\n",
       " 4.1846212780596383,\n",
       " 4.1714017071362788,\n",
       " 4.1394219304658346,\n",
       " 4.1319031485983997,\n",
       " 4.0980251544384814,\n",
       " 4.0952067368594181,\n",
       " 4.0602398499922927,\n",
       " 4.0604579092937332,\n",
       " 4.025814101204598,\n",
       " 4.0268981364914183,\n",
       " 3.994540011177623,\n",
       " 3.9941170363832295,\n",
       " 3.9665799815656761,\n",
       " 3.9622467908987251,\n",
       " 3.9427631016382212,\n",
       " 3.9322513949615008,\n",
       " 3.9243626989423706,\n",
       " 3.906589030185859,\n",
       " 3.910653458402404,\n",
       " 3.8881634918889141,\n",
       " 3.8942547091839907,\n",
       " 3.8733301797090562,\n",
       " 3.8691267145418968,\n",
       " 3.8530526303624275,\n",
       " 3.8422480479548358,\n",
       " 3.8290216640468397,\n",
       " 3.8174374629439249,\n",
       " 3.8063133233445727,\n",
       " 3.7941988238954028,\n",
       " 3.7842547632610084,\n",
       " 3.7722632569140604,\n",
       " 3.7637033129036355,\n",
       " 3.7511350806937394,\n",
       " 3.7438368479137876,\n",
       " 3.7307201758525657,\n",
       " 3.7252332145245033,\n",
       " 3.7107202371915453,\n",
       " 3.7072912101141964,\n",
       " 3.6911308700580006,\n",
       " 3.6905291999948444,\n",
       " 3.6717365843084044,\n",
       " 3.6745304769159448,\n",
       " 3.6525497195055578,\n",
       " 3.6598160882577826,\n",
       " 3.6333939610643129,\n",
       " 3.6461328016987551,\n",
       " 3.6143265776207278,\n",
       " 3.6340432783814469,\n",
       " 3.5953108596711654,\n",
       " 3.6233680810567601,\n",
       " 3.5766933440886683,\n",
       " 3.6144859243242435,\n",
       " 3.5589136550450684,\n",
       " 3.6066186331411134,\n",
       " 3.5428493529210376,\n",
       " 3.5990018379433955,\n",
       " 3.5289188700119762,\n",
       " 3.5898152490825623,\n",
       " 3.51697981151609,\n",
       " 3.578924448152998,\n",
       " 3.5059225032933115,\n",
       " 3.5666005876498472,\n",
       " 3.4952298912390716,\n",
       " 3.5543546019502559,\n",
       " 3.4844838496683574,\n",
       " 3.5420603130650532,\n",
       " 3.4739948159052045,\n",
       " 3.5305410571738163,\n",
       " 3.4634938915286417,\n",
       " 3.5189660665535434,\n",
       " 3.4533996911302487,\n",
       " 3.5082652572058288,\n",
       " 3.4432951910257352,\n",
       " 3.4972827720644397,\n",
       " 3.4337057433089742,\n",
       " 3.487310741032005,\n",
       " 3.4240422655174219,\n",
       " 3.4767865070693582,\n",
       " 3.4149933316476107,\n",
       " 3.4674969893657122,\n",
       " 3.4057582744225061,\n",
       " 3.4573166803672217,\n",
       " 3.3972537412403065,\n",
       " 3.4486999864364436,\n",
       " 3.3884067918396688,\n",
       " 3.4387519844344423,\n",
       " 3.3804410385951633,\n",
       " 3.4308290195800235,\n",
       " 3.3719276930690323,\n",
       " 3.4209924195016588,\n",
       " 3.3644966901627451,\n",
       " 3.4138149788820153,\n",
       " 3.3562534453094779,\n",
       " 3.4039499743130159,\n",
       " 3.3493605480638404,\n",
       " 3.3976048764897584,\n",
       " 3.3413161276356504,\n",
       " 3.3875433216510902,\n",
       " 3.3349755411538324,\n",
       " 3.3821593462282515,\n",
       " 3.3270502185247088,\n",
       " 3.3716943563741779,\n",
       " 3.3212894085469888,\n",
       " 3.3674516081687971,\n",
       " 3.3133934261466282,\n",
       " 3.3563255905079306,\n",
       " 3.3082549031283297,\n",
       " 3.3534671125666748,\n",
       " 3.3002866222581164,\n",
       " 3.3413580177175608,\n",
       " 3.2958290014752536,\n",
       " 3.340203343084974,\n",
       " 3.2876734527018745,\n",
       " 3.3267094509046715,\n",
       " 3.2839711707285124,\n",
       " 3.3276692268098356,\n",
       " 3.275500076319581,\n",
       " 3.3122937223901112,\n",
       " 3.2726403852434522,\n",
       " 3.3158832782258774,\n",
       " 3.2637156251226065,\n",
       " 3.2980216781537672,\n",
       " 3.2617902678251594,\n",
       " 3.3048689338886943,\n",
       " 3.2522743912853569,\n",
       " 3.2838057327235948,\n",
       " 3.2513615820327204,\n",
       " 3.2946445005074763,\n",
       " 3.2411414004445129,\n",
       " 3.269570849720643,\n",
       " 3.2412719328958151,\n",
       " 3.2852041592251662,\n",
       " 3.2303034868547709,\n",
       " 3.2552755149076025,\n",
       " 3.2314055013955945,\n",
       " 3.2764873491832618,\n",
       " 3.2197866054567053,\n",
       " 3.2409443939261737,\n",
       " 3.2216132392613699,\n",
       " 3.2683410531127146,\n",
       " 3.2096734269728948,\n",
       " 3.2267058671324578,\n",
       " 3.211744695279656,\n",
       " 3.2604980490471314,\n",
       " 3.2001011938117783,\n",
       " 3.2128107177647909,\n",
       " 3.2017282925794364,\n",
       " 3.2526147551669737,\n",
       " 3.1912109284115111,\n",
       " 3.1995956103324055,\n",
       " 3.1916626073724563,\n",
       " 3.2443902058940721,\n",
       " 3.1830511922051774,\n",
       " 3.187377675341903,\n",
       " 3.1818058579535085,\n",
       " 3.2356926615838075,\n",
       " 3.1755149409942947,\n",
       " 3.1763314955740616,\n",
       " 3.1724164472648364,\n",
       " 3.2265711963802177,\n",
       " 3.1683923074474492,\n",
       " 3.1664383630629236,\n",
       " 3.1636005661419055,\n",
       " 3.217157886669042,\n",
       " 3.1614906128405345,\n",
       " 3.1575389893609098,\n",
       " 3.155314005060724,\n",
       " 3.2075794375392395,\n",
       " 3.1547022449787354,\n",
       " 3.149429500119322,\n",
       " 3.1474518004855168,\n",
       " 3.1979274230121462,\n",
       " 3.1479946833834163,\n",
       " 3.1419315383661544,\n",
       " 3.1399132927765541,\n",
       " 3.188258597199344,\n",
       " 3.1413738382733389,\n",
       " 3.1349194006088497,\n",
       " 3.1326220960506408,\n",
       " 3.1786005219533546,\n",
       " 3.1348569706900875,\n",
       " 3.1283202394838279,\n",
       " 3.125524099330562,\n",
       " 3.1689561483428688,\n",
       " 3.1284602141925411,\n",
       " 3.1221049252633595,\n",
       " 3.1185803396413374,\n",
       " 3.1593066979592406,\n",
       " 3.1221947527530709,\n",
       " 3.1162790007049321,\n",
       " 3.1117604435166313,\n",
       " 3.1496127153686997,\n",
       " 3.1160662202286855,\n",
       " 3.1108769542337318,\n",
       " 3.1050375044959142,\n",
       " 3.1398132147098496,\n",
       " 3.1100740677774441,\n",
       " 3.1059599736205885,\n",
       " 3.0983841861656205,\n",
       " 3.129823195798795,\n",
       " 3.1042085716574475,\n",
       " 3.1016157106926796,\n",
       " 3.0917703071313873,\n",
       " 3.1195308013289904,\n",
       " 3.0984425093491077,\n",
       " 3.0979564208826256,\n",
       " 3.0851638966245742,\n",
       " 3.1087979220786384,\n",
       " 3.0927124327594901,\n",
       " 3.0951068533489923,\n",
       " 3.0785417086102265,\n",
       " 3.0974737176446507,\n",
       " 3.0868823722256762,\n",
       " 3.0931627768428691,\n",
       " 3.0719223944341398,\n",
       " 3.0854402230276081,\n",
       " 3.0806895450306295,\n",
       " 3.0920867759746589,\n",
       " 3.0654400896492584,\n",
       " 3.0727160589080809,\n",
       " 3.0737174514131884,\n",
       " 3.0915189118219621,\n",
       " 3.0594446782646423,\n",
       " 3.059618174381765,\n",
       " 3.0655623618381873,\n",
       " 3.0906096583511458,\n",
       " 3.0544838418401623,\n",
       " 3.0468831075080591,\n",
       " 3.0563684770310982,\n",
       " 3.0882491522808189,\n",
       " 3.0509062885954816,\n",
       " 3.0355498619502681,\n",
       " 3.0471915749197458,\n",
       " 3.0838388595822193,\n",
       " 3.0483174874518744,\n",
       " 3.0265187298096587,\n",
       " 3.0391069408561719,\n",
       " 3.077629490091891,\n",
       " 3.0458572102744044,\n",
       " 3.0200949423341035,\n",
       " 3.0321804883187369,\n",
       " 3.0700989373809864,\n",
       " 3.0430537575373573,\n",
       " 3.0160486037011394,\n",
       " 3.0258979615950512,\n",
       " 3.0614664897016928,\n",
       " 3.0399558185347186,\n",
       " 3.0140656371825738,\n",
       " 3.0197808210779677,\n",
       " 3.0516656076898392,\n",
       " 3.036746058207703,\n",
       " 3.0140754797160492,\n",
       " 3.0134544728631982,\n",
       " 3.040404117126688,\n",
       " 3.0334197120478419,\n",
       " 3.0163271810120103,\n",
       " 3.006611600108652,\n",
       " 3.027247074697363,\n",
       " 3.029392795305756,\n",
       " 3.021149391507393,\n",
       " 2.9992706042719131,\n",
       " 3.0119324059269683,\n",
       " 3.0227344818628645,\n",
       " 3.0278979722531667,\n",
       " 2.9927654824757548,\n",
       " 2.9951219050421476,\n",
       " 3.0103450259692215,\n",
       " 3.0329284067281685,\n",
       " 2.9906336863685583,\n",
       " 2.9788356428276908,\n",
       " 2.9945147829726815,\n",
       " 3.0317804407685571,\n",
       " 2.9941113789711915,\n",
       " 2.9660718887976518,\n",
       " 2.984658394137274,\n",
       " 3.0266064173227618,\n",
       " 2.9971459206801088,\n",
       " 2.9588033125083659,\n",
       " 2.9791833208715723,\n",
       " 3.0197247875497455,\n",
       " 2.9970538938128453,\n",
       " 2.9560103176628223,\n",
       " 2.9740042975212075,\n",
       " 3.0113838794768455,\n",
       " 2.995515915599074,\n",
       " 2.9565161766826051,\n",
       " 2.9682860190101885,\n",
       " 3.0013328664956536,\n",
       " 2.9938093062200157,\n",
       " 2.9600602050184692,\n",
       " 2.9615647556084714,\n",
       " 2.9889022983102551,\n",
       " 2.9919854336063021,\n",
       " 2.9672471192360463,\n",
       " 2.9533854205121419,\n",
       " 2.9734623466783052,\n",
       " 2.9876890879055829,\n",
       " 2.9783096634308137,\n",
       " 2.9448079415432358,\n",
       " 2.9556033748684309,\n",
       " 2.9738052764026413,\n",
       " 2.9885256348649434,\n",
       " 2.9422108651267642,\n",
       " 2.9375927223726874,\n",
       " 2.9504507868622452,\n",
       " 2.9883970475802477,\n",
       " 2.9514407828832425,\n",
       " 2.9224971297798819,\n",
       " 2.9416896355755098,\n",
       " 2.9844883533391551,\n",
       " 2.9587067013211477,\n",
       " 2.9145392411412838,\n",
       " 2.9385337024528546,\n",
       " 2.9785899104584348,\n",
       " 2.9598061948844219,\n",
       " 2.9119292413391604,\n",
       " 2.9340442674959584,\n",
       " 2.9708103247234705,\n",
       " 2.9588904083971377,\n",
       " 2.9133702245643458,\n",
       " 2.9283624141120956,\n",
       " 2.9610339366435774,\n",
       " 2.9581016892302952,\n",
       " 2.9186536158453289,\n",
       " 2.9210342480870493,\n",
       " 2.9482272067101065,\n",
       " 2.9574282655894533,\n",
       " 2.9287641293011379,\n",
       " 2.9114802889135656,\n",
       " 2.9317968023762973,\n",
       " 2.9522367079403415,\n",
       " 2.9434803387645725,\n",
       " 2.9022730634591642,\n",
       " 2.9136207299767092,\n",
       " 2.9297592147339167,\n",
       " 2.9526978237133172,\n",
       " 2.9053356386491687,\n",
       " 2.8954505586608423,\n",
       " 2.9051368645933238,\n",
       " 2.9489789035505449,\n",
       " 2.9210113182283841,\n",
       " 2.881984291142424,\n",
       " 2.9057406230339153,\n",
       " 2.9468518092187965,\n",
       " 2.9263686942058236,\n",
       " 2.875945451594446,\n",
       " 2.9024723950003417,\n",
       " 2.9404550936391538,\n",
       " 2.9265765954656979,\n",
       " 2.8749833067798725,\n",
       " 2.8977610405479677,\n",
       " 2.9325037824885039,\n",
       " 2.9259609964143629,\n",
       " 2.8783950407276389,\n",
       " 2.8913610624334893,\n",
       " 2.9219582798501942,\n",
       " 2.9262595547159056,\n",
       " 2.8866664082474554,\n",
       " 2.8824009430628208,\n",
       " 2.9074698394591389,\n",
       " 2.9258516019303022,\n",
       " 2.9011977873280572,\n",
       " 2.8709743326422394,\n",
       " 2.8897178241550971,\n",
       " 2.9127677973441628,\n",
       " 2.9174521977987462,\n",
       " 2.865712381233958,\n",
       " 2.8723459162125335,\n",
       " 2.8760934880827396,\n",
       " 2.9164742932361718,\n",
       " 2.882732319154576,\n",
       " 2.85423409053629,\n",
       " 2.8736480428766087,\n",
       " 2.9164710185862468,\n",
       " 2.8943765247627242,\n",
       " 2.8451410194065772,\n",
       " 2.8727275061191917,\n",
       " 2.9116975087286248,\n",
       " 2.8964595994368558,\n",
       " 2.8416209529577041,\n",
       " 2.8691669036483889,\n",
       " 2.9049003296780693,\n",
       " 2.8959458262137696,\n",
       " 2.8431990560654739,\n",
       " 2.8637277184013659,\n",
       " 2.8962392888959534,\n",
       " 2.8962052567482264,\n",
       " 2.8496386425627214,\n",
       " 2.8556942084959904,\n",
       " 2.8838046558378752,\n",
       " 2.8978476243757716,\n",
       " 2.862509879501681,\n",
       " 2.8441019596813129,\n",
       " 2.8669420865859983,\n",
       " 2.8936109902567533,\n",
       " 2.8815602584099702,\n",
       " 2.8332233545148702,\n",
       " 2.8500431886404693,\n",
       " 2.8591279674344681,\n",
       " 2.8886973243125031,\n",
       " 2.8432711139348545,\n",
       " 2.8311971706249146,\n",
       " 2.8379337845039943,\n",
       " 2.8847589124825399,\n",
       " 2.8643466463207625,\n",
       " 2.8184387641135147,\n",
       " 2.8460255049234533,\n",
       " 2.8850551674740634,\n",
       " 2.8683030628024397,\n",
       " 2.8124761613951912,\n",
       " 2.8424276185170143,\n",
       " 2.8786007133591913,\n",
       " 2.8680075269645244,\n",
       " 2.8120240206133342,\n",
       " 2.8378650520034103,\n",
       " 2.8713563523502308,\n",
       " 2.8677785038592272,\n",
       " 2.8166588556240262,\n",
       " 2.8307994972085342,\n",
       " 2.8609173127437417,\n",
       " 2.8697989518735545,\n",
       " 2.8274825379900044,\n",
       " 2.8198774012160297,\n",
       " 2.8454607933498939,\n",
       " 2.8711471532089781,\n",
       " 2.8462623752629028,\n",
       " 2.8063189915164934,\n",
       " 2.8280509875279591,\n",
       " 2.8487452802690303,\n",
       " 2.8621696645645565,\n",
       " 2.8066193975088343,\n",
       " 2.8123270522223449,\n",
       " 2.8038136946209655,\n",
       " 2.8533903314954987,\n",
       " 2.8345984678990916,\n",
       " 2.794517803947743,\n",
       " 2.8224740228752112,\n",
       " 2.8608721830709665,\n",
       " 2.8408040195498483,\n",
       " 2.7865550919892219,\n",
       " 2.8168235279521179,\n",
       " 2.8540428635450694,\n",
       " 2.8413791433117388,\n",
       " 2.7834926662755191,\n",
       " 2.8134290847949912,\n",
       " 2.8477820628802002,\n",
       " 2.8405886031635101,\n",
       " 2.7860019236670968,\n",
       " 2.8076787558035963,\n",
       " 2.8394918487014293,\n",
       " 2.8418870155680147,\n",
       " 2.7942076071601694,\n",
       " 2.7982020495320534,\n",
       " 2.8263186864451546,\n",
       " 2.845948556991746,\n",
       " 2.8103694529193737,\n",
       " 2.7843118911111508,\n",
       " 2.8086416214294507,\n",
       " 2.8398427801594868,\n",
       " 2.8320935021254834,\n",
       " 2.7747857415432096,\n",
       " 2.7948155995818116,\n",
       " 2.7882031134355345,\n",
       " 2.8299503295548525,\n",
       " 2.7971361366004359,\n",
       " 2.7739708630170781,\n",
       " 2.7911547449495901,\n",
       " 2.8347805198339686,\n",
       " 2.813437613808059,\n",
       " 2.7633101645276938,\n",
       " 2.7915792503578207,\n",
       " 2.8306136690251247,\n",
       " 2.8165797011215954,\n",
       " 2.757506062512002,\n",
       " 2.7899843282512169,\n",
       " 2.8248361712829881,\n",
       " 2.8155497535489462,\n",
       " 2.7579034027844442,\n",
       " 2.7857057856554253,\n",
       " 2.8185426403595777,\n",
       " 2.8154502855686676,\n",
       " 2.7636486496170916,\n",
       " 2.7778276647022082,\n",
       " 2.8081251130608789,\n",
       " 2.8192258193017921,\n",
       " 2.7765560519877117,\n",
       " 2.7650430630118126,\n",
       " 2.7916751201039864,\n",
       " 2.8228805116206632,\n",
       " 2.7983642474332675,\n",
       " 2.7503851783726869,\n",
       " 2.7755292120666208,\n",
       " 2.7916468576962719,\n",
       " 2.8116730637331746,\n",
       " 2.7570906937793489,\n",
       " 2.7611156462308912,\n",
       " 2.7471184202309602,\n",
       " 2.8004433197762149,\n",
       " 2.7893668747238807,\n",
       " 2.7437991568136617,\n",
       " 2.7754847712214894,\n",
       " 2.8114093244726042,\n",
       " 2.792649598212515,\n",
       " 2.7359221969666474,\n",
       " 2.767808827953421,\n",
       " 2.8037100861200575,\n",
       " 2.7917967662945613,\n",
       " 2.7328362407217943,\n",
       " 2.764614994610461,\n",
       " 2.7982734256193833,\n",
       " 2.790314000492041,\n",
       " 2.7356150517746824,\n",
       " 2.7586375281641695,\n",
       " 2.7906933397833154,\n",
       " 2.7921229967958361,\n",
       " 2.7446270035285947,\n",
       " 2.7480903881037477,\n",
       " 2.7771898580896277,\n",
       " 2.7987796693346603,\n",
       " 2.7624354799855229,\n",
       " 2.7329211785558769,\n",
       " 2.7590969917202308,\n",
       " 2.7945481275648647,\n",
       " 2.7857940193970183,\n",
       " 2.7239079858884274,\n",
       " 2.7482831124683798,\n",
       " 2.732796042854126,\n",
       " 2.7788435279040788,\n",
       " 2.7523573699978718,\n",
       " 2.7264232269011095,\n",
       " 2.747822082840663,\n",
       " 2.7896587583556358,\n",
       " 2.7663378849905493,\n",
       " 2.7160598061614545,\n",
       " 2.7428805224857111,\n",
       " 2.782537637432843,\n",
       " 2.7696129269800376,\n",
       " 2.7095522846948499,\n",
       " 2.7437046908272817,\n",
       " 2.777720230928522,\n",
       " 2.7678429150769075,\n",
       " 2.7097447584577661,\n",
       " 2.7399882594065748,\n",
       " 2.7728801765908218,\n",
       " 2.7669933244874034,\n",
       " 2.7152422376457812,\n",
       " 2.7319532172511392,\n",
       " 2.7634591043623136,\n",
       " 2.7714231623993584,\n",
       " 2.7281124674614752,\n",
       " 2.7186026195275961,\n",
       " 2.7469746290283927,\n",
       " 2.7793115545877556,\n",
       " 2.7505635463779092,\n",
       " 2.7029440189668565,\n",
       " 2.7305684650526074,\n",
       " 2.754540186218803,\n",
       " 2.7674352246637972,\n",
       " 2.7073441596438994,\n",
       " 2.7209389494308316,\n",
       " 2.692924113487833,\n",
       " 2.7501736940681418,\n",
       " 2.7452378765943592,\n",
       " 2.7004054294532964,\n",
       " 2.7353854313574675,\n",
       " 2.7686964032376875,\n",
       " 2.747861224497278,\n",
       " 2.6923550057212218,\n",
       " 2.7235766100814018,\n",
       " 2.7597372951114871,\n",
       " 2.7465425013053779,\n",
       " 2.6873781501323757,\n",
       " 2.7210373553306058,\n",
       " 2.7549547784000299,\n",
       " 2.7437124082111297,\n",
       " 2.6886956620980689,\n",
       " 2.7161053846399756,\n",
       " 2.7494766354974796,\n",
       " 2.74405850877256,\n",
       " 2.6960296192329718,\n",
       " 2.7062931361556894,\n",
       " 2.7378191538412238,\n",
       " 2.7515617041037448,\n",
       " 2.7116727414227864,\n",
       " 2.6919546401355432,\n",
       " 2.7199221219401051,\n",
       " 2.7585854916999337,\n",
       " 2.7360484408053027,\n",
       " 2.6782532732592386,\n",
       " 2.7070824706776073,\n",
       " 2.7141400580495807,\n",
       " 2.7428172720679509,\n",
       " 2.6949746724822465,\n",
       " 2.6931478357437766,\n",
       " 2.6808552142569373,\n",
       " 2.7350964409053158,\n",
       " 2.7253221954683147,\n",
       " 2.676566597183673,\n",
       " 2.7087097712177783,\n",
       " 2.7443941050254916,\n",
       " 2.7273984865913654,\n",
       " 2.6686687079356353,\n",
       " 2.7016928982111876,\n",
       " 2.7361996671982607,\n",
       " 2.7244356243886507,\n",
       " 2.6659043457526912,\n",
       " 2.6995051160198842,\n",
       " 2.7329151310727147,\n",
       " 2.7214877055218443,\n",
       " 2.6690054723462033,\n",
       " 2.6929761074308196,\n",
       " 2.7266009606936428,\n",
       " 2.723403927728691,\n",
       " 2.6785935900679347,\n",
       " 2.6812464518949519,\n",
       " 2.7126694976072647,\n",
       " 2.7338230917452293,\n",
       " 2.6972392839182913,\n",
       " 2.6662479746118204,\n",
       " 2.6943478780578536,\n",
       " 2.7359366051574847,\n",
       " 2.7223023106372306,\n",
       " 2.6563703579336528,\n",
       " 2.6862794586479404,\n",
       " 2.668720554487459,\n",
       " 2.7141568351603467,\n",
       " 2.6878360985964798,\n",
       " 2.6655661085233491,\n",
       " 2.6824457247131903,\n",
       " 2.7265745408154936,\n",
       " 2.7027288997708325,\n",
       " 2.6541717282437589,\n",
       " 2.677263879255511,\n",
       " 2.7178448775980972,\n",
       " 2.706701867254286,\n",
       " 2.6467501758093253,\n",
       " 2.6819642856832302,\n",
       " 2.7147172647161182,\n",
       " 2.703499803309342,\n",
       " 2.6461792205694037,\n",
       " 2.6786548739329707,\n",
       " 2.7121482123309617,\n",
       " 2.7004087222780417,\n",
       " 2.6506165107007043,\n",
       " 2.6704982317396957,\n",
       " 2.7047187380870548,\n",
       " 2.7040594107659746,\n",
       " 2.6622302324851765,\n",
       " 2.6572816034697069,\n",
       " 2.6887978757268449,\n",
       " 2.7168274060000144,\n",
       " 2.6833623160800251,\n",
       " 2.6423426853188188,\n",
       " 2.671200318631064,\n",
       " 2.7108318813584402,\n",
       " 2.706923083476418,\n",
       " 2.6380388127561911,\n",
       " 2.6667686410523141,\n",
       " 2.6301129591132599,\n",
       " 2.6865712091358529,\n",
       " 2.6797939231254562,\n",
       " 2.643052407601151,\n",
       " 2.6768552644383732,\n",
       " 2.7116116536892272,\n",
       " 2.6844321409357121,\n",
       " 2.6344391551991442,\n",
       " 2.6581799528602597,\n",
       " 2.6982851746712027,\n",
       " 2.6856362413571326,\n",
       " 2.626881626071266,\n",
       " 2.6615668842232059,\n",
       " 2.6952888758015523,\n",
       " 2.6817694868338031,\n",
       " 2.6265666357215136,\n",
       " 2.6585363406288032,\n",
       " 2.693464508410643,\n",
       " 2.6784530414606476,\n",
       " 2.6311329537443955,\n",
       " 2.6500143729293666,\n",
       " 2.6857375468406151,\n",
       " 2.6829692478203384,\n",
       " 2.6427099113362673,\n",
       " 2.6375905105661985,\n",
       " 2.6697736849620624,\n",
       " 2.6972959992919803,\n",
       " 2.6633308149866788,\n",
       " 2.6240003971430825,\n",
       " 2.6526488641346915,\n",
       " 2.6944462353009602,\n",
       " 2.6876366070865414,\n",
       " 2.6176078655239086,\n",
       " 2.6482676780771812,\n",
       " 2.6134430663545216,\n",
       " 2.6682146578327464,\n",
       " 2.6592904044976842,\n",
       " 2.6251062242119398,\n",
       " 2.6562306025840843,\n",
       " 2.6928446057101234,\n",
       " 2.6647012122956268,\n",
       " 2.6161014032954917,\n",
       " 2.6366387954555557,\n",
       " 2.677773492656558,\n",
       " 2.6668277664712869,\n",
       " 2.6083851866408083,\n",
       " 2.6434446579664823,\n",
       " 2.6764564996079758,\n",
       " 2.6627596045332345,\n",
       " 2.6080037538960963,\n",
       " 2.6399691850180504,\n",
       " 2.6752711321317251,\n",
       " 2.6582909474223153,\n",
       " 2.6121484127132835,\n",
       " 2.6312051736381514,\n",
       " 2.6681633740891537,\n",
       " 2.6621966287517331,\n",
       " 2.6232467143003961,\n",
       " 2.6189719037601971,\n",
       " 2.6523642118856454,\n",
       " 2.6774793224854205,\n",
       " 2.6431545573592881,\n",
       " 2.6065591828566737,\n",
       " 2.6353805414727587,\n",
       " 2.6792115290938758,\n",
       " 2.6684192203336821,\n",
       " 2.5974957616202046,\n",
       " 2.6301757718932217,\n",
       " 2.6017243892911051,\n",
       " 2.652515192091863,\n",
       " 2.6374114237003439,\n",
       " 2.6089371599047531,\n",
       " 2.6325597258314577,\n",
       " 2.6736780400552989,\n",
       " 2.6455711417269892,\n",
       " 2.5987439468867395,\n",
       " 2.6154720064003327,\n",
       " 2.6576627104633772,\n",
       " 2.649419170267493,\n",
       " 2.5911406587240808,\n",
       " 2.6267498203767783,\n",
       " 2.6586281895593435,\n",
       " 2.6450632264504748,\n",
       " 2.590536043015828,\n",
       " 2.6222444023775262,\n",
       " 2.6578131689040774,\n",
       " 2.6391613950519588,\n",
       " 2.5941795101799965,\n",
       " 2.613125056146635,\n",
       " 2.6514009830647951,\n",
       " 2.6422080454064365,\n",
       " 2.6048044342552337,\n",
       " 2.6009145556552347,\n",
       " 2.6356942641492869,\n",
       " 2.6582600543819366,\n",
       " 2.624007508037141,\n",
       " 2.5898835048505933,\n",
       " 2.6190213109645506,\n",
       " 2.6636873632326807,\n",
       " 2.6498214694073727,\n",
       " 2.5785645183619921,\n",
       " 2.6124446675881745,\n",
       " 2.592122809916638,\n",
       " 2.6382135474702535,\n",
       " 2.6159338129494056,\n",
       " 2.5942384224025172,\n",
       " 2.6070414342034338,\n",
       " 2.6535181255927855,\n",
       " 2.6280039451639055,\n",
       " 2.5820303401102822,\n",
       " 2.5983550983318238,\n",
       " 2.6402991232194792,\n",
       " 2.63278033488008,\n",
       " 2.5747056534517041,\n",
       " 2.6098501363275184,\n",
       " 2.6414499711531301,\n",
       " 2.6274088161962741,\n",
       " 2.5734197316394436,\n",
       " 2.6051717450884824,\n",
       " 2.6414111521811465,\n",
       " 2.6202138508790656,\n",
       " 2.5764675636883987,\n",
       " 2.5960208208125461,\n",
       " 2.6359676993967955,\n",
       " 2.6220443798881137,\n",
       " 2.5861017115650489,\n",
       " 2.5844009232976628,\n",
       " 2.6208569700263906,\n",
       " 2.6383335530684153,\n",
       " 2.6037637694983924,\n",
       " 2.5755088924991738,\n",
       " 2.6049032417043758,\n",
       " 2.6485082458060138,\n",
       " 2.6295515397637539,\n",
       " 2.5609656341980127,\n",
       " 2.594751587538588,\n",
       " 2.5935525085214848,\n",
       " 2.6284985434825852,\n",
       " 2.589473045093257,\n",
       " 2.5837992701607368,\n",
       " 2.5693992524234006,\n",
       " 2.6259949545582324,\n",
       " 2.613672679520854,\n",
       " 2.5659904013075514,\n",
       " 2.5938889104156897,\n",
       " 2.6309294270670338,\n",
       " 2.6165332315651999,\n",
       " 2.559186857371246,\n",
       " 2.5899404438929743,\n",
       " 2.6238768190283097,\n",
       " 2.6089612770304362,\n",
       " 2.5557673351482588,\n",
       " 2.5888915005118927,\n",
       " 2.6260827587185007,\n",
       " 2.6013367265595058,\n",
       " 2.5578755573170842,\n",
       " 2.5809975854348997,\n",
       " 2.6230501798389252,\n",
       " 2.599811389364008,\n",
       " 2.5648707128175854,\n",
       " 2.5704837674024272,\n",
       " 2.6099697391436938,\n",
       " 2.6141708093351741,\n",
       " 2.5787996154509569,\n",
       " 2.5654830520250593,\n",
       " 2.596089629335038,\n",
       " 2.6294086277383757,\n",
       " 2.6012096286412727,\n",
       " 2.549469010250708,\n",
       " 2.5796342990240322,\n",
       " 2.616677494854641,\n",
       " 2.6216416257824009,\n",
       " 2.550649332232314,\n",
       " 2.5793540818530012,\n",
       " 2.5269387091070481,\n",
       " 2.5902953750856694,\n",
       " 2.6010484511795928,\n",
       " 2.5560687246500793,\n",
       " 2.5937802381558792,\n",
       " 2.6232303653245079,\n",
       " 2.5991131753909622,\n",
       " 2.5490736864030272,\n",
       " 2.5741874011764274,\n",
       " 2.6117570832100361,\n",
       " 2.5948095405816707,\n",
       " 2.5408888345056555,\n",
       " 2.5707076625022984,\n",
       " 2.6088291608980727,\n",
       " 2.58513377408948,\n",
       " 2.5387081347427847,\n",
       " 2.5683652778306598,\n",
       " 2.6111873294048946,\n",
       " 2.5778119082274822,\n",
       " 2.5415548641338872,\n",
       " 2.5591071365866309,\n",
       " 2.6041597528216136,\n",
       " 2.5822700103027931,\n",
       " 2.5491729353324692,\n",
       " 2.5547624628235432,\n",
       " 2.5917741561660583,\n",
       " 2.5988767197445095,\n",
       " 2.5636038338913889,\n",
       " 2.5496936421977772,\n",
       " 2.5788032265928935,\n",
       " 2.6120525621962765,\n",
       " 2.5855974396178647,\n",
       " 2.5316105236192241,\n",
       " 2.5616913898892024,\n",
       " 2.5981434959435288,\n",
       " 2.6045929161158834,\n",
       " 2.5351469756588538,\n",
       " 2.5620881227354357,\n",
       " 2.5103136746443355,\n",
       " 2.5734782893187087,\n",
       " 2.5846550379026665,\n",
       " 2.5390623744218623,\n",
       " 2.5761081165100905,\n",
       " 2.6057137592068997,\n",
       " 2.5823703473200887,\n",
       " 2.5322022535130255,\n",
       " 2.5567323070599821,\n",
       " 2.5939343598312101,\n",
       " 2.5772439230167823,\n",
       " 2.5243230954671088,\n",
       " 2.5535349307902035,\n",
       " 2.5923140703608452,\n",
       " 2.5665987471629843,\n",
       " 2.5222942471782619,\n",
       " 2.5505407249225907,\n",
       " 2.5951528037948113,\n",
       " 2.5585220661790671,\n",
       " 2.5250617951343046,\n",
       " 2.540712515815378,\n",
       " 2.5873705376519878,\n",
       " 2.564155472611823,\n",
       " 2.5324123287408811,\n",
       " 2.5388117504820382,\n",
       " 2.5758551142614023,\n",
       " 2.5808457765819623,\n",
       " 2.5465306084827515,\n",
       " 2.5339605868792483,\n",
       " 2.5633901047561567,\n",
       " 2.5939660475526791,\n",
       " 2.5675434976220219,\n",
       " 2.51577738559509,\n",
       " 2.5455480732950835,\n",
       " 2.5862194297484331,\n",
       " 2.5882979097901342,\n",
       " 2.5158472323519456,\n",
       " 2.5459104802444656,\n",
       " 2.4978959531600093,\n",
       " 2.5582494364155086,\n",
       " 2.566604591819035,\n",
       " 2.5240136843253338,\n",
       " 2.5576089238295272,\n",
       " 2.5903054542270918,\n",
       " 2.5640358079146108,\n",
       " 2.5162313560969296,\n",
       " 2.5350403050450421,\n",
       " 2.5749718048283787,\n",
       " 2.5598632086069055,\n",
       " 2.5077946474219699,\n",
       " 2.5379372496850401,\n",
       " 2.5758193676469601,\n",
       " 2.5505950793028327,\n",
       " 2.506512743626792,\n",
       " 2.5344144873779615,\n",
       " 2.5794859627540103,\n",
       " 2.5408426769274266,\n",
       " 2.5086751777924388,\n",
       " 2.5241495541181047,\n",
       " 2.5724253880924506,\n",
       " 2.5452791289463703,\n",
       " 2.5152688423186005,\n",
       " 2.5227693552612176,\n",
       " 2.5611897036893176,\n",
       " 2.5620904365436399,\n",
       " 2.5286331867244853,\n",
       " 2.5196791427837701,\n",
       " 2.5500034197339581,\n",
       " 2.5750614820278459,\n",
       " 2.5479776238953127,\n",
       " 2.501954353614924,\n",
       " 2.5313959262439516,\n",
       " 2.5767245149294284,\n",
       " 2.5713447066062556,\n",
       " 2.4953819903220542,\n",
       " 2.5292174431932302,\n",
       " 2.4954838694648607,\n",
       " 2.548082153267051,\n",
       " 2.5442638842498244,\n",
       " 2.5113082112592102,\n",
       " 2.5325774833199421,\n",
       " 2.5742141945194636,\n",
       " 2.5447004996352529,\n",
       " 2.5011454939184214,\n",
       " 2.5086244207965631,\n",
       " 2.5517654597273074,\n",
       " 2.5458729747849005,\n",
       " 2.493777748787553,\n",
       " 2.5275954175082131,\n",
       " 2.5605614155870056,\n",
       " 2.5394868098918728,\n",
       " 2.4937035421138107,\n",
       " 2.51889671580581,\n",
       " 2.5630596534887218,\n",
       " 2.5262363729575723,\n",
       " 2.4952774567696006,\n",
       " 2.5066962617839388,\n",
       " 2.5563229686225646,\n",
       " 2.5297242730972314,\n",
       " ...]"
      ]
     },
     "execution_count": 216,
     "metadata": {},
     "output_type": "execute_result"
    }
   ],
   "source": [
    "model_lr_homegrown_fixed.history[\"cost\"]"
   ]
  },
  {
   "cell_type": "markdown",
   "metadata": {},
   "source": [
    "Keeping table of results up-to-date"
   ]
  },
  {
   "cell_type": "code",
   "execution_count": 217,
   "metadata": {
    "collapsed": false
   },
   "outputs": [
    {
     "data": {
      "text/html": [
       "<div>\n",
       "<style>\n",
       "    .dataframe thead tr:only-child th {\n",
       "        text-align: right;\n",
       "    }\n",
       "\n",
       "    .dataframe thead th {\n",
       "        text-align: left;\n",
       "    }\n",
       "\n",
       "    .dataframe tbody tr th {\n",
       "        vertical-align: top;\n",
       "    }\n",
       "</style>\n",
       "<table border=\"1\" class=\"dataframe\">\n",
       "  <thead>\n",
       "    <tr style=\"text-align: right;\">\n",
       "      <th></th>\n",
       "      <th>Model Description</th>\n",
       "      <th>Test Accuracy</th>\n",
       "      <th>#of Zero Coefficients</th>\n",
       "    </tr>\n",
       "  </thead>\n",
       "  <tbody>\n",
       "    <tr>\n",
       "      <th>0</th>\n",
       "      <td>LR Sklearn fake run</td>\n",
       "      <td>0.363</td>\n",
       "      <td>1,000</td>\n",
       "    </tr>\n",
       "    <tr>\n",
       "      <th>1</th>\n",
       "      <td>LR Homegrown</td>\n",
       "      <td>0.100</td>\n",
       "      <td>0</td>\n",
       "    </tr>\n",
       "    <tr>\n",
       "      <th>2</th>\n",
       "      <td>LR Homegrown Fix 1</td>\n",
       "      <td>0.267</td>\n",
       "      <td>0</td>\n",
       "    </tr>\n",
       "  </tbody>\n",
       "</table>\n",
       "</div>"
      ],
      "text/plain": [
       "     Model Description  Test Accuracy #of Zero Coefficients\n",
       "0  LR Sklearn fake run          0.363                 1,000\n",
       "1         LR Homegrown          0.100                     0\n",
       "2   LR Homegrown Fix 1          0.267                     0"
      ]
     },
     "execution_count": 217,
     "metadata": {},
     "output_type": "execute_result"
    }
   ],
   "source": [
    "avg_zero = (30720 - np.count_nonzero(model_lr_homegrown_fixed.coef_)) / 10\n",
    "results.loc[len(results)] = [\"LR Homegrown Fix 1\", np.round(acc, 3),avg_zero] #please update as needed\n",
    "\n",
    "# results.loc[len(results)] = [\"LR Homegrown Fix 1\", np.round(acc, 3)] #please update as needed\n",
    "\n",
    "results"
   ]
  },
  {
   "cell_type": "markdown",
   "metadata": {},
   "source": [
    "## Task: improve by tuning training algo.\n",
    "Look at the plots obtained at the end of task 1 (it fluctuates a lot). This behaviour is very common to stochastic gradient descent. But here we are using full GD. What could be causing this problem? (*Hint*: a hyperparameter of the training algorithm)\n",
    "* Describe what's going on on the plots that you got\n",
    "* Try to fix it (*Hint*: you do NOT need to change the class implemented before)\n",
    "\n",
    "P.S.\n",
    "Test accuracy before this fix should be about 26%. This should jump to  31% after. "
   ]
  },
  {
   "cell_type": "code",
   "execution_count": 218,
   "metadata": {
    "collapsed": false
   },
   "outputs": [
    {
     "name": "stderr",
     "output_type": "stream",
     "text": [
      "/opt/conda/lib/python3.6/site-packages/ipykernel_launcher.py:142: RuntimeWarning: divide by zero encountered in log\n"
     ]
    },
    {
     "name": "stdout",
     "output_type": "stream",
     "text": [
      "alpha =  1.0 Accuracy = 0.292 Max_iteration = 2000\n",
      "alpha =  0.1 Accuracy = 0.301 Max_iteration = 2000\n",
      "alpha =  0.001 Accuracy = 0.302 Max_iteration = 2000\n"
     ]
    }
   ],
   "source": [
    "#==================================================#\n",
    "#               Place your code here               #\n",
    "#==================================================#\n",
    "\n",
    "alphas = np.array([1,0.1, 0.001])\n",
    "# alphas = np.array([0.1])\n",
    "for a in alphas:\n",
    "    model_lr_homegrown_fixed.fit(X_train, y_train, max_iter=2000, alpha=a, val_data=(X_test, y_test))\n",
    "    y_pred_test = model_lr_homegrown_fixed.predict(X_test)\n",
    "    acc = accuracy_score(y_test, y_pred_test)\n",
    "    print(\"alpha = \",a, \"Accuracy =\", acc, \"Max_iteration = 2000\")"
   ]
  },
  {
   "cell_type": "markdown",
   "metadata": {},
   "source": [
    "** Note: I was able to get about 31% test set accuracy with all the fixes and tunes**"
   ]
  },
  {
   "cell_type": "markdown",
   "metadata": {},
   "source": [
    "## Task : Visualize the  weight vectors\n",
    "Visualize the  weight vectors (like images) for each class for both Sklearn learnt model and best homegrown learnt model. Can you see any class patterns? How long did it take to run? in both cases?\n",
    "\n",
    "### Task : Use all training data and visualize the  weight vectors\n",
    "Try to use all the training data to learn a classification model  Sklearn and then visual the resulting weight vectors. Notice any differences. How long did it take to run?"
   ]
  },
  {
   "cell_type": "code",
   "execution_count": 107,
   "metadata": {
    "collapsed": false
   },
   "outputs": [
    {
     "name": "stdout",
     "output_type": "stream",
     "text": [
      "30720\n",
      "[ 204.00738343   45.55417445  206.91766806 ...,  490.84380749  345.63014036\n",
      "  289.12126053]\n",
      "[ 505.92723209  723.83699002  447.89864654 ...,  530.49689488  266.27362179\n",
      "  296.20762367]\n",
      "[ 247.06184385  284.5118913   350.2768096  ...,  338.8071742    21.72161897\n",
      "  415.79743507]\n",
      "[ 262.22505959  606.41207153  738.16585304 ...,  145.20681914  301.72843113\n",
      "  183.77165955]\n",
      "[ 563.33647752  140.69538025  369.94859321 ...,  776.28112974  294.07552592\n",
      "  544.79433779]\n",
      "[  97.48232302  196.99042377  321.93953763 ...,  171.85792908   28.05859914\n",
      "  356.2038542 ]\n",
      "[ 577.74169351  301.22074245   94.51008874 ...,  404.43269774  259.38847731\n",
      "  142.18554055]\n",
      "[ 211.3757314   258.04969057  362.101543   ...,  140.67041817  398.92917727\n",
      "  239.39864659]\n",
      "[   68.80566278   303.33531716   229.38393877 ...,   966.74651682\n",
      "   959.16301192  1104.51646787]\n",
      "[  89.65234577  130.3533634   254.40771065 ...,  293.24221546  367.9781381\n",
      "  650.5561817 ]\n"
     ]
    },
    {
     "data": {
      "image/png": "[encoded data removed]",
      "text/plain": [
       "<matplotlib.figure.Figure at 0x7fc5f2fbc400>"
      ]
     },
     "metadata": {},
     "output_type": "display_data"
    }
   ],
   "source": [
    "#==================================================#\n",
    "#               Place your code here               #\n",
    "#   Hint: use show_pic() function defined above    #\n",
    "#==================================================#\n",
    "w_vect = np.abs(model_lr_sklearn.coef_ *3072000)\n",
    "# w_vect = model_lr_sklearn.coef_\n",
    "print(w_vect.size)\n",
    "# classes_idx_examples = np.zeros(10, dtype=np.int)\n",
    "# for i in range(10):\n",
    "#     classes_idx_examples[i] = np.where(y_train == i)[0][0]\n",
    "#     print(classes_idx_examples[i])\n",
    "\n",
    "plt.figure(figsize=(12, 5))\n",
    "for i in range(10):\n",
    "    plt.subplot(2, 5, i + 1)\n",
    "#     show_pic(w_vect[classes_idx_examples[i]])\n",
    "    print(w_vect[i])\n",
    "    show_pic(w_vect[i])\n",
    "    plt.title(classes[i])\n",
    "    "
   ]
  },
  {
   "cell_type": "code",
   "execution_count": 106,
   "metadata": {
    "collapsed": false
   },
   "outputs": [
    {
     "data": {
      "image/png": "[encoded data removed]",
      "text/plain": [
       "<matplotlib.figure.Figure at 0x7fc5eb9884e0>"
      ]
     },
     "metadata": {},
     "output_type": "display_data"
    }
   ],
   "source": [
    "classes_idx_examples = np.zeros(10, dtype=np.int)\n",
    "\n",
    "for i in range(10):\n",
    "    classes_idx_examples[i] = np.where(y_pred_test == i)[0][0]\n",
    "\n",
    "plt.figure(figsize=(12, 5))\n",
    "for i in range(10):\n",
    "    plt.subplot(2, 5, i + 1)\n",
    "#     print(X_train[classes_idx_examples[i]])\n",
    "    show_pic(X_test[classes_idx_examples[i]])\n",
    "    plt.title(classes[i])\n",
    "\n"
   ]
  },
  {
   "cell_type": "markdown",
   "metadata": {},
   "source": [
    "## T-SNE dimensionality reduction.\n",
    "\n",
    "See [this](https://www.dropbox.com/s/q0lrqtphxh5j4uv/6-Mapping_Representations-tSNE-visualize-DL-Model-Layers.ipynb?dl=0) notebook and also search materials on the internet (e.g. [this](http://distill.pub/2016/misread-tsne/) one) on T-SNE (t-Distributed Stochastic Neighbor Embedding).\n",
    "\n",
    "Perform this embedding (there is [sklearn](http://scikit-learn.org/stable/modules/generated/sklearn.manifold.TSNE.html) implementation) on first three classes and 500 examples per each of them (this is done ro reduce the execution time)"
   ]
  },
  {
   "cell_type": "code",
   "execution_count": null,
   "metadata": {
    "collapsed": true
   },
   "outputs": [],
   "source": []
  }
 ],
 "metadata": {
  "anaconda-cloud": {},
  "kernelspec": {
   "display_name": "Python 3",
   "language": "python",
   "name": "python3"
  },
  "language_info": {
   "codemirror_mode": {
    "name": "ipython",
    "version": 3
   },
   "file_extension": ".py",
   "mimetype": "text/x-python",
   "name": "python",
   "nbconvert_exporter": "python",
   "pygments_lexer": "ipython3",
   "version": "3.6.0"
  },
  "toc": {
   "nav_menu": {
    "height": "48px",
    "width": "252px"
   },
   "number_sections": true,
   "sideBar": true,
   "skip_h1_title": false,
   "toc_cell": false,
   "toc_position": {
    "height": "415px",
    "left": "0px",
    "right": "834.667px",
    "top": "106px",
    "width": "232px"
   },
   "toc_section_display": "block",
   "toc_window_display": true
  }
 },
 "nbformat": 4,
 "nbformat_minor": 1
}
