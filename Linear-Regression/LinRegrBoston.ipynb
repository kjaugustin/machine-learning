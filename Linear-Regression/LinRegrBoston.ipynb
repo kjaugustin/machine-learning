{
 "cells": [
  {
   "cell_type": "markdown",
   "metadata": {
    "toc": "true"
   },
   "source": [
    "<h1>Table of Contents<span class=\"tocSkip\"></span></h1>\n",
    "<div class=\"toc\" style=\"margin-top: 1em;\"><ul class=\"toc-item\"><li><span><a href=\"#Boston-House-Prices\" data-toc-modified-id=\"Boston-House-Prices-1\"><span class=\"toc-item-num\">1&nbsp;&nbsp;</span>Boston House Prices</a></span></li><li><span><a href=\"#Preparation\" data-toc-modified-id=\"Preparation-2\"><span class=\"toc-item-num\">2&nbsp;&nbsp;</span>Preparation</a></span></li><li><span><a href=\"#Reading-data\" data-toc-modified-id=\"Reading-data-3\"><span class=\"toc-item-num\">3&nbsp;&nbsp;</span>Reading data</a></span></li><li><span><a href=\"#Data-preprocessing\" data-toc-modified-id=\"Data-preprocessing-4\"><span class=\"toc-item-num\">4&nbsp;&nbsp;</span>Data preprocessing</a></span><ul class=\"toc-item\"><li><span><a href=\"#Splitting\" data-toc-modified-id=\"Splitting-4.1\"><span class=\"toc-item-num\">4.1&nbsp;&nbsp;</span>Splitting</a></span></li><li><span><a href=\"#Scaling\" data-toc-modified-id=\"Scaling-4.2\"><span class=\"toc-item-num\">4.2&nbsp;&nbsp;</span>Scaling</a></span></li></ul></li><li><span><a href=\"#Sklearn-Linear-Regression\" data-toc-modified-id=\"Sklearn-Linear-Regression-5\"><span class=\"toc-item-num\">5&nbsp;&nbsp;</span>Sklearn Linear Regression</a></span><ul class=\"toc-item\"><li><span><a href=\"#Fitting\" data-toc-modified-id=\"Fitting-5.1\"><span class=\"toc-item-num\">5.1&nbsp;&nbsp;</span>Fitting</a></span></li><li><span><a href=\"#Evaluation\" data-toc-modified-id=\"Evaluation-5.2\"><span class=\"toc-item-num\">5.2&nbsp;&nbsp;</span>Evaluation</a></span></li><li><span><a href=\"#Cross-validation\" data-toc-modified-id=\"Cross-validation-5.3\"><span class=\"toc-item-num\">5.3&nbsp;&nbsp;</span>Cross-validation</a></span></li><li><span><a href=\"#Cross-validation-with-k=10,-with-stdev\" data-toc-modified-id=\"Cross-validation-with-k=10,-with-stdev-5.4\"><span class=\"toc-item-num\">5.4&nbsp;&nbsp;</span>Cross-validation with k=10, with stdev</a></span></li></ul></li><li><span><a href=\"#Linear-Regression-via-GD-from-scratch\" data-toc-modified-id=\"Linear-Regression-via-GD-from-scratch-6\"><span class=\"toc-item-num\">6&nbsp;&nbsp;</span>Linear Regression via GD from scratch</a></span><ul class=\"toc-item\"><li><span><a href=\"#Data\" data-toc-modified-id=\"Data-6.1\"><span class=\"toc-item-num\">6.1&nbsp;&nbsp;</span>Data</a></span></li><li><span><a href=\"#Fitting\" data-toc-modified-id=\"Fitting-6.2\"><span class=\"toc-item-num\">6.2&nbsp;&nbsp;</span>Fitting</a></span></li><li><span><a href=\"#Evaluation\" data-toc-modified-id=\"Evaluation-6.3\"><span class=\"toc-item-num\">6.3&nbsp;&nbsp;</span>Evaluation</a></span></li></ul></li><li><span><a href=\"#Assignment\" data-toc-modified-id=\"Assignment-7\"><span class=\"toc-item-num\">7&nbsp;&nbsp;</span>Assignment</a></span><ul class=\"toc-item\"><li><span><a href=\"#Random-search\" data-toc-modified-id=\"Random-search-7.1\"><span class=\"toc-item-num\">7.1&nbsp;&nbsp;</span>Random search</a></span></li><li><span><a href=\"#Numerical-check\" data-toc-modified-id=\"Numerical-check-7.2\"><span class=\"toc-item-num\">7.2&nbsp;&nbsp;</span>Numerical check</a></span></li><li><span><a href=\"#Stochastic-Gradient-Descent\" data-toc-modified-id=\"Stochastic-Gradient-Descent-7.3\"><span class=\"toc-item-num\">7.3&nbsp;&nbsp;</span>Stochastic Gradient Descent</a></span></li><li><span><a href=\"#L1-and-L2-regularization-for-Linear-Regression\" data-toc-modified-id=\"L1-and-L2-regularization-for-Linear-Regression-7.4\"><span class=\"toc-item-num\">7.4&nbsp;&nbsp;</span>L1 and L2 regularization for Linear Regression</a></span></li></ul></li><li><span><a href=\"#Optional-Assignments:\" data-toc-modified-id=\"Optional-Assignments:-8\"><span class=\"toc-item-num\">8&nbsp;&nbsp;</span>Optional Assignments:</a></span><ul class=\"toc-item\"><li><span><a href=\"#Line-Search-of-the-step-size\" data-toc-modified-id=\"Line-Search-of-the-step-size-8.1\"><span class=\"toc-item-num\">8.1&nbsp;&nbsp;</span>Line Search of the step size</a></span></li></ul></li></ul></div>"
   ]
  },
  {
   "cell_type": "markdown",
   "metadata": {},
   "source": [
    "# Boston House Prices"
   ]
  },
  {
   "cell_type": "markdown",
   "metadata": {},
   "source": [
    "In this notebook we're going to build a basic predictive regression model for estimating the house prices in thousands of $ given some housing factors such as crime rate in neighborhood, number of schools % lower status of the population etc."
   ]
  },
  {
   "cell_type": "markdown",
   "metadata": {},
   "source": [
    "# Preparation"
   ]
  },
  {
   "cell_type": "markdown",
   "metadata": {},
   "source": [
    "Import required libraries"
   ]
  },
  {
   "cell_type": "code",
   "execution_count": 1,
   "metadata": {
    "collapsed": false
   },
   "outputs": [
    {
     "name": "stderr",
     "output_type": "stream",
     "text": [
      "C:\\ProgramData\\Anaconda3\\lib\\site-packages\\sklearn\\cross_validation.py:41: DeprecationWarning: This module was deprecated in version 0.18 in favor of the model_selection module into which all the refactored classes and functions are moved. Also note that the interface of the new CV iterators are different from that of this module. This module will be removed in 0.20.\n",
      "  \"This module will be removed in 0.20.\", DeprecationWarning)\n"
     ]
    }
   ],
   "source": [
    "import numpy as np\n",
    "import pandas as pd\n",
    "\n",
    "from sklearn.datasets import load_boston\n",
    "from sklearn.model_selection import train_test_split\n",
    "from sklearn.cross_validation import KFold\n",
    "from sklearn.preprocessing import MinMaxScaler\n",
    "from sklearn.linear_model import LinearRegression\n",
    "from sklearn.metrics import mean_absolute_error, mean_squared_error\n",
    "from sklearn import linear_model\n",
    "\n",
    "import matplotlib\n",
    "import matplotlib.pyplot as plt\n",
    "import seaborn as sns\n",
    "\n",
    "%matplotlib inline"
   ]
  },
  {
   "cell_type": "markdown",
   "metadata": {},
   "source": [
    "Set style for plotting"
   ]
  },
  {
   "cell_type": "code",
   "execution_count": 2,
   "metadata": {
    "collapsed": true
   },
   "outputs": [],
   "source": [
    "sns.set(style=\"whitegrid\", font_scale=1.3)\n",
    "matplotlib.rcParams[\"legend.framealpha\"] = 1\n",
    "matplotlib.rcParams[\"legend.frameon\"] = True"
   ]
  },
  {
   "cell_type": "markdown",
   "metadata": {},
   "source": [
    "Fix random seed for reproducibility"
   ]
  },
  {
   "cell_type": "code",
   "execution_count": 3,
   "metadata": {
    "collapsed": true
   },
   "outputs": [],
   "source": [
    "np.random.seed(42)"
   ]
  },
  {
   "cell_type": "markdown",
   "metadata": {},
   "source": [
    "# Reading data"
   ]
  },
  {
   "cell_type": "markdown",
   "metadata": {},
   "source": [
    "Boston dataset is extremely common in machine learning experiments thus it is embedded in sklearn."
   ]
  },
  {
   "cell_type": "code",
   "execution_count": 4,
   "metadata": {
    "collapsed": true
   },
   "outputs": [],
   "source": [
    "boston = load_boston()"
   ]
  },
  {
   "cell_type": "markdown",
   "metadata": {},
   "source": [
    "Detailed description of dataset and features"
   ]
  },
  {
   "cell_type": "code",
   "execution_count": 5,
   "metadata": {
    "collapsed": false
   },
   "outputs": [
    {
     "name": "stdout",
     "output_type": "stream",
     "text": [
      "Boston House Prices dataset\n",
      "===========================\n",
      "\n",
      "Notes\n",
      "------\n",
      "Data Set Characteristics:  \n",
      "\n",
      "    :Number of Instances: 506 \n",
      "\n",
      "    :Number of Attributes: 13 numeric/categorical predictive\n",
      "    \n",
      "    :Median Value (attribute 14) is usually the target\n",
      "\n",
      "    :Attribute Information (in order):\n",
      "        - CRIM     per capita crime rate by town\n",
      "        - ZN       proportion of residential land zoned for lots over 25,000 sq.ft.\n",
      "        - INDUS    proportion of non-retail business acres per town\n",
      "        - CHAS     Charles River dummy variable (= 1 if tract bounds river; 0 otherwise)\n",
      "        - NOX      nitric oxides concentration (parts per 10 million)\n",
      "        - RM       average number of rooms per dwelling\n",
      "        - AGE      proportion of owner-occupied units built prior to 1940\n",
      "        - DIS      weighted distances to five Boston employment centres\n",
      "        - RAD      index of accessibility to radial highways\n",
      "        - TAX      full-value property-tax rate per $10,000\n",
      "        - PTRATIO  pupil-teacher ratio by town\n",
      "        - B        1000(Bk - 0.63)^2 where Bk is the proportion of blacks by town\n",
      "        - LSTAT    % lower status of the population\n",
      "        - MEDV     Median value of owner-occupied homes in $1000's\n",
      "\n",
      "    :Missing Attribute Values: None\n",
      "\n",
      "    :Creator: Harrison, D. and Rubinfeld, D.L.\n",
      "\n",
      "This is a copy of UCI ML housing dataset.\n",
      "http://archive.ics.uci.edu/ml/datasets/Housing\n",
      "\n",
      "\n",
      "This dataset was taken from the StatLib library which is maintained at Carnegie Mellon University.\n",
      "\n",
      "The Boston house-price data of Harrison, D. and Rubinfeld, D.L. 'Hedonic\n",
      "prices and the demand for clean air', J. Environ. Economics & Management,\n",
      "vol.5, 81-102, 1978.   Used in Belsley, Kuh & Welsch, 'Regression diagnostics\n",
      "...', Wiley, 1980.   N.B. Various transformations are used in the table on\n",
      "pages 244-261 of the latter.\n",
      "\n",
      "The Boston house-price data has been used in many machine learning papers that address regression\n",
      "problems.   \n",
      "     \n",
      "**References**\n",
      "\n",
      "   - Belsley, Kuh & Welsch, 'Regression diagnostics: Identifying Influential Data and Sources of Collinearity', Wiley, 1980. 244-261.\n",
      "   - Quinlan,R. (1993). Combining Instance-Based and Model-Based Learning. In Proceedings on the Tenth International Conference of Machine Learning, 236-243, University of Massachusetts, Amherst. Morgan Kaufmann.\n",
      "   - many more! (see http://archive.ics.uci.edu/ml/datasets/Housing)\n",
      "\n"
     ]
    }
   ],
   "source": [
    "print(boston.DESCR)"
   ]
  },
  {
   "cell_type": "markdown",
   "metadata": {},
   "source": [
    "Create pandas dataframe with objects in rows and features in columns"
   ]
  },
  {
   "cell_type": "code",
   "execution_count": 6,
   "metadata": {
    "collapsed": true
   },
   "outputs": [],
   "source": [
    "X = pd.DataFrame(boston.data, columns=boston.feature_names)\n",
    "y = boston.target"
   ]
  },
  {
   "cell_type": "code",
   "execution_count": 7,
   "metadata": {
    "collapsed": false
   },
   "outputs": [
    {
     "data": {
      "text/html": [
       "<div>\n",
       "<table border=\"1\" class=\"dataframe\">\n",
       "  <thead>\n",
       "    <tr style=\"text-align: right;\">\n",
       "      <th></th>\n",
       "      <th>CRIM</th>\n",
       "      <th>ZN</th>\n",
       "      <th>INDUS</th>\n",
       "      <th>CHAS</th>\n",
       "      <th>NOX</th>\n",
       "      <th>RM</th>\n",
       "      <th>AGE</th>\n",
       "      <th>DIS</th>\n",
       "      <th>RAD</th>\n",
       "      <th>TAX</th>\n",
       "      <th>PTRATIO</th>\n",
       "      <th>B</th>\n",
       "      <th>LSTAT</th>\n",
       "    </tr>\n",
       "  </thead>\n",
       "  <tbody>\n",
       "    <tr>\n",
       "      <th>0</th>\n",
       "      <td>0.00632</td>\n",
       "      <td>18.0</td>\n",
       "      <td>2.31</td>\n",
       "      <td>0.0</td>\n",
       "      <td>0.538</td>\n",
       "      <td>6.575</td>\n",
       "      <td>65.2</td>\n",
       "      <td>4.0900</td>\n",
       "      <td>1.0</td>\n",
       "      <td>296.0</td>\n",
       "      <td>15.3</td>\n",
       "      <td>396.90</td>\n",
       "      <td>4.98</td>\n",
       "    </tr>\n",
       "    <tr>\n",
       "      <th>1</th>\n",
       "      <td>0.02731</td>\n",
       "      <td>0.0</td>\n",
       "      <td>7.07</td>\n",
       "      <td>0.0</td>\n",
       "      <td>0.469</td>\n",
       "      <td>6.421</td>\n",
       "      <td>78.9</td>\n",
       "      <td>4.9671</td>\n",
       "      <td>2.0</td>\n",
       "      <td>242.0</td>\n",
       "      <td>17.8</td>\n",
       "      <td>396.90</td>\n",
       "      <td>9.14</td>\n",
       "    </tr>\n",
       "    <tr>\n",
       "      <th>2</th>\n",
       "      <td>0.02729</td>\n",
       "      <td>0.0</td>\n",
       "      <td>7.07</td>\n",
       "      <td>0.0</td>\n",
       "      <td>0.469</td>\n",
       "      <td>7.185</td>\n",
       "      <td>61.1</td>\n",
       "      <td>4.9671</td>\n",
       "      <td>2.0</td>\n",
       "      <td>242.0</td>\n",
       "      <td>17.8</td>\n",
       "      <td>392.83</td>\n",
       "      <td>4.03</td>\n",
       "    </tr>\n",
       "    <tr>\n",
       "      <th>3</th>\n",
       "      <td>0.03237</td>\n",
       "      <td>0.0</td>\n",
       "      <td>2.18</td>\n",
       "      <td>0.0</td>\n",
       "      <td>0.458</td>\n",
       "      <td>6.998</td>\n",
       "      <td>45.8</td>\n",
       "      <td>6.0622</td>\n",
       "      <td>3.0</td>\n",
       "      <td>222.0</td>\n",
       "      <td>18.7</td>\n",
       "      <td>394.63</td>\n",
       "      <td>2.94</td>\n",
       "    </tr>\n",
       "    <tr>\n",
       "      <th>4</th>\n",
       "      <td>0.06905</td>\n",
       "      <td>0.0</td>\n",
       "      <td>2.18</td>\n",
       "      <td>0.0</td>\n",
       "      <td>0.458</td>\n",
       "      <td>7.147</td>\n",
       "      <td>54.2</td>\n",
       "      <td>6.0622</td>\n",
       "      <td>3.0</td>\n",
       "      <td>222.0</td>\n",
       "      <td>18.7</td>\n",
       "      <td>396.90</td>\n",
       "      <td>5.33</td>\n",
       "    </tr>\n",
       "  </tbody>\n",
       "</table>\n",
       "</div>"
      ],
      "text/plain": [
       "      CRIM    ZN  INDUS  CHAS    NOX     RM   AGE     DIS  RAD    TAX  \\\n",
       "0  0.00632  18.0   2.31   0.0  0.538  6.575  65.2  4.0900  1.0  296.0   \n",
       "1  0.02731   0.0   7.07   0.0  0.469  6.421  78.9  4.9671  2.0  242.0   \n",
       "2  0.02729   0.0   7.07   0.0  0.469  7.185  61.1  4.9671  2.0  242.0   \n",
       "3  0.03237   0.0   2.18   0.0  0.458  6.998  45.8  6.0622  3.0  222.0   \n",
       "4  0.06905   0.0   2.18   0.0  0.458  7.147  54.2  6.0622  3.0  222.0   \n",
       "\n",
       "   PTRATIO       B  LSTAT  \n",
       "0     15.3  396.90   4.98  \n",
       "1     17.8  396.90   9.14  \n",
       "2     17.8  392.83   4.03  \n",
       "3     18.7  394.63   2.94  \n",
       "4     18.7  396.90   5.33  "
      ]
     },
     "execution_count": 7,
     "metadata": {},
     "output_type": "execute_result"
    }
   ],
   "source": [
    "X.head()"
   ]
  },
  {
   "cell_type": "code",
   "execution_count": 386,
   "metadata": {
    "collapsed": false
   },
   "outputs": [
    {
     "data": {
      "text/html": [
       "<div>\n",
       "<style>\n",
       "    .dataframe thead tr:only-child th {\n",
       "        text-align: right;\n",
       "    }\n",
       "\n",
       "    .dataframe thead th {\n",
       "        text-align: left;\n",
       "    }\n",
       "\n",
       "    .dataframe tbody tr th {\n",
       "        vertical-align: top;\n",
       "    }\n",
       "</style>\n",
       "<table border=\"1\" class=\"dataframe\">\n",
       "  <thead>\n",
       "    <tr style=\"text-align: right;\">\n",
       "      <th></th>\n",
       "      <th>CRIM</th>\n",
       "      <th>ZN</th>\n",
       "      <th>INDUS</th>\n",
       "      <th>CHAS</th>\n",
       "      <th>NOX</th>\n",
       "      <th>RM</th>\n",
       "      <th>AGE</th>\n",
       "      <th>DIS</th>\n",
       "      <th>RAD</th>\n",
       "      <th>TAX</th>\n",
       "      <th>PTRATIO</th>\n",
       "      <th>B</th>\n",
       "      <th>LSTAT</th>\n",
       "    </tr>\n",
       "  </thead>\n",
       "  <tbody>\n",
       "    <tr>\n",
       "      <th>count</th>\n",
       "      <td>506.000000</td>\n",
       "      <td>506.000000</td>\n",
       "      <td>506.000000</td>\n",
       "      <td>506.000000</td>\n",
       "      <td>506.000000</td>\n",
       "      <td>506.000000</td>\n",
       "      <td>506.000000</td>\n",
       "      <td>506.000000</td>\n",
       "      <td>506.000000</td>\n",
       "      <td>506.000000</td>\n",
       "      <td>506.000000</td>\n",
       "      <td>506.000000</td>\n",
       "      <td>506.000000</td>\n",
       "    </tr>\n",
       "    <tr>\n",
       "      <th>mean</th>\n",
       "      <td>3.593761</td>\n",
       "      <td>11.363636</td>\n",
       "      <td>11.136779</td>\n",
       "      <td>0.069170</td>\n",
       "      <td>0.554695</td>\n",
       "      <td>6.284634</td>\n",
       "      <td>68.574901</td>\n",
       "      <td>3.795043</td>\n",
       "      <td>9.549407</td>\n",
       "      <td>408.237154</td>\n",
       "      <td>18.455534</td>\n",
       "      <td>356.674032</td>\n",
       "      <td>12.653063</td>\n",
       "    </tr>\n",
       "    <tr>\n",
       "      <th>std</th>\n",
       "      <td>8.596783</td>\n",
       "      <td>23.322453</td>\n",
       "      <td>6.860353</td>\n",
       "      <td>0.253994</td>\n",
       "      <td>0.115878</td>\n",
       "      <td>0.702617</td>\n",
       "      <td>28.148861</td>\n",
       "      <td>2.105710</td>\n",
       "      <td>8.707259</td>\n",
       "      <td>168.537116</td>\n",
       "      <td>2.164946</td>\n",
       "      <td>91.294864</td>\n",
       "      <td>7.141062</td>\n",
       "    </tr>\n",
       "    <tr>\n",
       "      <th>min</th>\n",
       "      <td>0.006320</td>\n",
       "      <td>0.000000</td>\n",
       "      <td>0.460000</td>\n",
       "      <td>0.000000</td>\n",
       "      <td>0.385000</td>\n",
       "      <td>3.561000</td>\n",
       "      <td>2.900000</td>\n",
       "      <td>1.129600</td>\n",
       "      <td>1.000000</td>\n",
       "      <td>187.000000</td>\n",
       "      <td>12.600000</td>\n",
       "      <td>0.320000</td>\n",
       "      <td>1.730000</td>\n",
       "    </tr>\n",
       "    <tr>\n",
       "      <th>25%</th>\n",
       "      <td>0.082045</td>\n",
       "      <td>0.000000</td>\n",
       "      <td>5.190000</td>\n",
       "      <td>0.000000</td>\n",
       "      <td>0.449000</td>\n",
       "      <td>5.885500</td>\n",
       "      <td>45.025000</td>\n",
       "      <td>2.100175</td>\n",
       "      <td>4.000000</td>\n",
       "      <td>279.000000</td>\n",
       "      <td>17.400000</td>\n",
       "      <td>375.377500</td>\n",
       "      <td>6.950000</td>\n",
       "    </tr>\n",
       "    <tr>\n",
       "      <th>50%</th>\n",
       "      <td>0.256510</td>\n",
       "      <td>0.000000</td>\n",
       "      <td>9.690000</td>\n",
       "      <td>0.000000</td>\n",
       "      <td>0.538000</td>\n",
       "      <td>6.208500</td>\n",
       "      <td>77.500000</td>\n",
       "      <td>3.207450</td>\n",
       "      <td>5.000000</td>\n",
       "      <td>330.000000</td>\n",
       "      <td>19.050000</td>\n",
       "      <td>391.440000</td>\n",
       "      <td>11.360000</td>\n",
       "    </tr>\n",
       "    <tr>\n",
       "      <th>75%</th>\n",
       "      <td>3.647423</td>\n",
       "      <td>12.500000</td>\n",
       "      <td>18.100000</td>\n",
       "      <td>0.000000</td>\n",
       "      <td>0.624000</td>\n",
       "      <td>6.623500</td>\n",
       "      <td>94.075000</td>\n",
       "      <td>5.188425</td>\n",
       "      <td>24.000000</td>\n",
       "      <td>666.000000</td>\n",
       "      <td>20.200000</td>\n",
       "      <td>396.225000</td>\n",
       "      <td>16.955000</td>\n",
       "    </tr>\n",
       "    <tr>\n",
       "      <th>max</th>\n",
       "      <td>88.976200</td>\n",
       "      <td>100.000000</td>\n",
       "      <td>27.740000</td>\n",
       "      <td>1.000000</td>\n",
       "      <td>0.871000</td>\n",
       "      <td>8.780000</td>\n",
       "      <td>100.000000</td>\n",
       "      <td>12.126500</td>\n",
       "      <td>24.000000</td>\n",
       "      <td>711.000000</td>\n",
       "      <td>22.000000</td>\n",
       "      <td>396.900000</td>\n",
       "      <td>37.970000</td>\n",
       "    </tr>\n",
       "  </tbody>\n",
       "</table>\n",
       "</div>"
      ],
      "text/plain": [
       "             CRIM          ZN       INDUS        CHAS         NOX          RM  \\\n",
       "count  506.000000  506.000000  506.000000  506.000000  506.000000  506.000000   \n",
       "mean     3.593761   11.363636   11.136779    0.069170    0.554695    6.284634   \n",
       "std      8.596783   23.322453    6.860353    0.253994    0.115878    0.702617   \n",
       "min      0.006320    0.000000    0.460000    0.000000    0.385000    3.561000   \n",
       "25%      0.082045    0.000000    5.190000    0.000000    0.449000    5.885500   \n",
       "50%      0.256510    0.000000    9.690000    0.000000    0.538000    6.208500   \n",
       "75%      3.647423   12.500000   18.100000    0.000000    0.624000    6.623500   \n",
       "max     88.976200  100.000000   27.740000    1.000000    0.871000    8.780000   \n",
       "\n",
       "              AGE         DIS         RAD         TAX     PTRATIO           B  \\\n",
       "count  506.000000  506.000000  506.000000  506.000000  506.000000  506.000000   \n",
       "mean    68.574901    3.795043    9.549407  408.237154   18.455534  356.674032   \n",
       "std     28.148861    2.105710    8.707259  168.537116    2.164946   91.294864   \n",
       "min      2.900000    1.129600    1.000000  187.000000   12.600000    0.320000   \n",
       "25%     45.025000    2.100175    4.000000  279.000000   17.400000  375.377500   \n",
       "50%     77.500000    3.207450    5.000000  330.000000   19.050000  391.440000   \n",
       "75%     94.075000    5.188425   24.000000  666.000000   20.200000  396.225000   \n",
       "max    100.000000   12.126500   24.000000  711.000000   22.000000  396.900000   \n",
       "\n",
       "            LSTAT  \n",
       "count  506.000000  \n",
       "mean    12.653063  \n",
       "std      7.141062  \n",
       "min      1.730000  \n",
       "25%      6.950000  \n",
       "50%     11.360000  \n",
       "75%     16.955000  \n",
       "max     37.970000  "
      ]
     },
     "execution_count": 386,
     "metadata": {},
     "output_type": "execute_result"
    }
   ],
   "source": [
    "X.describe()"
   ]
  },
  {
   "cell_type": "markdown",
   "metadata": {},
   "source": [
    "Note that some of the features are catecorical and some are continious"
   ]
  },
  {
   "cell_type": "markdown",
   "metadata": {},
   "source": [
    "Let's also take a look into correlation matrix of features"
   ]
  },
  {
   "cell_type": "code",
   "execution_count": 387,
   "metadata": {
    "collapsed": false
   },
   "outputs": [
    {
     "data": {
      "image/png": "[encoded data removed]",
      "text/plain": [
       "<matplotlib.figure.Figure at 0x7f5b3f5b4a90>"
      ]
     },
     "metadata": {},
     "output_type": "display_data"
    }
   ],
   "source": [
    "# compute the correlation matrix\n",
    "corr = X.corr()\n",
    "\n",
    "# generate a mask for the lower triangle\n",
    "mask = np.zeros_like(corr, dtype=np.bool)\n",
    "mask[np.triu_indices_from(mask)] = True\n",
    "\n",
    "# set up the matplotlib figure\n",
    "f, ax = plt.subplots(figsize=(18, 18))\n",
    "\n",
    "# generate a custom diverging colormap\n",
    "cmap = sns.diverging_palette(220, 10, as_cmap=True)\n",
    "\n",
    "# draw the heatmap with the mask and correct aspect ratio\n",
    "sns.heatmap(corr, mask=mask, cmap=cmap, vmax=.3,\n",
    "            square=True, \n",
    "            linewidths=.5, cbar_kws={\"shrink\": .5}, ax=ax);"
   ]
  },
  {
   "cell_type": "markdown",
   "metadata": {},
   "source": [
    "# Data preprocessing"
   ]
  },
  {
   "cell_type": "markdown",
   "metadata": {},
   "source": [
    "## Splitting"
   ]
  },
  {
   "cell_type": "markdown",
   "metadata": {},
   "source": [
    "Let's split our data to train and test set in fraction of $\\frac{4}{1}$"
   ]
  },
  {
   "cell_type": "code",
   "execution_count": 8,
   "metadata": {
    "collapsed": true
   },
   "outputs": [],
   "source": [
    "X_train, X_test, y_train, y_test = train_test_split(X, y, test_size=0.2, random_state=42)"
   ]
  },
  {
   "cell_type": "markdown",
   "metadata": {},
   "source": [
    "There are lots of feature, let's visualize two of them"
   ]
  },
  {
   "cell_type": "code",
   "execution_count": 9,
   "metadata": {
    "collapsed": false
   },
   "outputs": [
    {
     "data": {
      "image/png": "[encoded data removed]",
      "text/plain": [
       "<matplotlib.figure.Figure at 0x1afdb3d7588>"
      ]
     },
     "metadata": {},
     "output_type": "display_data"
    }
   ],
   "source": [
    "plt.figure(figsize=(18, 8))\n",
    "plt.subplot(121)\n",
    "plt.scatter(X_train.RM, y_train, label=\"Train\")\n",
    "plt.scatter(X_test.RM, y_test, c=\"r\", label=\"Test\")\n",
    "plt.xlabel(\"Average number of rooms per dwelling\")\n",
    "plt.ylabel(\"Price, $\")\n",
    "plt.legend(loc=\"lower right\", frameon=True)\n",
    "plt.subplot(122)\n",
    "plt.scatter(X_train.RAD, y_train, label=\"Train\")\n",
    "plt.scatter(X_test.RAD, y_test, c=\"r\", label=\"Test\")\n",
    "plt.xlabel(\"Index of accessibility to radial highways\")\n",
    "plt.ylabel(\"Price, $\")\n",
    "plt.legend(loc=\"lower right\");"
   ]
  },
  {
   "cell_type": "markdown",
   "metadata": {},
   "source": [
    "## Scaling"
   ]
  },
  {
   "cell_type": "markdown",
   "metadata": {},
   "source": [
    "Let's also do normalization to the range of $(0; 1)$ to make our data insensitive to the scale of features"
   ]
  },
  {
   "cell_type": "code",
   "execution_count": 390,
   "metadata": {
    "collapsed": true
   },
   "outputs": [],
   "source": [
    "scaler = MinMaxScaler()"
   ]
  },
  {
   "cell_type": "markdown",
   "metadata": {},
   "source": [
    "Note that we're going to learn normalization constants only on training set. That's done because the assumption is that test set is unreachable during training."
   ]
  },
  {
   "cell_type": "code",
   "execution_count": 391,
   "metadata": {
    "collapsed": true
   },
   "outputs": [],
   "source": [
    "X_train = scaler.fit_transform(X_train)"
   ]
  },
  {
   "cell_type": "markdown",
   "metadata": {},
   "source": [
    "Transform test set with the same constants"
   ]
  },
  {
   "cell_type": "code",
   "execution_count": 392,
   "metadata": {
    "collapsed": true
   },
   "outputs": [],
   "source": [
    "X_test = scaler.transform(X_test)"
   ]
  },
  {
   "cell_type": "markdown",
   "metadata": {},
   "source": [
    "# Sklearn Linear Regression"
   ]
  },
  {
   "cell_type": "markdown",
   "metadata": {},
   "source": [
    "## Fitting"
   ]
  },
  {
   "cell_type": "markdown",
   "metadata": {},
   "source": [
    "Here we use very simple Linear Regression model. Scikit-learn uses the closed-form solition for Linear Regression problem thus it gives very good results."
   ]
  },
  {
   "cell_type": "code",
   "execution_count": 393,
   "metadata": {
    "collapsed": true
   },
   "outputs": [],
   "source": [
    "model_sk = LinearRegression()"
   ]
  },
  {
   "cell_type": "markdown",
   "metadata": {},
   "source": [
    "Fitting model on prepared data"
   ]
  },
  {
   "cell_type": "code",
   "execution_count": 394,
   "metadata": {
    "collapsed": false
   },
   "outputs": [
    {
     "data": {
      "text/plain": [
       "LinearRegression(copy_X=True, fit_intercept=True, n_jobs=1, normalize=False)"
      ]
     },
     "execution_count": 394,
     "metadata": {},
     "output_type": "execute_result"
    }
   ],
   "source": [
    "model_sk.fit(X_train, y_train)"
   ]
  },
  {
   "cell_type": "markdown",
   "metadata": {},
   "source": [
    "## Evaluation"
   ]
  },
  {
   "cell_type": "markdown",
   "metadata": {},
   "source": [
    "Let's see what features are significant for the model"
   ]
  },
  {
   "cell_type": "code",
   "execution_count": 395,
   "metadata": {
    "collapsed": false
   },
   "outputs": [
    {
     "data": {
      "image/png": "[encoded data removed]",
      "text/plain": [
       "<matplotlib.figure.Figure at 0x7f5b4c132f28>"
      ]
     },
     "metadata": {},
     "output_type": "display_data"
    }
   ],
   "source": [
    "plt.figure(figsize=(12, 8))\n",
    "plt.bar(np.arange(model_sk.coef_.shape[0]) - 0.4, model_sk.coef_)\n",
    "plt.xticks(np.arange(model_sk.coef_.shape[0]), X.columns, rotation='vertical')\n",
    "plt.xlim([-1, model_sk.coef_.shape[0]])\n",
    "plt.title(\"Sklearn model coefficients\");"
   ]
  },
  {
   "cell_type": "code",
   "execution_count": 396,
   "metadata": {
    "collapsed": false
   },
   "outputs": [
    {
     "name": "stdout",
     "output_type": "stream",
     "text": [
      "Boston House Prices dataset\n",
      "===========================\n",
      "\n",
      "Notes\n",
      "------\n",
      "Data Set Characteristics:  \n",
      "\n",
      "    :Number of Instances: 506 \n",
      "\n",
      "    :Number of Attributes: 13 numeric/categorical predictive\n",
      "    \n",
      "    :Median Value (attribute 14) is usually the target\n",
      "\n",
      "    :Attribute Information (in order):\n",
      "        - CRIM     per capita crime rate by town\n",
      "        - ZN       proportion of residential land zoned for lots over 25,000 sq.ft.\n",
      "        - INDUS    proportion of non-retail business acres per town\n",
      "        - CHAS     Charles River dummy variable (= 1 if tract bounds river; 0 otherwise)\n",
      "        - NOX      nitric oxides concentration (parts per 10 million)\n",
      "        - RM       average number of rooms per dwelling\n",
      "        - AGE      proportion of owner-occupied units built prior to 1940\n",
      "        - DIS      weighted distances to five Boston employment centres\n",
      "        - RAD      index of accessibility to radial highways\n",
      "        - TAX      full-value property-tax rate per $10,000\n",
      "        - PTRATIO  pupil-teacher ratio by town\n",
      "        - B        1000(Bk - 0.63)^2 where Bk is the proportion of blacks by town\n",
      "        - LSTAT    % lower status of the population\n",
      "        - MEDV     Median value of owner-occupied homes in $1000's\n",
      "\n",
      "    :Missing Attribute Values: None\n",
      "\n",
      "    :Creator: Harrison, D. and Rubinfeld, D.L.\n",
      "\n",
      "This is a copy of UCI ML housing dataset.\n",
      "http://archive.ics.uci.edu/ml/datasets/Housing\n",
      "\n",
      "\n",
      "This dataset was taken from the StatLib library which is maintained at Carnegie Mellon University.\n",
      "\n",
      "The Boston house-price data of Harrison, D. and Rubinfeld, D.L. 'Hedonic\n",
      "prices and the demand for clean air', J. Environ. Economics & Management,\n",
      "vol.5, 81-102, 1978.   Used in Belsley, Kuh & Welsch, 'Regression diagnostics\n",
      "...', Wiley, 1980.   N.B. Various transformations are used in the table on\n",
      "pages 244-261 of the latter.\n",
      "\n",
      "The Boston house-price data has been used in many machine learning papers that address regression\n",
      "problems.   \n",
      "     \n",
      "**References**\n",
      "\n",
      "   - Belsley, Kuh & Welsch, 'Regression diagnostics: Identifying Influential Data and Sources of Collinearity', Wiley, 1980. 244-261.\n",
      "   - Quinlan,R. (1993). Combining Instance-Based and Model-Based Learning. In Proceedings on the Tenth International Conference of Machine Learning, 236-243, University of Massachusetts, Amherst. Morgan Kaufmann.\n",
      "   - many more! (see http://archive.ics.uci.edu/ml/datasets/Housing)\n",
      "\n"
     ]
    }
   ],
   "source": [
    "print(boston.DESCR)"
   ]
  },
  {
   "cell_type": "markdown",
   "metadata": {},
   "source": [
    "Predicting both train and test sets to evaluate model"
   ]
  },
  {
   "cell_type": "code",
   "execution_count": 397,
   "metadata": {
    "collapsed": true
   },
   "outputs": [],
   "source": [
    "preds_test = model_sk.predict(X_test)\n",
    "preds_train = model_sk.predict(X_train)"
   ]
  },
  {
   "cell_type": "markdown",
   "metadata": {},
   "source": [
    "There is no MAPE implementation in sklearn (because this metric is undefined when real value is zero). Below one can find my own implementation"
   ]
  },
  {
   "cell_type": "code",
   "execution_count": 398,
   "metadata": {
    "collapsed": true
   },
   "outputs": [],
   "source": [
    "def mean_absolute_percentage_error(y_true, y_pred): \n",
    "    \"\"\"\n",
    "    Use of this metric is not recommended because can cause division by zero\n",
    "    See other regression metrics on sklearn docs:\n",
    "      http://scikit-learn.org/stable/modules/classes.html#regression-metrics\n",
    "    Use like any other metric\n",
    "    >>> y_true = [3, -0.5, 2, 7]; y_pred = [2.5, -0.3, 2, 8]\n",
    "    >>> mean_absolute_percentage_error(y_true, y_pred)\n",
    "    Out[]: 24.791666666666668\n",
    "    \"\"\"\n",
    "\n",
    "    return np.mean(np.abs((y_true.ravel() - y_pred.ravel()) / y_true.ravel())) * 100"
   ]
  },
  {
   "cell_type": "markdown",
   "metadata": {},
   "source": [
    "Let's evaluate our model according to three different metrics:\n",
    "* MAE (Mean Absolute Error)\n",
    "* RMSE (Root Mean Squared Error)\n",
    "* MAPE (Mean Absolute Percentage Error)"
   ]
  },
  {
   "cell_type": "code",
   "execution_count": 399,
   "metadata": {
    "collapsed": true
   },
   "outputs": [],
   "source": [
    "metrics = [mean_absolute_error, \n",
    "           lambda y_true, y_pred: mean_squared_error(y_true, y_pred) ** 0.5, \n",
    "           mean_absolute_percentage_error]\n",
    "metrics_names = [\"MAE\", \n",
    "                 \"RMSE\", \n",
    "                 \"MAPE\"]"
   ]
  },
  {
   "cell_type": "markdown",
   "metadata": {},
   "source": [
    "Also we want to check quality on both train and test sets"
   ]
  },
  {
   "cell_type": "code",
   "execution_count": 400,
   "metadata": {
    "collapsed": true
   },
   "outputs": [],
   "source": [
    "samples = [(X_train, y_train), \n",
    "           (X_test, y_test)]\n",
    "models_names = [\"Sklearn\"]"
   ]
  },
  {
   "cell_type": "markdown",
   "metadata": {},
   "source": [
    "Let's do it in loop"
   ]
  },
  {
   "cell_type": "code",
   "execution_count": 401,
   "metadata": {
    "collapsed": true
   },
   "outputs": [],
   "source": [
    "models_names = [\"Sklearn\"]"
   ]
  },
  {
   "cell_type": "code",
   "execution_count": 402,
   "metadata": {
    "code_folding": [],
    "collapsed": true
   },
   "outputs": [],
   "source": [
    "def evaluate(models, metrics, samples, metrics_names, models_names):\n",
    "    results = np.zeros((len(samples) * len(models), len(metrics)))\n",
    "    samples_names = []\n",
    "    for m in models_names:\n",
    "        samples_names.extend([m + \" Train\", m + \" Test\"])\n",
    "    for m_num, model in enumerate(models):\n",
    "        for row, sample in enumerate(samples):\n",
    "            for col, metric in enumerate(metrics):\n",
    "                results[row + m_num * 2, col] = metric(sample[1], model.predict(sample[0]))\n",
    "    results = pd.DataFrame(results, columns=metrics_names, index=samples_names)\n",
    "    return results"
   ]
  },
  {
   "cell_type": "code",
   "execution_count": 403,
   "metadata": {
    "collapsed": true
   },
   "outputs": [],
   "source": [
    "models = [model_sk]"
   ]
  },
  {
   "cell_type": "markdown",
   "metadata": {},
   "source": [
    "Evaluated metrics:"
   ]
  },
  {
   "cell_type": "code",
   "execution_count": 404,
   "metadata": {
    "collapsed": false
   },
   "outputs": [
    {
     "data": {
      "text/html": [
       "<div>\n",
       "<style>\n",
       "    .dataframe thead tr:only-child th {\n",
       "        text-align: right;\n",
       "    }\n",
       "\n",
       "    .dataframe thead th {\n",
       "        text-align: left;\n",
       "    }\n",
       "\n",
       "    .dataframe tbody tr th {\n",
       "        vertical-align: top;\n",
       "    }\n",
       "</style>\n",
       "<table border=\"1\" class=\"dataframe\">\n",
       "  <thead>\n",
       "    <tr style=\"text-align: right;\">\n",
       "      <th></th>\n",
       "      <th>MAE</th>\n",
       "      <th>RMSE</th>\n",
       "      <th>MAPE</th>\n",
       "    </tr>\n",
       "  </thead>\n",
       "  <tbody>\n",
       "    <tr>\n",
       "      <th>Sklearn Train</th>\n",
       "      <td>3.315165</td>\n",
       "      <td>4.652051</td>\n",
       "      <td>16.573489</td>\n",
       "    </tr>\n",
       "    <tr>\n",
       "      <th>Sklearn Test</th>\n",
       "      <td>3.191509</td>\n",
       "      <td>4.930662</td>\n",
       "      <td>16.880585</td>\n",
       "    </tr>\n",
       "  </tbody>\n",
       "</table>\n",
       "</div>"
      ],
      "text/plain": [
       "                    MAE      RMSE       MAPE\n",
       "Sklearn Train  3.315165  4.652051  16.573489\n",
       "Sklearn Test   3.191509  4.930662  16.880585"
      ]
     },
     "execution_count": 404,
     "metadata": {},
     "output_type": "execute_result"
    }
   ],
   "source": [
    "evaluate(models, metrics, samples, metrics_names, models_names)"
   ]
  },
  {
   "cell_type": "markdown",
   "metadata": {},
   "source": [
    "It also interesting to take a look how the predicted points relate to real ones. All the points should lie on the black dotted line ($y=x$) assuming that our model is perfect"
   ]
  },
  {
   "cell_type": "code",
   "execution_count": 405,
   "metadata": {
    "collapsed": false
   },
   "outputs": [
    {
     "data": {
      "image/png": "[encoded data removed]",
      "text/plain": [
       "<matplotlib.figure.Figure at 0x7f5b28f0f5c0>"
      ]
     },
     "metadata": {},
     "output_type": "display_data"
    }
   ],
   "source": [
    "plt.figure(figsize=(10, 8))\n",
    "plt.scatter(y_train, preds_train, label=\"Train\")\n",
    "plt.scatter(y_test, preds_test, c=\"r\", label=\"Test\")\n",
    "plt.xlabel(\"Real price, $\")\n",
    "plt.ylabel(\"Predicted price, $\")\n",
    "plt.plot([y.min(), y.max()], [y.min(), y.max()], 'k--', lw=3, label=\"Ideal\")\n",
    "plt.legend(loc=\"lower right\");"
   ]
  },
  {
   "cell_type": "markdown",
   "metadata": {},
   "source": [
    "## Cross-validation"
   ]
  },
  {
   "cell_type": "markdown",
   "metadata": {},
   "source": [
    "The common method to evaluate the model is cross-validation. The idea behind it is to divide the whole set of objects into $k$ sections and then use one section as a test set and other $k-1$ as a train (repeat it with all the sections).\n",
    "\n",
    "There is a special function for this in sklearn called $\\text{KFold}$. It creates set of indices for cross-validation."
   ]
  },
  {
   "cell_type": "code",
   "execution_count": 406,
   "metadata": {
    "collapsed": true
   },
   "outputs": [],
   "source": [
    "cv = KFold(n=len(X), n_folds=5, shuffle=True, random_state=42)"
   ]
  },
  {
   "cell_type": "markdown",
   "metadata": {},
   "source": [
    "Next step is to do everything that we've done before in a loop:\n",
    "* Split\n",
    "* Scale\n",
    "* Train\n",
    "* Evaluate\n",
    "\n",
    "And store the average value of the errors ($\\text{res}$ variable)"
   ]
  },
  {
   "cell_type": "code",
   "execution_count": 407,
   "metadata": {
    "collapsed": true
   },
   "outputs": [],
   "source": [
    "res = None\n",
    "for train_idx, test_idx in cv:\n",
    "    # split\n",
    "    X_train, X_test = X.values[train_idx], X.values[test_idx]\n",
    "    y_train, y_test = y[train_idx], y[test_idx]\n",
    "    \n",
    "    # scale\n",
    "    scaler = MinMaxScaler()\n",
    "    X_train = scaler.fit_transform(X_train)\n",
    "    X_test = scaler.transform(X_test)\n",
    "    \n",
    "    samples_cv = [(X_train, y_train), \n",
    "                  (X_test, y_test)]\n",
    "    \n",
    "    # fit\n",
    "    model_sk_cv = LinearRegression().fit(samples_cv[0][0], samples_cv[0][1])\n",
    "    \n",
    "    # evaluate\n",
    "    if res is None:\n",
    "        res = evaluate([model_sk_cv], metrics, samples_cv, metrics_names, [\"Sklearn CV\"])\n",
    "    else:\n",
    "        res += evaluate([model_sk_cv], metrics, samples_cv, metrics_names, [\"Sklearn CV\"])\n",
    "# take the average value across all folds\n",
    "res /= cv.n_folds\n",
    "\n"
   ]
  },
  {
   "cell_type": "markdown",
   "metadata": {},
   "source": [
    "Here is the result of CV"
   ]
  },
  {
   "cell_type": "code",
   "execution_count": 408,
   "metadata": {
    "collapsed": false
   },
   "outputs": [
    {
     "data": {
      "text/html": [
       "<div>\n",
       "<style>\n",
       "    .dataframe thead tr:only-child th {\n",
       "        text-align: right;\n",
       "    }\n",
       "\n",
       "    .dataframe thead th {\n",
       "        text-align: left;\n",
       "    }\n",
       "\n",
       "    .dataframe tbody tr th {\n",
       "        vertical-align: top;\n",
       "    }\n",
       "</style>\n",
       "<table border=\"1\" class=\"dataframe\">\n",
       "  <thead>\n",
       "    <tr style=\"text-align: right;\">\n",
       "      <th></th>\n",
       "      <th>MAE</th>\n",
       "      <th>RMSE</th>\n",
       "      <th>MAPE</th>\n",
       "    </tr>\n",
       "  </thead>\n",
       "  <tbody>\n",
       "    <tr>\n",
       "      <th>Sklearn CV Train</th>\n",
       "      <td>3.269853</td>\n",
       "      <td>4.660627</td>\n",
       "      <td>16.423244</td>\n",
       "    </tr>\n",
       "    <tr>\n",
       "      <th>Sklearn CV Test</th>\n",
       "      <td>3.390748</td>\n",
       "      <td>4.843271</td>\n",
       "      <td>17.026372</td>\n",
       "    </tr>\n",
       "  </tbody>\n",
       "</table>\n",
       "</div>"
      ],
      "text/plain": [
       "                       MAE      RMSE       MAPE\n",
       "Sklearn CV Train  3.269853  4.660627  16.423244\n",
       "Sklearn CV Test   3.390748  4.843271  17.026372"
      ]
     },
     "execution_count": 408,
     "metadata": {},
     "output_type": "execute_result"
    }
   ],
   "source": [
    "res"
   ]
  },
  {
   "cell_type": "markdown",
   "metadata": {},
   "source": [
    "## Cross-validation with k=10, with stdev\n",
    "Repeat the above experiment but change the code so that you can compute the standard deviation of the various metrics of interest (i.e., report MAE and stdMAE, RMSE and stdRMSE etc.). "
   ]
  },
  {
   "cell_type": "code",
   "execution_count": 409,
   "metadata": {
    "collapsed": true
   },
   "outputs": [],
   "source": [
    "\n",
    "cv = KFold(n=len(X), n_folds=10, shuffle=True, random_state=42)\n",
    "\n",
    "res = []\n",
    "for train_idx, test_idx in cv:\n",
    "    # split\n",
    "    X_train, X_test = X.values[train_idx], X.values[test_idx]\n",
    "    y_train, y_test = y[train_idx], y[test_idx]\n",
    "    \n",
    "    # scale\n",
    "    scaler = MinMaxScaler()\n",
    "    X_train = scaler.fit_transform(X_train)\n",
    "    X_test = scaler.transform(X_test)\n",
    "    \n",
    "    samples_cv = [(X_train, y_train), \n",
    "                  (X_test, y_test)]\n",
    "    \n",
    "    # fit\n",
    "    model_sk_cv = LinearRegression().fit(samples_cv[0][0], samples_cv[0][1])\n",
    "    \n",
    "    # evaluate\n",
    "    res.append( evaluate([model_sk_cv], metrics, samples_cv, metrics_names, [\"Sklearn CV\"]))\n",
    "    \n",
    "\n",
    "\n",
    "final_res = pd.concat(res)\n",
    "train_res = final_res.loc['Sklearn CV Train']\n",
    "test_res = final_res.loc['Sklearn CV Test']"
   ]
  },
  {
   "cell_type": "code",
   "execution_count": 410,
   "metadata": {
    "collapsed": false
   },
   "outputs": [
    {
     "data": {
      "text/html": [
       "<div>\n",
       "<style>\n",
       "    .dataframe thead tr:only-child th {\n",
       "        text-align: right;\n",
       "    }\n",
       "\n",
       "    .dataframe thead th {\n",
       "        text-align: left;\n",
       "    }\n",
       "\n",
       "    .dataframe tbody tr th {\n",
       "        vertical-align: top;\n",
       "    }\n",
       "</style>\n",
       "<table border=\"1\" class=\"dataframe\">\n",
       "  <thead>\n",
       "    <tr style=\"text-align: right;\">\n",
       "      <th></th>\n",
       "      <th>MAE</th>\n",
       "      <th>MAPE</th>\n",
       "      <th>RMSE</th>\n",
       "      <th>stdMAE</th>\n",
       "      <th>stdMAPE</th>\n",
       "      <th>stdRMSE</th>\n",
       "    </tr>\n",
       "  </thead>\n",
       "  <tbody>\n",
       "    <tr>\n",
       "      <th>Sklearn CV Train</th>\n",
       "      <td>3.271374</td>\n",
       "      <td>16.424588</td>\n",
       "      <td>4.670792</td>\n",
       "      <td>0.052703</td>\n",
       "      <td>0.223548</td>\n",
       "      <td>0.077774</td>\n",
       "    </tr>\n",
       "    <tr>\n",
       "      <th>Sklearn CV Test</th>\n",
       "      <td>3.377586</td>\n",
       "      <td>17.019728</td>\n",
       "      <td>4.792902</td>\n",
       "      <td>0.309778</td>\n",
       "      <td>1.559191</td>\n",
       "      <td>0.659327</td>\n",
       "    </tr>\n",
       "  </tbody>\n",
       "</table>\n",
       "</div>"
      ],
      "text/plain": [
       "                       MAE       MAPE      RMSE    stdMAE   stdMAPE   stdRMSE\n",
       "Sklearn CV Train  3.271374  16.424588  4.670792  0.052703  0.223548  0.077774\n",
       "Sklearn CV Test   3.377586  17.019728  4.792902  0.309778  1.559191  0.659327"
      ]
     },
     "execution_count": 410,
     "metadata": {},
     "output_type": "execute_result"
    }
   ],
   "source": [
    "\n",
    "std_metrics = {\"MAE\": [train_res.mean(axis=None).MAE],\n",
    "                \"stdMAE\": [train_res.std(axis=None).MAE], \n",
    "                \"RMSE\": [train_res.mean(axis=None).RMSE],\n",
    "                \"stdRMSE\": [train_res.std(axis=None).RMSE],\n",
    "                \"MAPE\": [train_res.mean(axis=None).MAPE],\n",
    "                 \"stdMAPE\": [train_res.std(axis=None).MAPE]\n",
    "                 }\n",
    "\n",
    "p_results1 = pd.DataFrame(data=std_metrics, index=['Sklearn CV Train'])\n",
    "\n",
    "std_metrics = {\"MAE\": [test_res.mean(axis=None).MAE],\n",
    "                \"stdMAE\": [test_res.std(axis=None).MAE], \n",
    "                \"RMSE\": [test_res.mean(axis=None).RMSE],\n",
    "                \"stdRMSE\": [test_res.std(axis=None).RMSE],\n",
    "                \"MAPE\": [test_res.mean(axis=None).MAPE],\n",
    "                \"stdMAPE\": [test_res.std(axis=None).MAPE]\n",
    "                 }\n",
    "\n",
    "p_results2 = pd.DataFrame(data=std_metrics, index=['Sklearn CV Test'])\n",
    "p_results = pd. concat([p_results1, p_results2])\n",
    "p_results"
   ]
  },
  {
   "cell_type": "markdown",
   "metadata": {},
   "source": [
    "# Linear Regression via GD from scratch"
   ]
  },
  {
   "cell_type": "markdown",
   "metadata": {},
   "source": [
    "The objective function of linear regression is the following:\n",
    "$$\n",
    "f(\\mathbf{w}, b) = \\frac{1}{n}\\sum_{i=1}^{n}\\left[ (\\mathbf{w}\\cdot\\mathbf{x}_i + b) - y_i\\right]^2,\\\\\n",
    "n = \\left|X_{\\text{train}}\\right|\n",
    "$$\n",
    "So we want to minimize the **squared value** of difference between predictions and real answers. It is called Mean Squared Error (MSE). Gradient Descent is the way of optimizing this complex functional and tune weigths $\\mathbf{w}$ and bias $b$.\n",
    "\n",
    "To be able to treat weigths $\\mathbf{w}$ and bias $b$ homogeneously we're going to augment the data with the \"shell\" feature (all $1$'s). Then we can add one more parameter to the weight vector and treat it as a *bias*.\n",
    "$$\n",
    "\\mathbf{x}' :=\n",
    "\\begin{bmatrix}\n",
    "\\mathbf{x}\\\\\n",
    "1\n",
    "\\end{bmatrix},\\quad\n",
    "\\boldsymbol{\\theta} :=\n",
    "\\begin{bmatrix}\n",
    "\\mathbf{w}\\\\\n",
    "b\n",
    "\\end{bmatrix}\n",
    "\\\\\n",
    "f(\\boldsymbol{\\theta}) = \\frac{1}{n}\\sum_{i=1}^{n}\\left[ \\boldsymbol{\\theta}\\cdot\\mathbf{x}'_i - y_i\\right]^2\n",
    "$$\n",
    "In this way it is much more easier to carry out oprimization process.\n",
    "\n",
    "To simplify it further and do it in \"*tensor*\" way let's rewrite it in matrix form. Let's introduce data matrix (the same as dataframe we used everywhere above)\n",
    "\n",
    "$$\n",
    "\\text{X}' =\n",
    "\\begin{bmatrix}\n",
    "\\mathbf{x'}_1^{\\text{T}}\\\\\n",
    "\\vdots\\\\\n",
    "\\mathbf{x'}_n^{\\text{T}}\n",
    "\\end{bmatrix},\\quad\n",
    "\\mathbf{y} = \n",
    "\\begin{bmatrix}\n",
    "y_1\\\\\n",
    "\\vdots\\\\\n",
    "y_n\n",
    "\\end{bmatrix}\n",
    "$$\n",
    "\n",
    "Matrix $\\text{X}$ contains objects in its rows and features in its columns. Vector $\\mathbf{y}$ is a vector of answers. Then the objective can be rewritten as follows:\n",
    "\n",
    "$$\n",
    "f(\\boldsymbol{\\theta}) = \\frac{1}{n}\\|\\text{X}'\\cdot \\boldsymbol{\\theta} - \\mathbf{y}\\|_2^2\n",
    "$$\n",
    "\n",
    "Then the gradient can be easily calculated in vectorized form:\n",
    "\n",
    "$$\n",
    "\\nabla_{\\boldsymbol{\\theta}} f(\\boldsymbol{\\theta}) = \\frac{2}{n}\\,\\text{X}'^{\\text{T}}\\left(\\text{X}'\\cdot \\boldsymbol{\\theta} - \\mathbf{y}\\right)\n",
    "$$\n",
    "\n",
    "Exactly this computations are implemented down below in **BasicLinearRegressionHomegrown** class"
   ]
  },
  {
   "cell_type": "markdown",
   "metadata": {},
   "source": [
    "## Data"
   ]
  },
  {
   "cell_type": "markdown",
   "metadata": {},
   "source": [
    "Split into train and test set (with the same $\\text{random_state}$ which means we can compare results)"
   ]
  },
  {
   "cell_type": "code",
   "execution_count": 411,
   "metadata": {
    "collapsed": true
   },
   "outputs": [],
   "source": [
    "X_train, X_test, y_train, y_test = train_test_split(X, y, test_size=0.2, random_state=42)"
   ]
  },
  {
   "cell_type": "markdown",
   "metadata": {},
   "source": [
    "Scaling"
   ]
  },
  {
   "cell_type": "code",
   "execution_count": 412,
   "metadata": {
    "collapsed": true
   },
   "outputs": [],
   "source": [
    "scaler = MinMaxScaler()\n",
    "X_train = scaler.fit_transform(X_train)\n",
    "X_test = scaler.transform(X_test)"
   ]
  },
  {
   "cell_type": "markdown",
   "metadata": {},
   "source": [
    "Basic version of homegrown Linear Regression"
   ]
  },
  {
   "cell_type": "code",
   "execution_count": 413,
   "metadata": {
    "collapsed": true
   },
   "outputs": [],
   "source": [
    "class BasicLinearRegressionHomegrown(object):\n",
    "    \n",
    "    def __init__(self):\n",
    "        self.coef_ = None       # weight vector\n",
    "        self.intercept_ = None  # bias term\n",
    "        self._theta = None      # augmented weight vector, i.e., bias + weights\n",
    "                                # this allows to treat all decision variables homogeneously\n",
    "        self.history = {\"cost\": [], \n",
    "                        \"coef\": [], \n",
    "                        \"intercept\": [], \n",
    "                        \"grad\": []}\n",
    "        \n",
    "    def _grad(self, X, y):\n",
    "        \"\"\"\n",
    "        Calculate the gradient of the objective function\n",
    "\n",
    "        Args:\n",
    "            X(ndarray):        train objects\n",
    "            y(ndarray):        answers for train objects\n",
    "        Return:\n",
    "            gradient(ndarray): analytical gradient vector\n",
    "        \"\"\"\n",
    "        pred = np.dot(X, self._theta)\n",
    "        error = pred - y\n",
    "        gradient = 2 * np.dot(error, X) / X.shape[0]\n",
    "#         print(gradient.shape)\n",
    "        return gradient\n",
    "    \n",
    "    # full gradient descent, i.e., not stochastic gd\n",
    "    def _gd(self, X, y, max_iter, alpha=0.0005):\n",
    "        \"\"\"\n",
    "        Runs GD and logs error, weigths, gradient at every step\n",
    "\n",
    "        Args:\n",
    "            X(ndarray):      train objects\n",
    "            y(ndarray):      answers for train objects\n",
    "            max_iter(int):   number of weight updates\n",
    "            alpha(floar):    step size in direction of gradient\n",
    "        Return:\n",
    "            None\n",
    "        \"\"\"\n",
    "        for i in range(max_iter):\n",
    "            self.history[\"coef\"].append(self._theta[1:].copy())\n",
    "            self.history[\"intercept\"].append(self._theta[0].copy())\n",
    "            \n",
    "            rmse = self.score(X, y)\n",
    "            self.history[\"cost\"].append(rmse)\n",
    "\n",
    "            # calculate gradient\n",
    "            grad = self._grad(X, y)\n",
    "            self.history[\"grad\"].append(grad)\n",
    "            \n",
    "            # do gradient step\n",
    "            self._theta -= alpha * grad\n",
    "    \n",
    "    def fit(self, X, y, max_iter=1000):\n",
    "        \"\"\"\n",
    "        Public API for fitting a linear regression model\n",
    "\n",
    "        Args:\n",
    "            X(ndarray):      train objects\n",
    "            y(ndarray):      answers for train objects\n",
    "            max_iter(int):   number of weight updates\n",
    "        Return:\n",
    "            self\n",
    "        \"\"\"\n",
    "        # Augment the data with the bias term.\n",
    "        # So we can treat the the input variables and the bias term homogeneously \n",
    "        # from a vectorization perspective\n",
    "#         print(X.shape[0])\n",
    "        X = np.c_[np.ones(X.shape[0]), X]\n",
    "        # initialize if the first step\n",
    "        if self._theta is None:\n",
    "            self._theta = np.random.rand(X.shape[1])\n",
    "        \n",
    "        # do full gradient descent\n",
    "        self._gd(X, y, max_iter)\n",
    "        \n",
    "        self.intercept_ = self._theta[0]\n",
    "        self.coef_ = self._theta[1:]\n",
    "#         print(len(self._theta))\n",
    "        return self\n",
    "        \n",
    "    def score(self, X, y):\n",
    "        \"\"\"\n",
    "        Calculate RMSE metric\n",
    "\n",
    "        Args:\n",
    "            X(ndarray):      objects\n",
    "            y(ndarray):      answers\n",
    "        Return:\n",
    "            rmse(float):     RMSE\n",
    "        \"\"\"\n",
    "        pred = self.predict(X)\n",
    "        error = pred - y\n",
    "        rmse = (np.sum(error ** 2) / X.shape[0]) ** 0.5\n",
    "        return rmse\n",
    "        \n",
    "    def predict(self, X):\n",
    "        \"\"\"\n",
    "        Make a prediction\n",
    "\n",
    "        Args:\n",
    "            X(ndarray):      objects\n",
    "        Return:\n",
    "            pred(ndarray):   predictions\n",
    "        \"\"\"\n",
    "        # check whether X has appended bias feature or not\n",
    "        if X.shape[1] == len(self._theta):\n",
    "            pred = np.dot(X, self._theta)\n",
    "        else:\n",
    "            pred = np.dot(X, self.coef_) + self.intercept_\n",
    "        return pred"
   ]
  },
  {
   "cell_type": "markdown",
   "metadata": {},
   "source": [
    "Create model"
   ]
  },
  {
   "cell_type": "code",
   "execution_count": 414,
   "metadata": {
    "collapsed": true
   },
   "outputs": [],
   "source": [
    "model_homegrown = BasicLinearRegressionHomegrown()"
   ]
  },
  {
   "cell_type": "markdown",
   "metadata": {},
   "source": [
    "## Fitting"
   ]
  },
  {
   "cell_type": "code",
   "execution_count": 415,
   "metadata": {
    "collapsed": false
   },
   "outputs": [
    {
     "data": {
      "text/plain": [
       "<__main__.BasicLinearRegressionHomegrown at 0x7f5b27afb9e8>"
      ]
     },
     "execution_count": 415,
     "metadata": {},
     "output_type": "execute_result"
    }
   ],
   "source": [
    "model_homegrown.fit(X_train, y_train, max_iter=40000)\n",
    "# model_homegrown._theta.shape"
   ]
  },
  {
   "cell_type": "code",
   "execution_count": 416,
   "metadata": {
    "collapsed": false
   },
   "outputs": [
    {
     "data": {
      "image/png": "[encoded data removed]",
      "text/plain": [
       "<matplotlib.figure.Figure at 0x7f5b3fed3390>"
      ]
     },
     "metadata": {},
     "output_type": "display_data"
    }
   ],
   "source": [
    "plt.figure(figsize=(10, 8))\n",
    "plt.plot(model_homegrown.history[\"cost\"], label=\"Train\")\n",
    "plt.xlabel(\"Iteration\")\n",
    "plt.ylabel(\"RMSE\")\n",
    "plt.title(\"Linear Regression via Gradient Descent\")\n",
    "plt.legend();"
   ]
  },
  {
   "cell_type": "markdown",
   "metadata": {},
   "source": [
    "## Evaluation"
   ]
  },
  {
   "cell_type": "code",
   "execution_count": 417,
   "metadata": {
    "collapsed": true
   },
   "outputs": [],
   "source": [
    "models = [model_sk, model_homegrown]\n",
    "models_names = [\"Sklearn\", \"Homegrown\"]"
   ]
  },
  {
   "cell_type": "code",
   "execution_count": 418,
   "metadata": {
    "collapsed": false
   },
   "outputs": [
    {
     "data": {
      "text/html": [
       "<div>\n",
       "<style>\n",
       "    .dataframe thead tr:only-child th {\n",
       "        text-align: right;\n",
       "    }\n",
       "\n",
       "    .dataframe thead th {\n",
       "        text-align: left;\n",
       "    }\n",
       "\n",
       "    .dataframe tbody tr th {\n",
       "        vertical-align: top;\n",
       "    }\n",
       "</style>\n",
       "<table border=\"1\" class=\"dataframe\">\n",
       "  <thead>\n",
       "    <tr style=\"text-align: right;\">\n",
       "      <th></th>\n",
       "      <th>MAE</th>\n",
       "      <th>RMSE</th>\n",
       "      <th>MAPE</th>\n",
       "    </tr>\n",
       "  </thead>\n",
       "  <tbody>\n",
       "    <tr>\n",
       "      <th>Sklearn Train</th>\n",
       "      <td>3.315165</td>\n",
       "      <td>4.652051</td>\n",
       "      <td>16.573489</td>\n",
       "    </tr>\n",
       "    <tr>\n",
       "      <th>Sklearn Test</th>\n",
       "      <td>3.191509</td>\n",
       "      <td>4.930662</td>\n",
       "      <td>16.880585</td>\n",
       "    </tr>\n",
       "    <tr>\n",
       "      <th>Homegrown Train</th>\n",
       "      <td>3.570690</td>\n",
       "      <td>5.148422</td>\n",
       "      <td>17.504468</td>\n",
       "    </tr>\n",
       "    <tr>\n",
       "      <th>Homegrown Test</th>\n",
       "      <td>3.384323</td>\n",
       "      <td>5.290366</td>\n",
       "      <td>18.214940</td>\n",
       "    </tr>\n",
       "  </tbody>\n",
       "</table>\n",
       "</div>"
      ],
      "text/plain": [
       "                      MAE      RMSE       MAPE\n",
       "Sklearn Train    3.315165  4.652051  16.573489\n",
       "Sklearn Test     3.191509  4.930662  16.880585\n",
       "Homegrown Train  3.570690  5.148422  17.504468\n",
       "Homegrown Test   3.384323  5.290366  18.214940"
      ]
     },
     "execution_count": 418,
     "metadata": {},
     "output_type": "execute_result"
    }
   ],
   "source": [
    "evaluate(models, metrics, samples, metrics_names, models_names)"
   ]
  },
  {
   "cell_type": "code",
   "execution_count": 419,
   "metadata": {
    "collapsed": false
   },
   "outputs": [
    {
     "data": {
      "text/plain": [
       "array([ 12.40594574,  -1.81245933,   2.61218657,  -1.1036026 ,\n",
       "         4.3637633 ,  -1.25101772,  20.34107311,   2.24519515,\n",
       "        -1.40829933,   1.56763644,  -2.4107007 ,  -5.90479786,\n",
       "         8.22882191, -13.6969731 ])"
      ]
     },
     "execution_count": 419,
     "metadata": {},
     "output_type": "execute_result"
    }
   ],
   "source": [
    "model_homegrown._theta"
   ]
  },
  {
   "cell_type": "markdown",
   "metadata": {},
   "source": [
    "# Assignment"
   ]
  },
  {
   "cell_type": "markdown",
   "metadata": {},
   "source": [
    "## Random search"
   ]
  },
  {
   "cell_type": "markdown",
   "metadata": {},
   "source": [
    "* Implement random search algorithm for Linear Regression as a child of **BasicLinearRegressionHomegrown** class. Then you need to reimplement only solution method (change GD to Random Search)\n",
    "* Compare its performance with the previous implementations"
   ]
  },
  {
   "cell_type": "markdown",
   "metadata": {},
   "source": [
    "Random search algorithm consists of the following steps:\n",
    "1. Sample a set of weigths from some distribution. Here we're going to use Uniform distribution.\n",
    "$$\n",
    "\\boldsymbol{\\Theta} = \\{\\boldsymbol{\\theta}_1, \\boldsymbol{\\theta}_2 \\ldots \\boldsymbol{\\theta}_{N}\\}\n",
    "$$\n",
    "2. Now we have a set of weights $\\boldsymbol{\\Theta}$ for Linear Regression. The idea is to choose the best one according to the objective.\n",
    "$$\n",
    "\\boldsymbol{\\theta^*} = \\underset{\\boldsymbol{\\Theta}}{\\text{argmin}} \\sum_{i=1}^{n}\\left[\\boldsymbol{\\theta} \\cdot \\mathbf{x_i} - y_i\\right]^2\n",
    "$$"
   ]
  },
  {
   "cell_type": "code",
   "execution_count": 420,
   "metadata": {
    "collapsed": true
   },
   "outputs": [],
   "source": [
    "class RandomSearchLinearRegressionHomegrown(BasicLinearRegressionHomegrown):\n",
    "    \n",
    "    def __init__(self):\n",
    "        # call the constructor of the parent class\n",
    "        super(RandomSearchLinearRegressionHomegrown, self).__init__()\n",
    "        self.history = {\"cost\": [], \n",
    "                        \"coef\": [], \n",
    "                        \"intercept\": []}\n",
    "        \n",
    "    def _rs(self, X, y, max_iter):\n",
    "        \"\"\"\n",
    "        Runs Random Search and logs error and weigths at every step\n",
    "\n",
    "        Args:\n",
    "            X(ndarray):      train objects\n",
    "            y(ndarray):      answers for train objects\n",
    "            max_iter(int):   number of points to sample\n",
    "        Return:\n",
    "            None\n",
    "        \"\"\"\n",
    "        \n",
    "        # use the following numpy command to generate\n",
    "        # random sample from the weight space\n",
    "        sampled_weights = np.random.random(size=(max_iter, len(self._theta))) * 20 - 10\n",
    "\n",
    "        # go ahead and choose the best of sampled weights\n",
    "        # according to the objective\n",
    "        \n",
    "        #==================================================#\n",
    "        #               Place your code here               #\n",
    "        #==================================================#\n",
    "        total_error=[]\n",
    "        for i in range(max_iter):\n",
    "            w_vector = sampled_weights[[i], :]\n",
    "            w_vector = w_vector.ravel()\n",
    "            pred = np.dot(X, w_vector)\n",
    "            error = np.square(pred - y)\n",
    "            total_error.append(np.sum(error))\n",
    "        idx = np.argmin(total_error)\n",
    "        self._theta = sampled_weights[[idx], :]\n",
    "        self._theta = self._theta.ravel()\n",
    "    \n",
    "    def fit(self, X, y, max_iter=1000):\n",
    "        \"\"\"\n",
    "        Public API for fitting a linear regression model\n",
    "\n",
    "        Args:\n",
    "            X(ndarray):      train objects\n",
    "            y(ndarray):      answers for train objects\n",
    "            max_iter(int):   number of points to sample\n",
    "        Return:\n",
    "            self\n",
    "        \"\"\"\n",
    "        X = np.c_[np.ones(X.shape[0]), X]\n",
    "        if self._theta is None:\n",
    "            self._theta = np.random.rand(X.shape[1])\n",
    "        \n",
    "        self._rs(X, y, max_iter)\n",
    "        \n",
    "        self.intercept_ = self._theta[0]\n",
    "        self.coef_ = self._theta[1:]\n",
    "        return self"
   ]
  },
  {
   "cell_type": "markdown",
   "metadata": {},
   "source": [
    "Create model"
   ]
  },
  {
   "cell_type": "code",
   "execution_count": 421,
   "metadata": {
    "collapsed": true
   },
   "outputs": [],
   "source": [
    "model_homegrown_rs = RandomSearchLinearRegressionHomegrown()"
   ]
  },
  {
   "cell_type": "markdown",
   "metadata": {},
   "source": [
    "Fitting"
   ]
  },
  {
   "cell_type": "code",
   "execution_count": 422,
   "metadata": {
    "collapsed": false
   },
   "outputs": [
    {
     "data": {
      "text/plain": [
       "<__main__.RandomSearchLinearRegressionHomegrown at 0x7f5b4c60d128>"
      ]
     },
     "execution_count": 422,
     "metadata": {},
     "output_type": "execute_result"
    }
   ],
   "source": [
    "model_homegrown_rs.fit(X_train, y_train, max_iter=10000)"
   ]
  },
  {
   "cell_type": "markdown",
   "metadata": {},
   "source": [
    "Evaluation"
   ]
  },
  {
   "cell_type": "code",
   "execution_count": 423,
   "metadata": {
    "collapsed": true
   },
   "outputs": [],
   "source": [
    "models = [model_sk, model_homegrown, model_homegrown_rs]\n",
    "models_names = [\"Sklearn\", \"Homegrown Full GD\", \"Homegrown RS\"]"
   ]
  },
  {
   "cell_type": "code",
   "execution_count": 424,
   "metadata": {
    "collapsed": false
   },
   "outputs": [
    {
     "data": {
      "text/html": [
       "<div>\n",
       "<style>\n",
       "    .dataframe thead tr:only-child th {\n",
       "        text-align: right;\n",
       "    }\n",
       "\n",
       "    .dataframe thead th {\n",
       "        text-align: left;\n",
       "    }\n",
       "\n",
       "    .dataframe tbody tr th {\n",
       "        vertical-align: top;\n",
       "    }\n",
       "</style>\n",
       "<table border=\"1\" class=\"dataframe\">\n",
       "  <thead>\n",
       "    <tr style=\"text-align: right;\">\n",
       "      <th></th>\n",
       "      <th>MAE</th>\n",
       "      <th>RMSE</th>\n",
       "      <th>MAPE</th>\n",
       "    </tr>\n",
       "  </thead>\n",
       "  <tbody>\n",
       "    <tr>\n",
       "      <th>Sklearn Train</th>\n",
       "      <td>3.315165</td>\n",
       "      <td>4.652051</td>\n",
       "      <td>16.573489</td>\n",
       "    </tr>\n",
       "    <tr>\n",
       "      <th>Sklearn Test</th>\n",
       "      <td>3.191509</td>\n",
       "      <td>4.930662</td>\n",
       "      <td>16.880585</td>\n",
       "    </tr>\n",
       "    <tr>\n",
       "      <th>Homegrown Full GD Train</th>\n",
       "      <td>3.570690</td>\n",
       "      <td>5.148422</td>\n",
       "      <td>17.504468</td>\n",
       "    </tr>\n",
       "    <tr>\n",
       "      <th>Homegrown Full GD Test</th>\n",
       "      <td>3.384323</td>\n",
       "      <td>5.290366</td>\n",
       "      <td>18.214940</td>\n",
       "    </tr>\n",
       "    <tr>\n",
       "      <th>Homegrown RS Train</th>\n",
       "      <td>5.994334</td>\n",
       "      <td>7.587925</td>\n",
       "      <td>33.199796</td>\n",
       "    </tr>\n",
       "    <tr>\n",
       "      <th>Homegrown RS Test</th>\n",
       "      <td>5.832513</td>\n",
       "      <td>7.320634</td>\n",
       "      <td>34.890905</td>\n",
       "    </tr>\n",
       "  </tbody>\n",
       "</table>\n",
       "</div>"
      ],
      "text/plain": [
       "                              MAE      RMSE       MAPE\n",
       "Sklearn Train            3.315165  4.652051  16.573489\n",
       "Sklearn Test             3.191509  4.930662  16.880585\n",
       "Homegrown Full GD Train  3.570690  5.148422  17.504468\n",
       "Homegrown Full GD Test   3.384323  5.290366  18.214940\n",
       "Homegrown RS Train       5.994334  7.587925  33.199796\n",
       "Homegrown RS Test        5.832513  7.320634  34.890905"
      ]
     },
     "execution_count": 424,
     "metadata": {},
     "output_type": "execute_result"
    }
   ],
   "source": [
    "evaluate(models, metrics, samples, metrics_names, models_names)"
   ]
  },
  {
   "cell_type": "code",
   "execution_count": 425,
   "metadata": {
    "collapsed": false
   },
   "outputs": [
    {
     "data": {
      "text/plain": [
       "array([ 7.03234191,  1.9294364 ,  7.29773116, -1.45076335,  1.9155399 ,\n",
       "        0.50856606,  9.73353499,  5.93639786,  1.90800164,  2.13171979,\n",
       "       -5.02396575,  4.69505887,  9.65665726, -7.41137389])"
      ]
     },
     "execution_count": 425,
     "metadata": {},
     "output_type": "execute_result"
    }
   ],
   "source": [
    "model_homegrown_rs._theta"
   ]
  },
  {
   "cell_type": "markdown",
   "metadata": {},
   "source": [
    "## Numerical check\n",
    "* **BasicLinearRegressionHomegrown** class provides you with the method *_grad* that allows to compute analytical gradient. This function is correct\n",
    "* Inheret from this class and implement a method for numerical approximation of gradient (see placeholder below)\n",
    "* Check your function by comparing with the analytical one. They **should** be similar.\n",
    "* Plot the difference of analytical and numerical gradients and describe what you observe"
   ]
  },
  {
   "cell_type": "markdown",
   "metadata": {},
   "source": [
    "The formula for analytical gradient (from calculus):\n",
    "\n",
    "$$\n",
    "\\nabla f(\\mathbf{x}) = \n",
    "\\begin{bmatrix}\n",
    "\\frac{\\partial f}{\\partial x_1}\\\\\n",
    "\\vdots\\\\\n",
    "\\frac{\\partial f}{\\partial x_m}\n",
    "\\end{bmatrix}, \\text{ where } m \\text{ is the space dimension}\\\\\n",
    "\\frac{\\partial f}{\\partial x_1} = \\lim_{\\alpha \\rightarrow 0} \\frac{f(x_1 + \\alpha, x_2 \\ldots x_m) - f(x_1, x_2 \\ldots x_m)}{\\alpha}\n",
    "$$\n",
    "\n",
    "For sufficiently small $\\alpha$ one can approximate partial derivative by simple throwing out the limit operator\n",
    "\n",
    "$$\n",
    "\\frac{\\partial f}{\\partial x_1} \\approx \\frac{f(x_1 + \\alpha, x_2 \\ldots x_m) - f(x_1, x_2 \\ldots x_m)}{\\alpha} = \\left( \\frac{\\partial f}{\\partial x_1} \\right)_{\\text{num}}\\\\\n",
    "$$\n",
    "\n",
    "Then the final approximation of the gradient is:\n",
    "\n",
    "$$\n",
    "\\nabla f(\\mathbf{x}) \\approx \\nabla_{\\text{num}\\,\\,} f(\\mathbf{x}) = \\begin{bmatrix}\n",
    "\\left( \\frac{\\partial f}{\\partial x_1} \\right)_{\\text{num}}\\\\\n",
    "\\vdots\\\\\n",
    "\\left( \\frac{\\partial f}{\\partial x_m} \\right)_{\\text{num}}\n",
    "\\end{bmatrix}\n",
    "$$\n",
    "\n",
    "The common way of measuring the difference between vectors is the following:\n",
    "$$\n",
    "\\text{er} = \\frac{\\|\\nabla f(\\mathbf{x}) - \\nabla_{\\text{num}\\,\\,}f(\\mathbf{x})\\|_2^2}{\\|\\nabla f(\\mathbf{x})\\|_2^2} = \\frac{\\sum_{j=1}^{m}\\left(\\nabla^j f(\\mathbf{x}) - \\nabla^j_{\\text{num}\\,\\,}f(\\mathbf{x})\\right)^2}{\\sum_{j=1}^{m}\\left(\\nabla^j f(\\mathbf{x})\\right)^2}\n",
    "$$"
   ]
  },
  {
   "cell_type": "code",
   "execution_count": 426,
   "metadata": {
    "code_folding": [],
    "collapsed": true
   },
   "outputs": [],
   "source": [
    "class TweakedLinearRegressionHomegrown(BasicLinearRegressionHomegrown):\n",
    "    \n",
    "    def __init__(self):\n",
    "        # call the constructor of the parent class\n",
    "        super(TweakedLinearRegressionHomegrown, self).__init__()\n",
    "        self.history[\"grad_num\"] = []\n",
    "        \n",
    "    @staticmethod\n",
    "    def _gradient_approximation(f, x):\n",
    "        \"\"\"\n",
    "        Returns the numerical gradient of the function f at the point x\n",
    "\n",
    "        Args:\n",
    "            f(callable): function that takes the point x as an input \n",
    "                         and returns the value of the function\n",
    "            x(ndarray): numpy array which contains the coordinates \n",
    "                        of the point to evaluate gradient\n",
    "        Return:\n",
    "            grad_num(ndarray): the numerical approximation \n",
    "                               of the gradient\n",
    "        \"\"\"\n",
    "\n",
    "        grad_num = np.zeros(len(x))\n",
    "\n",
    "        #==================================================#\n",
    "        #               Place your code here               #\n",
    "        #==================================================#\n",
    "\n",
    "        return grad_num\n",
    "    \n",
    "    def f_loss(self, X, y, th):\n",
    "\n",
    "        pred = np.dot(X, th)\n",
    "        err = np.square(pred - y)\n",
    "        return np.sum(err)/X.shape[0]\n",
    "            \n",
    "    \n",
    "    def _grad_num(self, X, y):\n",
    "        \"\"\"\n",
    "        Returns the numerical gradient of the LinearRegression \n",
    "        objective function\n",
    "\n",
    "        Args:\n",
    "            X(ndarray): train objects\n",
    "            y(ndarray): answers for train objects\n",
    "        Return:\n",
    "            grad_num(ndarray): the numerical approximation \n",
    "                               of the gradient\n",
    "        \"\"\"\n",
    "        h = 0.0001\n",
    "        grad_num = np.zeros(X.shape[1])\n",
    "        \n",
    "        #==================================================#\n",
    "        #               Place your code here               #\n",
    "        #         Use _gradient_approximation method       #\n",
    "        #==================================================#\n",
    "\n",
    "#         for i in range(X.shape[1]):\n",
    "#             th = np.copy(self._theta)\n",
    "#             th[i] -=alpha\n",
    "#             fwh = self.f_loss( X, y,th)\n",
    "\n",
    "#             grad_num[i] = (fwh - fw) / alpha\n",
    "            \n",
    " # A better logic\n",
    "\n",
    "        for i in range(X.shape[1]):\n",
    "            theta_plus = np.copy(self._theta)\n",
    "            theta_minus = np.copy(self._theta)\n",
    "            theta_plus[i] +=h\n",
    "            theta_minus[i] -=h\n",
    "            fwh_plus = self.f_loss( X, y,theta_plus)\n",
    "            fwh_minus = self.f_loss( X, y,theta_minus)\n",
    "            grad_num[i] = (fwh_plus - fwh_minus) / 2*h\n",
    "#             grad_num[i] = (fwh - fw) / h\n",
    "        return grad_num\n",
    "    \n",
    "    def _gd(self, X, y, max_iter, alpha=0.001):\n",
    "        \"\"\"\n",
    "        Runs GD and logs error, weigths, gradient and \n",
    "        numerical gradient at every step\n",
    "\n",
    "        Args:\n",
    "            X(ndarray):      train objects\n",
    "            y(ndarray):      answers for train objects\n",
    "            max_iter(int):   number of EPOCHS, i.e., full passes over data\n",
    "            batch_size(int): number of samples in one batch\n",
    "            alpha(floar):    step size in direction of gradient\n",
    "        Return:\n",
    "            None\n",
    "        \"\"\"\n",
    "        for i in range(max_iter):\n",
    "            self.history[\"coef\"].append(self._theta[1:].copy())\n",
    "            self.history[\"intercept\"].append(self._theta[0].copy())\n",
    "            \n",
    "            rmse = self.score(X, y)\n",
    "            self.history[\"cost\"].append(rmse)\n",
    "\n",
    "            grad = self._grad(X, y)\n",
    "            self.history[\"grad\"].append(grad)\n",
    "            \n",
    "            grad_num = self._grad_num(X, y)\n",
    "            self.history[\"grad_num\"].append(grad_num)\n",
    "            \n",
    "            self._theta -= alpha * grad"
   ]
  },
  {
   "cell_type": "markdown",
   "metadata": {},
   "source": [
    "Create model"
   ]
  },
  {
   "cell_type": "code",
   "execution_count": 427,
   "metadata": {
    "collapsed": true
   },
   "outputs": [],
   "source": [
    "model_homegrown_check_grad = TweakedLinearRegressionHomegrown()"
   ]
  },
  {
   "cell_type": "markdown",
   "metadata": {},
   "source": [
    "Fitting"
   ]
  },
  {
   "cell_type": "code",
   "execution_count": 428,
   "metadata": {
    "collapsed": false
   },
   "outputs": [
    {
     "data": {
      "text/plain": [
       "<__main__.TweakedLinearRegressionHomegrown at 0x7f5b29aca7b8>"
      ]
     },
     "execution_count": 428,
     "metadata": {},
     "output_type": "execute_result"
    }
   ],
   "source": [
    "model_homegrown_check_grad.fit(X_train, y_train, max_iter=40000)"
   ]
  },
  {
   "cell_type": "markdown",
   "metadata": {},
   "source": [
    "Plotting error curves"
   ]
  },
  {
   "cell_type": "code",
   "execution_count": 429,
   "metadata": {
    "collapsed": true
   },
   "outputs": [],
   "source": [
    "def relative_error(grad, grad_num):\n",
    "    return np.sum((grad - grad_num) ** 2, axis=1) * 1. / np.sum(grad ** 2, axis=1)"
   ]
  },
  {
   "cell_type": "code",
   "execution_count": 430,
   "metadata": {
    "collapsed": true
   },
   "outputs": [],
   "source": [
    "def absolute_error(grad, grad_num):\n",
    "    return np.sum((grad - grad_num) ** 2, axis=1) * 1."
   ]
  },
  {
   "cell_type": "code",
   "execution_count": 431,
   "metadata": {
    "collapsed": true
   },
   "outputs": [],
   "source": [
    "grad_num = np.array(model_homegrown_check_grad.history[\"grad_num\"])\n",
    "grad = np.array(model_homegrown_check_grad.history[\"grad\"])"
   ]
  },
  {
   "cell_type": "code",
   "execution_count": 432,
   "metadata": {
    "collapsed": false
   },
   "outputs": [
    {
     "data": {
      "image/png": "[encoded data removed]",
      "text/plain": [
       "<matplotlib.figure.Figure at 0x7f5b27afb438>"
      ]
     },
     "metadata": {},
     "output_type": "display_data"
    }
   ],
   "source": [
    "plt.figure(figsize=(20, 8))\n",
    "plt.suptitle(\"Numerical approximation of gradient quality\")\n",
    "plt.subplot(121)\n",
    "plt.plot(relative_error(grad, grad_num))\n",
    "plt.xlabel(\"Iteration\")\n",
    "plt.ylabel(\"Relative error\")\n",
    "plt.subplot(122)\n",
    "plt.plot(absolute_error(grad, grad_num))\n",
    "plt.xlabel(\"Iteration\")\n",
    "plt.ylabel(\"Absolute error\")\n",
    "plt.show()"
   ]
  },
  {
   "cell_type": "code",
   "execution_count": 433,
   "metadata": {
    "collapsed": false
   },
   "outputs": [
    {
     "name": "stdout",
     "output_type": "stream",
     "text": [
      "[ 15.00739911  -3.4605169    1.27479769  -0.33719815   3.44123714\n",
      "  -2.67960434  24.13827      1.44383365  -4.9681658    2.74012249\n",
      "  -2.72354287  -7.18529919   6.9391835  -16.80534536]\n"
     ]
    }
   ],
   "source": [
    "print(model_homegrown_check_grad._theta)"
   ]
  },
  {
   "cell_type": "markdown",
   "metadata": {},
   "source": [
    "## Stochastic Gradient Descent\n",
    "* Implement stochastic gradient descent algorithm as a member of a class\n",
    "* Check that analytical gradient is right via numerical gradient function from **TweakedLinearRegressionHomegrown**"
   ]
  },
  {
   "cell_type": "markdown",
   "metadata": {},
   "source": [
    "In Full GD we do a descent step only after the calculation of the gradient over the whole set of data. In this case the gradient is precise and gives the best possible direction. But it can require quite a lot of time if we have huge amounts of data. \n",
    "\n",
    "In practice we can get faster convergence if we calculate the gradient not over the whole set of data but over the small (size of $B$) **batch** of it.\n",
    "\n",
    "$$\n",
    "\\nabla f(\\boldsymbol{\\theta}) \\approx \\nabla_{\\text{batch}\\,\\,} f(\\boldsymbol{\\theta}) = \\frac{2}{n}\\sum_{i=1}^{B}\\left(\\mathbf{x}'_{a_i}\\cdot \\boldsymbol{\\theta} - y_{a_i}\\right)\\cdot \\mathbf{x}'_{a_i}\n",
    "$$\n",
    "where $a_i$ is an array of indices of objects which are in this batch. Common approach here that you should use is to shuffle samples randomly and then iterate over them with batches.\n",
    "\n",
    "So with this batch approach we get an approximation of the real gradient in point $\\boldsymbol{\\theta}$. This approximation is very cheap and fast to compute (usually $B$ is not too big $-$ from 32 to 256). After obtaining this gradient we do a descent step in this approximate direction and proceed to the next stage of batch descent."
   ]
  },
  {
   "cell_type": "code",
   "execution_count": 434,
   "metadata": {
    "collapsed": true
   },
   "outputs": [],
   "source": [
    "class StochasticLinearRegressionHomegrown(TweakedLinearRegressionHomegrown):\n",
    "    \n",
    "    def __init__(self):\n",
    "        # call the constructor of the parent class\n",
    "        super(StochasticLinearRegressionHomegrown, self).__init__()\n",
    "        self.history[\"grad_num\"] = []\n",
    "    \n",
    "    def _sgd(self, X, y, max_iter, batch_size, alpha=0.0005):\n",
    "        \"\"\"\n",
    "        Runs Stochastic GD and logs error, weigths, gradient and \n",
    "        numerical gradient at every step\n",
    "\n",
    "        Args:\n",
    "            X(ndarray):      train objects\n",
    "            y(ndarray):      answers for train objects\n",
    "            max_iter(int):   number of EPOCHS, i.e., full passes over data\n",
    "            batch_size(int): number of samples in one batch\n",
    "            alpha(floar):    step size in direction of gradient\n",
    "        Return:\n",
    "            None\n",
    "        \"\"\"\n",
    "        \n",
    "        #==================================================#\n",
    "        #               Place your code here               #\n",
    "        #==================================================#\n",
    "#         print(self._theta)\n",
    "        m = X.shape[0]\n",
    "#         theta = model_homegrown_check_grad._theta\n",
    "\n",
    "\n",
    "        for epoch in range(max_iter):\n",
    "            shuffled_indices = np.random.permutation(m)\n",
    "            X_b_shuffled = X[shuffled_indices]\n",
    "            y_shuffled = y[shuffled_indices]\n",
    "            for i in range(0, m, batch_size):\n",
    "#                 t += 1\n",
    "                xi = X_b_shuffled[i:i+batch_size]\n",
    "                yi = y_shuffled[i:i+batch_size]\n",
    "#                 gradients = 2 * xi.T.dot(xi.dot(theta) - yi)\n",
    "#                 eta = learning_schedule(t)\n",
    "#                 self._theta = self._theta - alpha * gradients\n",
    "#                 theta_path_mgd.append(theta)\n",
    "                rmse = self.score(xi, yi)\n",
    "                self.history[\"cost\"].append(rmse)\n",
    "\n",
    "                grad = self._grad(xi, yi)\n",
    "                self.history[\"grad\"].append(grad)\n",
    "\n",
    "                grad_num = self._grad_num(xi, yi)\n",
    "                self.history[\"grad_num\"].append(grad_num)\n",
    "\n",
    "                self._theta -= alpha * grad\n",
    "                \n",
    "    def fit(self, X, y, max_iter=1000, batch_size=16):\n",
    "        \"\"\"\n",
    "        Public API for fitting a linear regression model\n",
    "\n",
    "        Args:\n",
    "            X(ndarray):      train objects\n",
    "            y(ndarray):      answers for train objects\n",
    "            max_iter(int):   number of EPOCHS, i.e., full passes over data\n",
    "            batch_size(int): number of samples in one batch\n",
    "        Return:\n",
    "            self\n",
    "        \"\"\"\n",
    "        X = np.c_[np.ones(X.shape[0]), X]\n",
    "        if self._theta is None:\n",
    "            self._theta = np.random.rand(X.shape[1])\n",
    "\n",
    "        self._sgd(X, y, max_iter, batch_size)\n",
    "        \n",
    "        self.intercept_ = self._theta[0]\n",
    "        self.coef_ = self._theta[1:]\n",
    "        return self"
   ]
  },
  {
   "cell_type": "markdown",
   "metadata": {},
   "source": [
    "Create model"
   ]
  },
  {
   "cell_type": "code",
   "execution_count": 435,
   "metadata": {
    "collapsed": true
   },
   "outputs": [],
   "source": [
    "model_homegrown_sgd = StochasticLinearRegressionHomegrown()"
   ]
  },
  {
   "cell_type": "markdown",
   "metadata": {},
   "source": [
    "Fitting"
   ]
  },
  {
   "cell_type": "code",
   "execution_count": 436,
   "metadata": {
    "collapsed": false
   },
   "outputs": [
    {
     "data": {
      "text/plain": [
       "<__main__.StochasticLinearRegressionHomegrown at 0x7f5b2b261a90>"
      ]
     },
     "execution_count": 436,
     "metadata": {},
     "output_type": "execute_result"
    }
   ],
   "source": [
    "model_homegrown_sgd.fit(X_train, y_train, max_iter=1500)"
   ]
  },
  {
   "cell_type": "code",
   "execution_count": 437,
   "metadata": {
    "collapsed": false
   },
   "outputs": [
    {
     "data": {
      "text/plain": [
       "array([ 12.47149133,  -2.10514974,   2.45195947,  -1.56149496,\n",
       "         4.39066028,  -0.97081533,  20.60919444,   1.84779155,\n",
       "        -1.6027819 ,   1.249441  ,  -2.0120254 ,  -5.86883599,\n",
       "         8.1916143 , -13.04070789])"
      ]
     },
     "execution_count": 437,
     "metadata": {},
     "output_type": "execute_result"
    }
   ],
   "source": [
    "model_homegrown_sgd._theta"
   ]
  },
  {
   "cell_type": "code",
   "execution_count": 438,
   "metadata": {
    "collapsed": false
   },
   "outputs": [
    {
     "data": {
      "image/png": "[encoded data removed]",
      "text/plain": [
       "<matplotlib.figure.Figure at 0x7f5b3f571cc0>"
      ]
     },
     "metadata": {},
     "output_type": "display_data"
    }
   ],
   "source": [
    "plt.figure(figsize=(10, 8))\n",
    "plt.plot(model_homegrown_sgd.history[\"cost\"], label=\"Train\")\n",
    "plt.xlabel(\"Iteration\")\n",
    "plt.ylabel(\"RMSE\")\n",
    "plt.title(\"Linear Regression via Stochastic Gradient Descent\")\n",
    "plt.legend(frameon=True)\n",
    "plt.show()"
   ]
  },
  {
   "cell_type": "markdown",
   "metadata": {},
   "source": [
    "Evaluation"
   ]
  },
  {
   "cell_type": "code",
   "execution_count": 439,
   "metadata": {
    "collapsed": true
   },
   "outputs": [],
   "source": [
    "models = [model_sk, model_homegrown, model_homegrown_sgd]\n",
    "models_names = [\"Sklearn\", \"Homegrown Full GD\", \"Homegrown SGD\"]"
   ]
  },
  {
   "cell_type": "code",
   "execution_count": 440,
   "metadata": {
    "collapsed": false
   },
   "outputs": [
    {
     "data": {
      "text/html": [
       "<div>\n",
       "<style>\n",
       "    .dataframe thead tr:only-child th {\n",
       "        text-align: right;\n",
       "    }\n",
       "\n",
       "    .dataframe thead th {\n",
       "        text-align: left;\n",
       "    }\n",
       "\n",
       "    .dataframe tbody tr th {\n",
       "        vertical-align: top;\n",
       "    }\n",
       "</style>\n",
       "<table border=\"1\" class=\"dataframe\">\n",
       "  <thead>\n",
       "    <tr style=\"text-align: right;\">\n",
       "      <th></th>\n",
       "      <th>MAE</th>\n",
       "      <th>RMSE</th>\n",
       "      <th>MAPE</th>\n",
       "    </tr>\n",
       "  </thead>\n",
       "  <tbody>\n",
       "    <tr>\n",
       "      <th>Sklearn Train</th>\n",
       "      <td>3.315165</td>\n",
       "      <td>4.652051</td>\n",
       "      <td>16.573489</td>\n",
       "    </tr>\n",
       "    <tr>\n",
       "      <th>Sklearn Test</th>\n",
       "      <td>3.191509</td>\n",
       "      <td>4.930662</td>\n",
       "      <td>16.880585</td>\n",
       "    </tr>\n",
       "    <tr>\n",
       "      <th>Homegrown Full GD Train</th>\n",
       "      <td>3.570690</td>\n",
       "      <td>5.148422</td>\n",
       "      <td>17.504468</td>\n",
       "    </tr>\n",
       "    <tr>\n",
       "      <th>Homegrown Full GD Test</th>\n",
       "      <td>3.384323</td>\n",
       "      <td>5.290366</td>\n",
       "      <td>18.214940</td>\n",
       "    </tr>\n",
       "    <tr>\n",
       "      <th>Homegrown SGD Train</th>\n",
       "      <td>3.569789</td>\n",
       "      <td>5.157438</td>\n",
       "      <td>17.504671</td>\n",
       "    </tr>\n",
       "    <tr>\n",
       "      <th>Homegrown SGD Test</th>\n",
       "      <td>3.384243</td>\n",
       "      <td>5.304305</td>\n",
       "      <td>18.219417</td>\n",
       "    </tr>\n",
       "  </tbody>\n",
       "</table>\n",
       "</div>"
      ],
      "text/plain": [
       "                              MAE      RMSE       MAPE\n",
       "Sklearn Train            3.315165  4.652051  16.573489\n",
       "Sklearn Test             3.191509  4.930662  16.880585\n",
       "Homegrown Full GD Train  3.570690  5.148422  17.504468\n",
       "Homegrown Full GD Test   3.384323  5.290366  18.214940\n",
       "Homegrown SGD Train      3.569789  5.157438  17.504671\n",
       "Homegrown SGD Test       3.384243  5.304305  18.219417"
      ]
     },
     "execution_count": 440,
     "metadata": {},
     "output_type": "execute_result"
    }
   ],
   "source": [
    "evaluate(models, metrics, samples, metrics_names, models_names)"
   ]
  },
  {
   "cell_type": "markdown",
   "metadata": {},
   "source": [
    "## L1 and L2 regularization for Linear Regression\n",
    "Regularization is a way of penalizing the model for excessive complexity. It allows to avoid overfitting.\n",
    "\n",
    "There are many ways of doing regularization but these two are the major ones:\n",
    "* **L2-regularization:**\n",
    "$$\n",
    "f(\\mathbf{w}, b) = \\frac{1}{n}\\sum_{i=1}^{n}\\left[ (\\mathbf{w}\\cdot\\mathbf{x}_i + b) - y_i\\right]^2 + \\lambda \\sum_{j=1}^{m}w_j^2\n",
    "$$\n",
    "or in matrix way:\n",
    "$$\n",
    "f(\\mathbf{w}, b) = \\|\\text{X}\\cdot\\mathbf{w} + b\\cdot\\mathbf{1}_n - \\mathbf{y}\\|_2^2 + \\lambda \\|\\mathbf{w}\\|_2^2\n",
    "$$\n",
    "* **L1-regularization:**\n",
    "$$\n",
    "f(\\mathbf{w}, b) = \\frac{1}{n}\\sum_{i=1}^{n}\\left[ (\\mathbf{w}\\cdot\\mathbf{x}_i + b) - y_i\\right]^2 + \\lambda \\sum_{j=1}^{m}|w_j|\n",
    "$$\n",
    "or in matrix way:\n",
    "$$\n",
    "f(\\mathbf{w}, b) = \\|\\text{X}\\cdot\\mathbf{w} + b\\cdot\\mathbf{1}_n - \\mathbf{y}\\|_2^2 + \\lambda \\|\\mathbf{w}\\|_1\n",
    "$$\n",
    "\n",
    "Try to encorporate both of them into the GD solution of Linear Regression starting with L2-regularization. What is the problem then with L1-regularization? What benefits L1 can gives apart from reducing overfitting."
   ]
  },
  {
   "cell_type": "code",
   "execution_count": 441,
   "metadata": {
    "collapsed": false
   },
   "outputs": [
    {
     "name": "stderr",
     "output_type": "stream",
     "text": [
      "/opt/conda/lib/python3.6/site-packages/sklearn/linear_model/stochastic_gradient.py:84: FutureWarning: max_iter and tol parameters have been added in <class 'sklearn.linear_model.stochastic_gradient.SGDRegressor'> in 0.19. If both are left unset, they default to max_iter=5 and tol=None. If tol is not None, max_iter defaults to max_iter=1000. From 0.21, default max_iter will be 1000, and default tol will be 1e-3.\n",
      "  \"and default tol will be 1e-3.\" % type(self), FutureWarning)\n"
     ]
    },
    {
     "data": {
      "text/plain": [
       "SGDRegressor(alpha=1e-08, average=False, epsilon=0.1, eta0=0.01,\n",
       "       fit_intercept=True, l1_ratio=0.15, learning_rate='invscaling',\n",
       "       loss='squared_loss', max_iter=5, n_iter=None, penalty='l2',\n",
       "       power_t=0.25, random_state=None, shuffle=True, tol=None, verbose=0,\n",
       "       warm_start=False)"
      ]
     },
     "execution_count": 441,
     "metadata": {},
     "output_type": "execute_result"
    }
   ],
   "source": [
    "sgd_reg_l1 = linear_model.SGDRegressor(alpha=0.00000001, penalty='l1')\n",
    "sgd_reg_l2 = linear_model.SGDRegressor(alpha=0.00000001, penalty='l2')\n",
    "\n",
    "sgd_reg_l1.fit(X_train, y_train)\n",
    "sgd_reg_l2.fit(X_train, y_train)"
   ]
  },
  {
   "cell_type": "code",
   "execution_count": 442,
   "metadata": {
    "collapsed": true
   },
   "outputs": [],
   "source": [
    "preds_test_l1 = model_sk.predict(X_test)\n",
    "preds_train_l1 = model_sk.predict(X_train)\n",
    "\n",
    "preds_test_l2 = model_sk.predict(X_test)\n",
    "preds_train_l2 = model_sk.predict(X_train)"
   ]
  },
  {
   "cell_type": "code",
   "execution_count": 443,
   "metadata": {
    "collapsed": false
   },
   "outputs": [
    {
     "data": {
      "image/png": "[encoded data removed]",
      "text/plain": [
       "<matplotlib.figure.Figure at 0x7f5b29b28588>"
      ]
     },
     "metadata": {},
     "output_type": "display_data"
    }
   ],
   "source": [
    "plt.figure(figsize=(10, 8))\n",
    "plt.scatter(y_train, preds_train_l1, label=\"Train\")\n",
    "plt.scatter(y_test, preds_test_l1, c=\"r\", label=\"Test\")\n",
    "plt.xlabel(\"Real price, $\")\n",
    "plt.ylabel(\"Predicted price, $\")\n",
    "plt.plot([y.min(), y.max()], [y.min(), y.max()], 'k--', lw=3, label=\"Ideal\")\n",
    "plt.legend(loc=\"lower right\");"
   ]
  },
  {
   "cell_type": "code",
   "execution_count": 444,
   "metadata": {
    "collapsed": true
   },
   "outputs": [],
   "source": [
    "models = [model_sk, model_homegrown, model_homegrown_sgd, sgd_reg_l1]\n",
    "models_names = [\"Sklearn\", \"Homegrown Full GD\", \"Homegrown SGD\", \"SGD L1 Regularization\"]"
   ]
  },
  {
   "cell_type": "code",
   "execution_count": 445,
   "metadata": {
    "collapsed": false
   },
   "outputs": [
    {
     "data": {
      "text/html": [
       "<div>\n",
       "<style>\n",
       "    .dataframe thead tr:only-child th {\n",
       "        text-align: right;\n",
       "    }\n",
       "\n",
       "    .dataframe thead th {\n",
       "        text-align: left;\n",
       "    }\n",
       "\n",
       "    .dataframe tbody tr th {\n",
       "        vertical-align: top;\n",
       "    }\n",
       "</style>\n",
       "<table border=\"1\" class=\"dataframe\">\n",
       "  <thead>\n",
       "    <tr style=\"text-align: right;\">\n",
       "      <th></th>\n",
       "      <th>MAE</th>\n",
       "      <th>RMSE</th>\n",
       "      <th>MAPE</th>\n",
       "    </tr>\n",
       "  </thead>\n",
       "  <tbody>\n",
       "    <tr>\n",
       "      <th>Sklearn Train</th>\n",
       "      <td>3.315165</td>\n",
       "      <td>4.652051</td>\n",
       "      <td>16.573489</td>\n",
       "    </tr>\n",
       "    <tr>\n",
       "      <th>Sklearn Test</th>\n",
       "      <td>3.191509</td>\n",
       "      <td>4.930662</td>\n",
       "      <td>16.880585</td>\n",
       "    </tr>\n",
       "    <tr>\n",
       "      <th>Homegrown Full GD Train</th>\n",
       "      <td>3.570690</td>\n",
       "      <td>5.148422</td>\n",
       "      <td>17.504468</td>\n",
       "    </tr>\n",
       "    <tr>\n",
       "      <th>Homegrown Full GD Test</th>\n",
       "      <td>3.384323</td>\n",
       "      <td>5.290366</td>\n",
       "      <td>18.214940</td>\n",
       "    </tr>\n",
       "    <tr>\n",
       "      <th>Homegrown SGD Train</th>\n",
       "      <td>3.569789</td>\n",
       "      <td>5.157438</td>\n",
       "      <td>17.504671</td>\n",
       "    </tr>\n",
       "    <tr>\n",
       "      <th>Homegrown SGD Test</th>\n",
       "      <td>3.384243</td>\n",
       "      <td>5.304305</td>\n",
       "      <td>18.219417</td>\n",
       "    </tr>\n",
       "    <tr>\n",
       "      <th>SGD L1 Regularization Train</th>\n",
       "      <td>5.326335</td>\n",
       "      <td>7.527753</td>\n",
       "      <td>26.159528</td>\n",
       "    </tr>\n",
       "    <tr>\n",
       "      <th>SGD L1 Regularization Test</th>\n",
       "      <td>4.852588</td>\n",
       "      <td>7.023904</td>\n",
       "      <td>26.847197</td>\n",
       "    </tr>\n",
       "  </tbody>\n",
       "</table>\n",
       "</div>"
      ],
      "text/plain": [
       "                                  MAE      RMSE       MAPE\n",
       "Sklearn Train                3.315165  4.652051  16.573489\n",
       "Sklearn Test                 3.191509  4.930662  16.880585\n",
       "Homegrown Full GD Train      3.570690  5.148422  17.504468\n",
       "Homegrown Full GD Test       3.384323  5.290366  18.214940\n",
       "Homegrown SGD Train          3.569789  5.157438  17.504671\n",
       "Homegrown SGD Test           3.384243  5.304305  18.219417\n",
       "SGD L1 Regularization Train  5.326335  7.527753  26.159528\n",
       "SGD L1 Regularization Test   4.852588  7.023904  26.847197"
      ]
     },
     "execution_count": 445,
     "metadata": {},
     "output_type": "execute_result"
    }
   ],
   "source": [
    "evaluate(models, metrics, samples, metrics_names, models_names)"
   ]
  },
  {
   "cell_type": "code",
   "execution_count": 446,
   "metadata": {
    "collapsed": false
   },
   "outputs": [
    {
     "data": {
      "image/png": "[encoded data removed]",
      "text/plain": [
       "<matplotlib.figure.Figure at 0x7f5b4c72c400>"
      ]
     },
     "metadata": {},
     "output_type": "display_data"
    }
   ],
   "source": [
    "plt.figure(figsize=(10, 8))\n",
    "plt.scatter(y_train, preds_train_l2, label=\"Train\")\n",
    "plt.scatter(y_test, preds_test_l2, c=\"r\", label=\"Test\")\n",
    "plt.xlabel(\"Real price, $\")\n",
    "plt.ylabel(\"Predicted price, $\")\n",
    "plt.plot([y.min(), y.max()], [y.min(), y.max()], 'k--', lw=3, label=\"Ideal\")\n",
    "plt.legend(loc=\"lower right\");"
   ]
  },
  {
   "cell_type": "code",
   "execution_count": 447,
   "metadata": {
    "collapsed": true
   },
   "outputs": [],
   "source": [
    "models = [model_sk, model_homegrown, model_homegrown_sgd, sgd_reg_l1, sgd_reg_l2]\n",
    "models_names = [\"Sklearn\", \"Homegrown Full GD\", \"Homegrown SGD\", \"SGD L1\", \"SGD L2\"]"
   ]
  },
  {
   "cell_type": "code",
   "execution_count": 448,
   "metadata": {
    "collapsed": false
   },
   "outputs": [
    {
     "data": {
      "text/html": [
       "<div>\n",
       "<style>\n",
       "    .dataframe thead tr:only-child th {\n",
       "        text-align: right;\n",
       "    }\n",
       "\n",
       "    .dataframe thead th {\n",
       "        text-align: left;\n",
       "    }\n",
       "\n",
       "    .dataframe tbody tr th {\n",
       "        vertical-align: top;\n",
       "    }\n",
       "</style>\n",
       "<table border=\"1\" class=\"dataframe\">\n",
       "  <thead>\n",
       "    <tr style=\"text-align: right;\">\n",
       "      <th></th>\n",
       "      <th>MAE</th>\n",
       "      <th>RMSE</th>\n",
       "      <th>MAPE</th>\n",
       "    </tr>\n",
       "  </thead>\n",
       "  <tbody>\n",
       "    <tr>\n",
       "      <th>Sklearn Train</th>\n",
       "      <td>3.315165</td>\n",
       "      <td>4.652051</td>\n",
       "      <td>16.573489</td>\n",
       "    </tr>\n",
       "    <tr>\n",
       "      <th>Sklearn Test</th>\n",
       "      <td>3.191509</td>\n",
       "      <td>4.930662</td>\n",
       "      <td>16.880585</td>\n",
       "    </tr>\n",
       "    <tr>\n",
       "      <th>Homegrown Full GD Train</th>\n",
       "      <td>3.570690</td>\n",
       "      <td>5.148422</td>\n",
       "      <td>17.504468</td>\n",
       "    </tr>\n",
       "    <tr>\n",
       "      <th>Homegrown Full GD Test</th>\n",
       "      <td>3.384323</td>\n",
       "      <td>5.290366</td>\n",
       "      <td>18.214940</td>\n",
       "    </tr>\n",
       "    <tr>\n",
       "      <th>Homegrown SGD Train</th>\n",
       "      <td>3.569789</td>\n",
       "      <td>5.157438</td>\n",
       "      <td>17.504671</td>\n",
       "    </tr>\n",
       "    <tr>\n",
       "      <th>Homegrown SGD Test</th>\n",
       "      <td>3.384243</td>\n",
       "      <td>5.304305</td>\n",
       "      <td>18.219417</td>\n",
       "    </tr>\n",
       "    <tr>\n",
       "      <th>SGD L1 Train</th>\n",
       "      <td>5.326335</td>\n",
       "      <td>7.527753</td>\n",
       "      <td>26.159528</td>\n",
       "    </tr>\n",
       "    <tr>\n",
       "      <th>SGD L1 Test</th>\n",
       "      <td>4.852588</td>\n",
       "      <td>7.023904</td>\n",
       "      <td>26.847197</td>\n",
       "    </tr>\n",
       "    <tr>\n",
       "      <th>SGD L2 Train</th>\n",
       "      <td>5.328451</td>\n",
       "      <td>7.491008</td>\n",
       "      <td>26.284852</td>\n",
       "    </tr>\n",
       "    <tr>\n",
       "      <th>SGD L2 Test</th>\n",
       "      <td>4.868255</td>\n",
       "      <td>7.022744</td>\n",
       "      <td>27.008813</td>\n",
       "    </tr>\n",
       "  </tbody>\n",
       "</table>\n",
       "</div>"
      ],
      "text/plain": [
       "                              MAE      RMSE       MAPE\n",
       "Sklearn Train            3.315165  4.652051  16.573489\n",
       "Sklearn Test             3.191509  4.930662  16.880585\n",
       "Homegrown Full GD Train  3.570690  5.148422  17.504468\n",
       "Homegrown Full GD Test   3.384323  5.290366  18.214940\n",
       "Homegrown SGD Train      3.569789  5.157438  17.504671\n",
       "Homegrown SGD Test       3.384243  5.304305  18.219417\n",
       "SGD L1 Train             5.326335  7.527753  26.159528\n",
       "SGD L1 Test              4.852588  7.023904  26.847197\n",
       "SGD L2 Train             5.328451  7.491008  26.284852\n",
       "SGD L2 Test              4.868255  7.022744  27.008813"
      ]
     },
     "execution_count": 448,
     "metadata": {},
     "output_type": "execute_result"
    }
   ],
   "source": [
    "evaluate(models, metrics, samples, metrics_names, models_names)"
   ]
  },
  {
   "cell_type": "code",
   "execution_count": 449,
   "metadata": {
    "collapsed": true
   },
   "outputs": [],
   "source": [
    "class LinearRegressionL2(BasicLinearRegressionHomegrown):\n",
    "    \n",
    "    def __init__(self):\n",
    "        # call the constructor of the parent class\n",
    "        super(LinearRegressionL2, self).__init__()\n",
    "\n",
    "    def _gradL2(self, X, y):\n",
    "        \"\"\"\n",
    "        Calculate the gradient of the objective function\n",
    "\n",
    "        Args:\n",
    "            X(ndarray):        train objects\n",
    "            y(ndarray):        answers for train objects\n",
    "        Return:\n",
    "            gradient(ndarray): analytical gradient vector\n",
    "        \"\"\"\n",
    "        penalty = 0.01\n",
    "        pred = np.dot(X, self._theta)\n",
    "        error = pred - y\n",
    "        gradient = 2 * np.dot(error, X) / X.shape[0] + 2* penalty *self._theta\n",
    "        gradient[0] -= 2* penalty *self._theta[0]   # intercept -- do not regularize\n",
    "        return gradient\n",
    "    \n",
    "       # full gradient descent, i.e., not stochastic gd\n",
    "    def _gd(self, X, y, max_iter, alpha=0.0005):\n",
    "        \"\"\"\n",
    "        Runs GD and logs error, weigths, gradient at every step\n",
    "\n",
    "        Args:\n",
    "            X(ndarray):      train objects\n",
    "            y(ndarray):      answers for train objects\n",
    "            max_iter(int):   number of weight updates\n",
    "            alpha(floar):    step size in direction of gradient\n",
    "        Return:\n",
    "            None\n",
    "        \"\"\"\n",
    "        for i in range(max_iter):\n",
    "            self.history[\"coef\"].append(self._theta[1:].copy())\n",
    "            self.history[\"intercept\"].append(self._theta[0].copy())\n",
    "            \n",
    "            rmse = self.score(X, y)\n",
    "            self.history[\"cost\"].append(rmse)\n",
    "\n",
    "            # calculate gradient\n",
    "            grad = self._gradL2(X, y)\n",
    "            self.history[\"grad\"].append(grad)\n",
    "            \n",
    "            # do gradient step\n",
    "            self._theta -= alpha * grad\n",
    "    "
   ]
  },
  {
   "cell_type": "code",
   "execution_count": 450,
   "metadata": {
    "collapsed": true
   },
   "outputs": [],
   "source": [
    "model_homegrown_L2 = LinearRegressionL2()"
   ]
  },
  {
   "cell_type": "code",
   "execution_count": 451,
   "metadata": {
    "collapsed": false
   },
   "outputs": [
    {
     "data": {
      "text/plain": [
       "<__main__.LinearRegressionL2 at 0x7f5b3d09b550>"
      ]
     },
     "execution_count": 451,
     "metadata": {},
     "output_type": "execute_result"
    }
   ],
   "source": [
    "model_homegrown_L2.fit(X_train, y_train, max_iter=40000)"
   ]
  },
  {
   "cell_type": "code",
   "execution_count": 452,
   "metadata": {
    "collapsed": false
   },
   "outputs": [
    {
     "data": {
      "image/png": "[encoded data removed]",
      "text/plain": [
       "<matplotlib.figure.Figure at 0x7f5b3fe2f5f8>"
      ]
     },
     "metadata": {},
     "output_type": "display_data"
    }
   ],
   "source": [
    "plt.figure(figsize=(10, 8))\n",
    "plt.plot(model_homegrown_L2.history[\"cost\"], label=\"Train\")\n",
    "plt.xlabel(\"Iteration\")\n",
    "plt.ylabel(\"RMSE\")\n",
    "plt.title(\"Linear Regression via Gradient Descent with L2\")\n",
    "plt.legend();"
   ]
  },
  {
   "cell_type": "code",
   "execution_count": 453,
   "metadata": {
    "collapsed": true
   },
   "outputs": [],
   "source": [
    "models = [model_sk, model_homegrown, model_homegrown_sgd, sgd_reg_l1, sgd_reg_l2, model_homegrown_L2]\n",
    "models_names = [\"Sklearn\", \"Homegrown Full GD\", \"Homegrown SGD\", \"SGD L1\", \"SGD L2\", \"GD L2\"]"
   ]
  },
  {
   "cell_type": "code",
   "execution_count": 454,
   "metadata": {
    "collapsed": false
   },
   "outputs": [
    {
     "data": {
      "text/html": [
       "<div>\n",
       "<style>\n",
       "    .dataframe thead tr:only-child th {\n",
       "        text-align: right;\n",
       "    }\n",
       "\n",
       "    .dataframe thead th {\n",
       "        text-align: left;\n",
       "    }\n",
       "\n",
       "    .dataframe tbody tr th {\n",
       "        vertical-align: top;\n",
       "    }\n",
       "</style>\n",
       "<table border=\"1\" class=\"dataframe\">\n",
       "  <thead>\n",
       "    <tr style=\"text-align: right;\">\n",
       "      <th></th>\n",
       "      <th>MAE</th>\n",
       "      <th>RMSE</th>\n",
       "      <th>MAPE</th>\n",
       "    </tr>\n",
       "  </thead>\n",
       "  <tbody>\n",
       "    <tr>\n",
       "      <th>Sklearn Train</th>\n",
       "      <td>3.315165</td>\n",
       "      <td>4.652051</td>\n",
       "      <td>16.573489</td>\n",
       "    </tr>\n",
       "    <tr>\n",
       "      <th>Sklearn Test</th>\n",
       "      <td>3.191509</td>\n",
       "      <td>4.930662</td>\n",
       "      <td>16.880585</td>\n",
       "    </tr>\n",
       "    <tr>\n",
       "      <th>Homegrown Full GD Train</th>\n",
       "      <td>3.570690</td>\n",
       "      <td>5.148422</td>\n",
       "      <td>17.504468</td>\n",
       "    </tr>\n",
       "    <tr>\n",
       "      <th>Homegrown Full GD Test</th>\n",
       "      <td>3.384323</td>\n",
       "      <td>5.290366</td>\n",
       "      <td>18.214940</td>\n",
       "    </tr>\n",
       "    <tr>\n",
       "      <th>Homegrown SGD Train</th>\n",
       "      <td>3.569789</td>\n",
       "      <td>5.157438</td>\n",
       "      <td>17.504671</td>\n",
       "    </tr>\n",
       "    <tr>\n",
       "      <th>Homegrown SGD Test</th>\n",
       "      <td>3.384243</td>\n",
       "      <td>5.304305</td>\n",
       "      <td>18.219417</td>\n",
       "    </tr>\n",
       "    <tr>\n",
       "      <th>SGD L1 Train</th>\n",
       "      <td>5.326335</td>\n",
       "      <td>7.527753</td>\n",
       "      <td>26.159528</td>\n",
       "    </tr>\n",
       "    <tr>\n",
       "      <th>SGD L1 Test</th>\n",
       "      <td>4.852588</td>\n",
       "      <td>7.023904</td>\n",
       "      <td>26.847197</td>\n",
       "    </tr>\n",
       "    <tr>\n",
       "      <th>SGD L2 Train</th>\n",
       "      <td>5.328451</td>\n",
       "      <td>7.491008</td>\n",
       "      <td>26.284852</td>\n",
       "    </tr>\n",
       "    <tr>\n",
       "      <th>SGD L2 Test</th>\n",
       "      <td>4.868255</td>\n",
       "      <td>7.022744</td>\n",
       "      <td>27.008813</td>\n",
       "    </tr>\n",
       "    <tr>\n",
       "      <th>GD L2 Train</th>\n",
       "      <td>3.667903</td>\n",
       "      <td>5.312343</td>\n",
       "      <td>17.685593</td>\n",
       "    </tr>\n",
       "    <tr>\n",
       "      <th>GD L2 Test</th>\n",
       "      <td>3.445185</td>\n",
       "      <td>5.341683</td>\n",
       "      <td>18.347332</td>\n",
       "    </tr>\n",
       "  </tbody>\n",
       "</table>\n",
       "</div>"
      ],
      "text/plain": [
       "                              MAE      RMSE       MAPE\n",
       "Sklearn Train            3.315165  4.652051  16.573489\n",
       "Sklearn Test             3.191509  4.930662  16.880585\n",
       "Homegrown Full GD Train  3.570690  5.148422  17.504468\n",
       "Homegrown Full GD Test   3.384323  5.290366  18.214940\n",
       "Homegrown SGD Train      3.569789  5.157438  17.504671\n",
       "Homegrown SGD Test       3.384243  5.304305  18.219417\n",
       "SGD L1 Train             5.326335  7.527753  26.159528\n",
       "SGD L1 Test              4.852588  7.023904  26.847197\n",
       "SGD L2 Train             5.328451  7.491008  26.284852\n",
       "SGD L2 Test              4.868255  7.022744  27.008813\n",
       "GD L2 Train              3.667903  5.312343  17.685593\n",
       "GD L2 Test               3.445185  5.341683  18.347332"
      ]
     },
     "execution_count": 454,
     "metadata": {},
     "output_type": "execute_result"
    }
   ],
   "source": [
    "evaluate(models, metrics, samples, metrics_names, models_names)"
   ]
  },
  {
   "cell_type": "code",
   "execution_count": 455,
   "metadata": {
    "collapsed": true
   },
   "outputs": [],
   "source": [
    "class LinearRegressionL1(BasicLinearRegressionHomegrown):\n",
    "    \n",
    "    def __init__(self):\n",
    "        # call the constructor of the parent class\n",
    "        super(LinearRegressionL1, self).__init__()\n",
    "\n",
    "    def _gradL1(self, X, y):\n",
    "        \"\"\"\n",
    "        Calculate the gradient of the objective function\n",
    "\n",
    "        Args:\n",
    "            X(ndarray):        train objects\n",
    "            y(ndarray):        answers for train objects\n",
    "        Return:\n",
    "            gradient(ndarray): analytical gradient vector\n",
    "        \"\"\"\n",
    "        penalty = 0.01\n",
    "        lasso = np.ones(self._theta.shape)\n",
    "        lasso[self._theta == 0] = 0\n",
    "        lasso[self._theta < 0] = -1\n",
    "        \n",
    "        pred = np.dot(X, self._theta)\n",
    "        error = pred - y\n",
    "        gradient = 2 * np.dot(error, X) / X.shape[0] + lasso* penalty\n",
    "        gradient[0] -= lasso[0]*penalty   # intercept -- do not regularize\n",
    "        return gradient\n",
    "    \n",
    "       # full gradient descent, i.e., not stochastic gd\n",
    "    def _gd(self, X, y, max_iter, alpha=0.0005):\n",
    "        \"\"\"\n",
    "        Runs GD and logs error, weigths, gradient at every step\n",
    "\n",
    "        Args:\n",
    "            X(ndarray):      train objects\n",
    "            y(ndarray):      answers for train objects\n",
    "            max_iter(int):   number of weight updates\n",
    "            alpha(floar):    step size in direction of gradient\n",
    "        Return:\n",
    "            None\n",
    "        \"\"\"\n",
    "        for i in range(max_iter):\n",
    "            self.history[\"coef\"].append(self._theta[1:].copy())\n",
    "            self.history[\"intercept\"].append(self._theta[0].copy())\n",
    "            \n",
    "            rmse = self.score(X, y)\n",
    "            self.history[\"cost\"].append(rmse)\n",
    "\n",
    "            # calculate gradient\n",
    "            grad = self._gradL1(X, y)\n",
    "            self.history[\"grad\"].append(grad)\n",
    "            \n",
    "            # do gradient step\n",
    "            self._theta -= alpha * grad\n",
    "    "
   ]
  },
  {
   "cell_type": "code",
   "execution_count": 456,
   "metadata": {
    "collapsed": true
   },
   "outputs": [],
   "source": [
    "model_homegrown_L1 = LinearRegressionL1()"
   ]
  },
  {
   "cell_type": "code",
   "execution_count": 457,
   "metadata": {
    "collapsed": false
   },
   "outputs": [
    {
     "data": {
      "text/plain": [
       "<__main__.LinearRegressionL1 at 0x7f5b3d09b588>"
      ]
     },
     "execution_count": 457,
     "metadata": {},
     "output_type": "execute_result"
    }
   ],
   "source": [
    "model_homegrown_L1.fit(X_train, y_train, max_iter=40000)"
   ]
  },
  {
   "cell_type": "code",
   "execution_count": 458,
   "metadata": {
    "collapsed": false
   },
   "outputs": [
    {
     "data": {
      "image/png": "[encoded data removed]",
      "text/plain": [
       "<matplotlib.figure.Figure at 0x7f5b3fed85f8>"
      ]
     },
     "metadata": {},
     "output_type": "display_data"
    }
   ],
   "source": [
    "plt.figure(figsize=(10, 8))\n",
    "plt.plot(model_homegrown_L1.history[\"cost\"], label=\"Train\")\n",
    "plt.xlabel(\"Iteration\")\n",
    "plt.ylabel(\"RMSE\")\n",
    "plt.title(\"Linear Regression via Gradient Descent with L2\")\n",
    "plt.legend();"
   ]
  },
  {
   "cell_type": "code",
   "execution_count": 459,
   "metadata": {
    "collapsed": true
   },
   "outputs": [],
   "source": [
    "models = [model_sk, model_homegrown, model_homegrown_sgd, sgd_reg_l1, sgd_reg_l2, model_homegrown_L2, model_homegrown_L1]\n",
    "models_names = [\"Sklearn\", \"Homegrown Full GD\", \"Homegrown SGD\", \"SGD L1\", \"SGD L2\", \"GD L2\", \"GD L1\"]"
   ]
  },
  {
   "cell_type": "code",
   "execution_count": 460,
   "metadata": {
    "collapsed": false
   },
   "outputs": [
    {
     "data": {
      "text/html": [
       "<div>\n",
       "<style>\n",
       "    .dataframe thead tr:only-child th {\n",
       "        text-align: right;\n",
       "    }\n",
       "\n",
       "    .dataframe thead th {\n",
       "        text-align: left;\n",
       "    }\n",
       "\n",
       "    .dataframe tbody tr th {\n",
       "        vertical-align: top;\n",
       "    }\n",
       "</style>\n",
       "<table border=\"1\" class=\"dataframe\">\n",
       "  <thead>\n",
       "    <tr style=\"text-align: right;\">\n",
       "      <th></th>\n",
       "      <th>MAE</th>\n",
       "      <th>RMSE</th>\n",
       "      <th>MAPE</th>\n",
       "    </tr>\n",
       "  </thead>\n",
       "  <tbody>\n",
       "    <tr>\n",
       "      <th>Sklearn Train</th>\n",
       "      <td>3.315165</td>\n",
       "      <td>4.652051</td>\n",
       "      <td>16.573489</td>\n",
       "    </tr>\n",
       "    <tr>\n",
       "      <th>Sklearn Test</th>\n",
       "      <td>3.191509</td>\n",
       "      <td>4.930662</td>\n",
       "      <td>16.880585</td>\n",
       "    </tr>\n",
       "    <tr>\n",
       "      <th>Homegrown Full GD Train</th>\n",
       "      <td>3.570690</td>\n",
       "      <td>5.148422</td>\n",
       "      <td>17.504468</td>\n",
       "    </tr>\n",
       "    <tr>\n",
       "      <th>Homegrown Full GD Test</th>\n",
       "      <td>3.384323</td>\n",
       "      <td>5.290366</td>\n",
       "      <td>18.214940</td>\n",
       "    </tr>\n",
       "    <tr>\n",
       "      <th>Homegrown SGD Train</th>\n",
       "      <td>3.569789</td>\n",
       "      <td>5.157438</td>\n",
       "      <td>17.504671</td>\n",
       "    </tr>\n",
       "    <tr>\n",
       "      <th>Homegrown SGD Test</th>\n",
       "      <td>3.384243</td>\n",
       "      <td>5.304305</td>\n",
       "      <td>18.219417</td>\n",
       "    </tr>\n",
       "    <tr>\n",
       "      <th>SGD L1 Train</th>\n",
       "      <td>5.326335</td>\n",
       "      <td>7.527753</td>\n",
       "      <td>26.159528</td>\n",
       "    </tr>\n",
       "    <tr>\n",
       "      <th>SGD L1 Test</th>\n",
       "      <td>4.852588</td>\n",
       "      <td>7.023904</td>\n",
       "      <td>26.847197</td>\n",
       "    </tr>\n",
       "    <tr>\n",
       "      <th>SGD L2 Train</th>\n",
       "      <td>5.328451</td>\n",
       "      <td>7.491008</td>\n",
       "      <td>26.284852</td>\n",
       "    </tr>\n",
       "    <tr>\n",
       "      <th>SGD L2 Test</th>\n",
       "      <td>4.868255</td>\n",
       "      <td>7.022744</td>\n",
       "      <td>27.008813</td>\n",
       "    </tr>\n",
       "    <tr>\n",
       "      <th>GD L2 Train</th>\n",
       "      <td>3.667903</td>\n",
       "      <td>5.312343</td>\n",
       "      <td>17.685593</td>\n",
       "    </tr>\n",
       "    <tr>\n",
       "      <th>GD L2 Test</th>\n",
       "      <td>3.445185</td>\n",
       "      <td>5.341683</td>\n",
       "      <td>18.347332</td>\n",
       "    </tr>\n",
       "    <tr>\n",
       "      <th>GD L1 Train</th>\n",
       "      <td>3.567340</td>\n",
       "      <td>5.153776</td>\n",
       "      <td>17.461968</td>\n",
       "    </tr>\n",
       "    <tr>\n",
       "      <th>GD L1 Test</th>\n",
       "      <td>3.385780</td>\n",
       "      <td>5.310392</td>\n",
       "      <td>18.225386</td>\n",
       "    </tr>\n",
       "  </tbody>\n",
       "</table>\n",
       "</div>"
      ],
      "text/plain": [
       "                              MAE      RMSE       MAPE\n",
       "Sklearn Train            3.315165  4.652051  16.573489\n",
       "Sklearn Test             3.191509  4.930662  16.880585\n",
       "Homegrown Full GD Train  3.570690  5.148422  17.504468\n",
       "Homegrown Full GD Test   3.384323  5.290366  18.214940\n",
       "Homegrown SGD Train      3.569789  5.157438  17.504671\n",
       "Homegrown SGD Test       3.384243  5.304305  18.219417\n",
       "SGD L1 Train             5.326335  7.527753  26.159528\n",
       "SGD L1 Test              4.852588  7.023904  26.847197\n",
       "SGD L2 Train             5.328451  7.491008  26.284852\n",
       "SGD L2 Test              4.868255  7.022744  27.008813\n",
       "GD L2 Train              3.667903  5.312343  17.685593\n",
       "GD L2 Test               3.445185  5.341683  18.347332\n",
       "GD L1 Train              3.567340  5.153776  17.461968\n",
       "GD L1 Test               3.385780  5.310392  18.225386"
      ]
     },
     "execution_count": 460,
     "metadata": {},
     "output_type": "execute_result"
    }
   ],
   "source": [
    "evaluate(models, metrics, samples, metrics_names, models_names)"
   ]
  },
  {
   "cell_type": "code",
   "execution_count": 461,
   "metadata": {
    "collapsed": false,
    "scrolled": true
   },
   "outputs": [
    {
     "data": {
      "image/png": "[encoded data removed]",
      "text/plain": [
       "<matplotlib.figure.Figure at 0x7f5b4c7bf198>"
      ]
     },
     "metadata": {},
     "output_type": "display_data"
    }
   ],
   "source": [
    "plt.figure(figsize=(12, 8))\n",
    "plt.bar(np.arange(model_homegrown.coef_.shape[0]) - 0.2, model_homegrown.coef_, width=0.2, label=\"No Reg\")\n",
    "plt.bar(np.arange(model_homegrown_L1.coef_.shape[0]), model_homegrown_L1.coef_, width=0.2, label=\"L1\")\n",
    "plt.bar(np.arange(model_homegrown_L2.coef_.shape[0]) + 0.2, model_homegrown_L2.coef_, width=0.2, label=\"L2\")\n",
    "plt.xticks(np.arange(model_sk.coef_.shape[0]), X.columns, rotation='vertical')\n",
    "plt.xlim([-1, model_sk.coef_.shape[0]])\n",
    "plt.title(\"Model coefficients comparison\");\n",
    "plt.legend();"
   ]
  },
  {
   "cell_type": "markdown",
   "metadata": {},
   "source": [
    "Tried many different values of mixing coefficient. I find that L2 gives smaller value for most of the coefficients compared to L1. But L1 gave smaller set of predictors compared to L2. So an advantage of L1 over L2 other than overfitting is feature selection. "
   ]
  },
  {
   "cell_type": "markdown",
   "metadata": {},
   "source": [
    "# Optional Assignments:"
   ]
  },
  {
   "cell_type": "markdown",
   "metadata": {},
   "source": [
    "## Line Search of the step size\n",
    "Instead of doing a gradient step with the fixed step size ($\\alpha=0.0005$) consider it as a variable after choosing the step directon (gradient one) and try to optimize it. In other words solve analyticaly the following 1D optimization problem:\n",
    "\n",
    "$$\n",
    "f\\left(\\boldsymbol{\\theta}_{t} - \\alpha \\cdot \\nabla f(\\boldsymbol{\\theta}_{t})\\right) \\rightarrow \\min_{\\alpha}\n",
    "$$\n",
    "\n",
    "How does it influence the time in terms of number of iterations?"
   ]
  },
  {
   "cell_type": "code",
   "execution_count": null,
   "metadata": {
    "collapsed": true
   },
   "outputs": [],
   "source": []
  }
 ],
 "metadata": {
  "anaconda-cloud": {},
  "kernelspec": {
   "display_name": "Python 3",
   "language": "python",
   "name": "python3"
  },
  "language_info": {
   "codemirror_mode": {
    "name": "ipython",
    "version": 3
   },
   "file_extension": ".py",
   "mimetype": "text/x-python",
   "name": "python",
   "nbconvert_exporter": "python",
   "pygments_lexer": "ipython3",
   "version": "3.6.0"
  },
  "toc": {
   "nav_menu": {
    "height": "318px",
    "width": "252px"
   },
   "number_sections": true,
   "sideBar": true,
   "skip_h1_title": false,
   "toc_cell": true,
   "toc_position": {
    "height": "389px",
    "left": "0px",
    "right": "789.333px",
    "top": "106px",
    "width": "224px"
   },
   "toc_section_display": "block",
   "toc_window_display": true
  }
 },
 "nbformat": 4,
 "nbformat_minor": 2
}
